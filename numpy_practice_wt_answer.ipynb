{
  "nbformat": 4,
  "nbformat_minor": 0,
  "metadata": {
    "colab": {
      "provenance": [],
      "authorship_tag": "ABX9TyPGtTPpAea4Ps2m95F51j9T",
      "include_colab_link": true
    },
    "kernelspec": {
      "name": "python3",
      "display_name": "Python 3"
    },
    "language_info": {
      "name": "python"
    }
  },
  "cells": [
    {
      "cell_type": "markdown",
      "metadata": {
        "id": "view-in-github",
        "colab_type": "text"
      },
      "source": [
        "<a href=\"https://colab.research.google.com/github/sukjin1/ed/blob/main/numpy_practice_wt_answer.ipynb\" target=\"_parent\"><img src=\"https://colab.research.google.com/assets/colab-badge.svg\" alt=\"Open In Colab\"/></a>"
      ]
    },
    {
      "cell_type": "markdown",
      "source": [
        "inflearn numpy 무료강의 (yjglab) 데이터 과학을 위한 파이썬 NumPy Basic 실습\n",
        "\n",
        "\n"
      ],
      "metadata": {
        "id": "rfyYWAlyE5gO"
      }
    },
    {
      "cell_type": "markdown",
      "source": [
        "N차원 배열 생성"
      ],
      "metadata": {
        "id": "2UreaxbpZQGM"
      }
    },
    {
      "cell_type": "code",
      "execution_count": null,
      "metadata": {
        "colab": {
          "base_uri": "https://localhost:8080/"
        },
        "id": "-Att3_Hz3JLq",
        "outputId": "01a14bd0-f7f8-4f29-8af9-01c2e42de649"
      },
      "outputs": [
        {
          "output_type": "execute_result",
          "data": {
            "text/plain": [
              "array([1, 2, 3, 4])"
            ]
          },
          "metadata": {},
          "execution_count": 2
        }
      ],
      "source": [
        "import numpy as np\n",
        "np.array([1,2,3,4])"
      ]
    },
    {
      "cell_type": "code",
      "source": [
        "a = np.eye(3,4, k=0)\n",
        "print(a)"
      ],
      "metadata": {
        "colab": {
          "base_uri": "https://localhost:8080/"
        },
        "id": "noIkWosCR62k",
        "outputId": "04d1cd55-44ce-4bc5-b5bb-94e44457d666"
      },
      "execution_count": null,
      "outputs": [
        {
          "output_type": "stream",
          "name": "stdout",
          "text": [
            "[[1. 0. 0. 0.]\n",
            " [0. 1. 0. 0.]\n",
            " [0. 0. 1. 0.]]\n"
          ]
        }
      ]
    },
    {
      "cell_type": "code",
      "source": [
        "a = np.eye(3,4, k=1)\n",
        "print(a)"
      ],
      "metadata": {
        "colab": {
          "base_uri": "https://localhost:8080/"
        },
        "id": "RRx03WhTSKRr",
        "outputId": "1eb7ec9f-b967-47a7-91e7-5e8e65bcd130"
      },
      "execution_count": null,
      "outputs": [
        {
          "output_type": "stream",
          "name": "stdout",
          "text": [
            "[[0. 1. 0. 0.]\n",
            " [0. 0. 1. 0.]\n",
            " [0. 0. 0. 1.]]\n"
          ]
        }
      ]
    },
    {
      "cell_type": "code",
      "source": [
        "a = np.eye(3,4, k=2)\n",
        "print(a)"
      ],
      "metadata": {
        "colab": {
          "base_uri": "https://localhost:8080/"
        },
        "id": "6utRDGjgNvxq",
        "outputId": "23777ccf-492f-4b9c-9e94-9b7321e2005a"
      },
      "execution_count": null,
      "outputs": [
        {
          "output_type": "stream",
          "name": "stdout",
          "text": [
            "[[0. 0. 1. 0.]\n",
            " [0. 0. 0. 1.]\n",
            " [0. 0. 0. 0.]]\n"
          ]
        }
      ]
    },
    {
      "cell_type": "code",
      "source": [
        "a.shape"
      ],
      "metadata": {
        "colab": {
          "base_uri": "https://localhost:8080/"
        },
        "id": "z7INI1n8OxmW",
        "outputId": "b7857370-91f2-4873-a7a8-45d2ccfcdb07"
      },
      "execution_count": null,
      "outputs": [
        {
          "output_type": "execute_result",
          "data": {
            "text/plain": [
              "(3, 4)"
            ]
          },
          "metadata": {},
          "execution_count": 5
        }
      ]
    },
    {
      "cell_type": "code",
      "source": [
        "b = np.ones_like(a)\n",
        "print(b)"
      ],
      "metadata": {
        "colab": {
          "base_uri": "https://localhost:8080/"
        },
        "id": "xMFqN2etSnQX",
        "outputId": "e3dd913b-2e55-4e7f-ae3f-2314fe661e75"
      },
      "execution_count": null,
      "outputs": [
        {
          "output_type": "stream",
          "name": "stdout",
          "text": [
            "[[1. 1. 1. 1.]\n",
            " [1. 1. 1. 1.]\n",
            " [1. 1. 1. 1.]]\n"
          ]
        }
      ]
    },
    {
      "cell_type": "code",
      "source": [
        "c = np.zeros_like(a)\n",
        "print(c)"
      ],
      "metadata": {
        "colab": {
          "base_uri": "https://localhost:8080/"
        },
        "id": "RVCAKEHZS3f9",
        "outputId": "0579ccbb-fbcf-4df5-d4d3-2d1aaf80a311"
      },
      "execution_count": null,
      "outputs": [
        {
          "output_type": "stream",
          "name": "stdout",
          "text": [
            "[[0. 0. 0. 0.]\n",
            " [0. 0. 0. 0.]\n",
            " [0. 0. 0. 0.]]\n"
          ]
        }
      ]
    },
    {
      "cell_type": "code",
      "source": [
        "d = np.full_like(a,3)\n",
        "print(d)"
      ],
      "metadata": {
        "colab": {
          "base_uri": "https://localhost:8080/"
        },
        "id": "lk9AILxMTIZQ",
        "outputId": "c7294e13-87bc-452b-e844-fc1acc2767a1"
      },
      "execution_count": null,
      "outputs": [
        {
          "output_type": "stream",
          "name": "stdout",
          "text": [
            "[[3. 3. 3. 3.]\n",
            " [3. 3. 3. 3.]\n",
            " [3. 3. 3. 3.]]\n"
          ]
        }
      ]
    },
    {
      "cell_type": "code",
      "source": [
        " a = np.arange(1,10,2)\n",
        " print(a)"
      ],
      "metadata": {
        "colab": {
          "base_uri": "https://localhost:8080/"
        },
        "id": "XUskt9PnTbde",
        "outputId": "891edd78-5364-4a86-de05-9a00ab08c33e"
      },
      "execution_count": null,
      "outputs": [
        {
          "output_type": "stream",
          "name": "stdout",
          "text": [
            "[1 3 5 7 9]\n"
          ]
        }
      ]
    },
    {
      "cell_type": "code",
      "source": [
        "a = np.linspace(0, 10, 5)\n",
        "print(a)"
      ],
      "metadata": {
        "colab": {
          "base_uri": "https://localhost:8080/"
        },
        "id": "r4tvhDXFaiix",
        "outputId": "9deb632b-63af-4c16-ee1b-e246203a9465"
      },
      "execution_count": null,
      "outputs": [
        {
          "output_type": "stream",
          "name": "stdout",
          "text": [
            "[ 0.   2.5  5.   7.5 10. ]\n"
          ]
        }
      ]
    },
    {
      "cell_type": "code",
      "source": [
        "print(np.linspace(10, 100, 10))"
      ],
      "metadata": {
        "colab": {
          "base_uri": "https://localhost:8080/"
        },
        "id": "fm_3-5R-awLK",
        "outputId": "6df0aafd-0a9f-4c42-8621-763b321803bf"
      },
      "execution_count": null,
      "outputs": [
        {
          "output_type": "stream",
          "name": "stdout",
          "text": [
            "[ 10.  20.  30.  40.  50.  60.  70.  80.  90. 100.]\n"
          ]
        }
      ]
    },
    {
      "cell_type": "code",
      "source": [
        "import matplotlib.pyplot as plt #!pip install matplotlib\n",
        "# 난수로 배열 생성하기 \n",
        "\n",
        "a = np.random.normal(0, 1, 5) # 평균이 0, 표준편차가 1인 정규분포에서 총 5개의 수를 추출\n",
        "print(a)\n",
        "\n",
        "a = np.random.normal(0, 1, (2,3)) # 2 by 3 matrix\n",
        "print(a)\n",
        "\n",
        "a = np.random.normal(0, 1, 100)\n",
        "print(a)\n",
        "plt.hist(a, bins=10)\n"
      ],
      "metadata": {
        "colab": {
          "base_uri": "https://localhost:8080/",
          "height": 884
        },
        "id": "coB-XXvXa_TL",
        "outputId": "660ff844-e806-4259-a763-ef2fc5d75161"
      },
      "execution_count": null,
      "outputs": [
        {
          "output_type": "stream",
          "name": "stdout",
          "text": [
            "[-0.01491165 -0.40617512 -1.19200133  0.38041951  0.98481613]\n",
            "[[ 0.68109652 -0.36255991  0.28314227]\n",
            " [ 1.19683682  0.58988233 -0.28073941]]\n",
            "[-0.32296414 -0.20500889  1.2638811  -0.06084382  0.03713762  0.26755676\n",
            " -1.51383642  0.66704987 -0.37592865  1.23516103  0.69290664  0.86113809\n",
            "  1.63491361 -0.41993949  0.13464057 -0.74551658 -0.59215421 -0.73486894\n",
            "  0.5276859   0.19856307  0.2827497  -0.29451518 -0.07498267 -0.66889754\n",
            " -0.06878293  0.51083584  0.11395908 -0.56229768 -0.27911423 -0.00553677\n",
            " -0.30050281  1.16691346  0.82738933 -1.16444474 -0.28513405  0.67067055\n",
            " -0.993757   -1.49837917  0.27535527 -0.53603746 -0.86682251  0.44255595\n",
            "  0.61348508  0.86282346  1.10455246 -0.65731842 -0.21086301 -1.7664861\n",
            "  0.51891238  2.44974651 -0.6674469  -0.42251911 -0.36223263  0.96708706\n",
            " -0.80046165 -1.08548792 -1.67948526 -0.17410624 -1.07652448 -0.45278386\n",
            "  0.25633643  0.95660424  0.73437415 -1.98762098 -1.37519816 -1.12033555\n",
            "  0.62100145  0.12859143  2.1038298  -0.36158197 -0.34545421  2.17464399\n",
            "  0.30910018  0.71918781 -0.04870617  0.7049889  -1.45961717  0.01574044\n",
            "  0.52517955 -0.11428773 -0.38778572 -0.77292616 -1.10278488 -1.64303586\n",
            " -1.38437891 -0.47870117  0.93784731  0.12724512  0.31299525  0.63317702\n",
            " -0.38924769  0.55040689  1.88441528 -1.10237764 -1.73666129  0.29423206\n",
            " -0.24388203  0.14089963  0.44122313 -0.89842259]\n"
          ]
        },
        {
          "output_type": "execute_result",
          "data": {
            "text/plain": [
              "(array([ 5.,  9., 12., 19., 17., 19., 11.,  3.,  2.,  3.]),\n",
              " array([-1.98762098, -1.54388423, -1.10014748, -0.65641073, -0.21267398,\n",
              "         0.23106277,  0.67479952,  1.11853627,  1.56227302,  2.00600976,\n",
              "         2.44974651]),\n",
              " <BarContainer object of 10 artists>)"
            ]
          },
          "metadata": {},
          "execution_count": 4
        },
        {
          "output_type": "display_data",
          "data": {
            "text/plain": [
              "<Figure size 640x480 with 1 Axes>"
            ],
            "image/png": "[encoded data removed]"
          },
          "metadata": {}
        }
      ]
    },
    {
      "cell_type": "code",
      "source": [
        "#np.rand\n",
        "\n",
        "a = np.random.rand(1000) # 균등한 분포로 1000개의 수를 생성\n",
        "plt.hist(a, bins=100)\n",
        "plt.show()"
      ],
      "metadata": {
        "colab": {
          "base_uri": "https://localhost:8080/",
          "height": 430
        },
        "id": "b_NQuCWfc45Y",
        "outputId": "a60c8c3c-cf72-4a62-b990-61b53baf82d8"
      },
      "execution_count": null,
      "outputs": [
        {
          "output_type": "display_data",
          "data": {
            "text/plain": [
              "<Figure size 640x480 with 1 Axes>"
            ],
            "image/png": "[encoded data removed]"
          },
          "metadata": {}
        }
      ]
    },
    {
      "cell_type": "code",
      "source": [
        "a = np.random.randn(1000) # -1에서 1 사이의 값을 정규분포 형태로 생성\n",
        "print(a)\n",
        "plt.hist(a, bins=100)\n"
      ],
      "metadata": {
        "colab": {
          "base_uri": "https://localhost:8080/",
          "height": 1000
        },
        "id": "snUf1yJbfXit",
        "outputId": "75febe48-0d1a-451f-8136-20c80676f833"
      },
      "execution_count": null,
      "outputs": [
        {
          "output_type": "stream",
          "name": "stdout",
          "text": [
            "[ 1.63460997e+00 -3.06279834e-01 -1.34447732e+00 -4.30476064e-01\n",
            " -8.73693851e-01 -4.15885907e-01  1.63982388e+00 -4.88103441e-01\n",
            " -8.56751110e-01 -2.94081036e-01  7.88509912e-01 -1.14263391e+00\n",
            "  5.36802720e-01  8.97128870e-01 -2.09176054e-01  1.85788488e+00\n",
            " -1.21433328e+00 -1.67111240e+00  5.13976668e-01 -6.56882792e-01\n",
            "  4.52474527e-01 -1.98119361e-01 -6.06643720e-01  3.30019753e-01\n",
            " -1.08238443e+00  3.06993991e-01 -8.54481449e-01 -6.68298173e-02\n",
            " -7.69630214e-01  5.68146548e-01 -1.43346041e+00  4.43926790e-01\n",
            " -3.57800474e-01  6.75633360e-01 -9.42502842e-01  4.00152881e-02\n",
            "  8.84183222e-01  4.48470507e-01 -1.27865899e+00 -3.56126667e-01\n",
            " -5.35147067e-01 -4.56962722e-01 -5.31515577e-01  2.32673914e+00\n",
            "  1.38292408e+00  2.07903522e-01  2.75926590e-01 -5.43293281e-01\n",
            " -1.02238279e+00  5.37116527e-01  6.64433770e-01 -7.28521035e-01\n",
            "  4.39611133e-01  6.58527994e-01 -1.24957550e+00  9.67538783e-01\n",
            "  1.05362677e+00  9.77501673e-01 -1.16624854e+00 -3.31610519e-01\n",
            "  1.74943326e+00 -1.87362794e-02  1.00198318e+00 -5.88425541e-01\n",
            " -1.46891009e+00 -3.66724121e-01 -1.99918578e+00  1.08726775e+00\n",
            " -1.96744638e-01  1.02710350e+00  2.61681158e-02  9.31924507e-01\n",
            "  4.13754849e-01 -5.74633093e-01  8.54424509e-01  1.55562017e+00\n",
            " -4.83784478e-01 -7.58952821e-01 -1.81143075e+00 -1.92782608e+00\n",
            "  2.44846364e-01  1.49258299e+00  1.65931796e+00  1.47684869e+00\n",
            " -9.53036064e-01  3.03202992e-01  2.54260166e-01  4.56461156e-01\n",
            "  1.31676513e-01 -1.32028189e+00  1.06063125e-01  1.05651859e+00\n",
            " -2.89686734e-01 -9.90989557e-01 -1.56199410e-02 -2.99885155e-01\n",
            "  7.92807985e-01 -1.89794368e+00  8.99843490e-01 -1.57920600e-01\n",
            " -1.05904187e+00 -1.29834182e-01  1.39044138e+00 -4.60095255e-01\n",
            " -2.09253793e+00 -6.15979321e-01 -1.45958922e+00  3.95185279e-01\n",
            " -2.26551448e+00  8.94591399e-01 -2.90601749e-01 -3.50128470e-01\n",
            " -5.80195347e-01  6.59496951e-01 -1.82846397e-01 -1.09936864e+00\n",
            "  9.39007257e-01  5.94246854e-01 -2.83248369e-01 -5.45659929e-01\n",
            "  1.76151806e+00  1.89566000e+00  6.83880956e-01  1.49416910e+00\n",
            " -4.46052677e-01 -6.45644071e-01 -6.37807507e-02  1.80378177e+00\n",
            "  3.02060724e-01  1.93117502e+00  5.17553190e-01  8.22775557e-01\n",
            "  1.52642069e+00  8.30842087e-01 -9.47413310e-02  5.11797629e-01\n",
            "  9.29822773e-01 -7.87052192e-01  1.53042405e+00 -2.66460833e+00\n",
            "  1.28364873e+00 -3.08555012e-01  7.71953963e-01  1.59884915e+00\n",
            "  5.06971344e-01 -1.14722579e+00 -4.70766371e-01  3.11656072e-01\n",
            " -1.30451439e+00  1.40809023e+00 -4.06010494e-01 -9.10449690e-01\n",
            "  6.95311200e-01  2.49372830e-01  7.05514014e-01  1.45002409e+00\n",
            "  1.34634979e+00  5.25367112e-01 -3.86515546e-01 -1.33491322e+00\n",
            "  1.44747441e+00 -5.27772938e-01  5.46863949e-01 -5.82742911e-01\n",
            "  2.09330606e-01 -9.74462300e-01  9.01953810e-01  1.84523353e-01\n",
            "  2.24699221e-01  1.44135237e+00  1.72794695e+00 -4.90893017e-01\n",
            " -2.27649778e-01  1.61424968e+00 -9.33025537e-01 -2.91407570e-01\n",
            "  6.80425156e-01  1.61050515e-01  1.12794759e+00 -1.08491210e+00\n",
            " -5.73580380e-01 -4.11668883e-02 -9.50027545e-01 -6.88857666e-01\n",
            "  1.27622793e+00  1.17954353e+00 -1.87499321e-01 -4.73773990e-01\n",
            "  8.70255372e-01 -3.76527501e-01 -1.17497204e+00  6.46079305e-01\n",
            "  2.08182551e-01  1.71688983e+00  1.72215817e+00 -1.32494490e-01\n",
            "  1.58132402e+00  1.07997041e+00 -4.97542450e-01 -1.14704079e-01\n",
            "  1.50875466e+00 -1.16225465e+00  3.28523678e-02  9.84050200e-01\n",
            " -5.75297750e-01  7.70228721e-02  1.88765203e+00  8.94328795e-01\n",
            " -9.61413881e-01 -1.22021090e+00  4.57663068e-01  1.42678945e+00\n",
            " -9.57629545e-01 -5.76342589e-01 -2.03872265e+00  1.16756904e+00\n",
            " -4.59045280e-01  4.25207075e-01 -1.11240246e-01  1.27369786e+00\n",
            "  4.07420022e-01 -2.82675220e-01 -3.42380312e-01  9.28226734e-01\n",
            " -1.82497086e+00  6.04224552e-02 -1.33535018e+00 -2.88392973e-01\n",
            "  7.08156701e-01  5.94055447e-01  2.20767883e-01  2.12955252e+00\n",
            " -2.16785531e-01 -5.06160430e-01 -7.43978075e-01 -1.65862764e+00\n",
            "  1.54153622e+00 -1.78997949e-02  5.51518892e-01 -1.75990307e+00\n",
            "  2.97280260e-01  2.50964469e-01 -7.70521476e-01 -7.71928180e-01\n",
            " -2.95597160e+00  7.53726001e-01  1.51571411e-02  1.65819172e+00\n",
            " -2.29304013e-01  1.62412339e+00 -1.45178371e+00  8.55861489e-01\n",
            "  6.35750778e-01  1.30133826e+00 -3.23919169e-01  5.12895236e-01\n",
            " -9.46392075e-02  1.20306464e+00 -6.27426684e-01 -1.79365036e-01\n",
            "  2.12382877e+00  8.62544479e-01  8.34025331e-01 -1.47245609e+00\n",
            "  1.65611247e-01  3.06947578e-04 -1.94939939e+00 -3.62084613e-01\n",
            " -1.75332093e+00  7.53907237e-01 -1.28099147e+00 -1.36049531e+00\n",
            "  1.55174388e+00  1.60950313e+00 -4.07371945e-01 -2.92693329e-01\n",
            " -8.61883971e-01  1.02582695e+00 -6.87401678e-01 -6.76105798e-02\n",
            "  5.60265229e-01 -7.45594075e-02  1.32962058e+00 -7.72591243e-01\n",
            " -4.23491211e-03  3.00960665e-01 -9.27603912e-02  1.28779961e-02\n",
            " -1.81854207e+00  7.15455982e-01 -1.59790097e+00 -1.32465442e+00\n",
            " -1.02229627e+00 -7.93442194e-01 -1.83266343e-01 -7.70849911e-01\n",
            " -1.36469124e+00 -3.99242508e-01 -3.16238622e+00  3.28298692e-01\n",
            "  2.93592300e-01  1.46696115e+00 -9.67444768e-02 -7.60916844e-01\n",
            " -9.34280353e-01 -1.08416388e+00  1.25496211e+00 -1.76698046e-01\n",
            "  8.97419591e-01 -1.51515449e+00 -1.17009931e+00 -1.48951905e-02\n",
            " -5.62693637e-01  4.36150758e-01  2.57576923e-01 -1.25918938e+00\n",
            "  1.40447347e+00  5.26429925e-01 -2.16422167e+00  1.58518078e-01\n",
            " -2.89138176e-01 -1.20346650e+00 -4.58353822e-01 -1.19806789e+00\n",
            " -1.40859541e+00 -1.34755030e+00  5.16636211e-01  8.17191628e-01\n",
            "  1.75646805e+00  5.15306846e-01  2.05952429e-01  4.18802972e-01\n",
            "  3.47709673e-01 -9.59888431e-01  7.66874387e-01  1.01665949e+00\n",
            " -8.08078512e-01  1.29275389e+00  3.00430335e-01 -1.37227485e+00\n",
            "  9.69632842e-01 -3.14609369e-01 -3.01593136e-01  4.28071557e-02\n",
            " -1.63180799e+00 -1.10810036e+00  2.06202748e+00  9.27786998e-01\n",
            " -2.98906448e+00 -4.40945038e-01  5.20747218e-01 -8.04504544e-01\n",
            "  3.53224655e-01 -2.29509840e-02 -4.12940643e-02 -2.05343847e+00\n",
            " -1.14582475e+00  5.31804814e-01 -7.25052925e-01 -2.17846698e-01\n",
            "  4.87488197e-01  1.51503249e+00 -7.14804383e-01 -1.63061107e-01\n",
            " -8.14514829e-02 -4.79302789e-01  1.38420720e+00 -3.37059560e-01\n",
            " -1.39049050e+00  7.53158277e-01  1.20292396e+00 -1.79019803e+00\n",
            " -1.75137884e+00  9.94973825e-01 -2.23349289e+00  8.61330170e-01\n",
            "  2.53777100e-01  2.30275614e+00 -5.51278151e-01  8.26778853e-01\n",
            "  6.05143328e-01  1.35343130e+00  4.52052598e-01  2.13483449e-01\n",
            "  9.91103759e-02 -1.20348662e+00  1.51041161e+00  7.10736470e-01\n",
            "  1.16067778e-01  6.12084304e-01 -9.02307514e-01 -1.43378514e-01\n",
            "  7.13884754e-01 -2.74251367e-01  5.81773361e-01 -5.29230310e-01\n",
            " -3.66777039e-01 -5.61865099e-01 -3.45077642e-02  2.70595523e-01\n",
            "  7.64928874e-01  8.03018705e-02  5.14305831e-01 -9.19850730e-02\n",
            "  9.22725718e-01  7.73972031e-01 -5.55936816e-01  4.25416965e-01\n",
            "  1.06790139e+00  1.46869316e+00 -3.47622880e-01 -2.53955173e-01\n",
            " -9.17768103e-01 -1.54709374e+00  1.70590286e-01  2.77953384e-02\n",
            "  1.01056943e-01 -5.60427544e-01 -1.14101923e+00  4.31469630e-01\n",
            " -9.44939049e-01 -2.46689385e-03 -2.23131813e-01 -2.01840604e+00\n",
            " -2.21885688e-01 -2.21216456e-01 -1.41977340e+00 -2.21261637e+00\n",
            "  8.82879581e-01  2.21546009e-01  9.78635600e-02  7.59717764e-02\n",
            " -2.03224066e-01  1.02961644e+00 -1.07807061e+00  1.73622040e+00\n",
            "  1.34367308e-01  1.93916376e+00  2.35746752e-01 -1.68658015e+00\n",
            "  2.26403289e+00  1.30689146e+00  4.94014586e-01  8.19950340e-01\n",
            "  9.69915136e-01  5.93133459e-01 -8.26518848e-01  1.54091120e+00\n",
            " -3.32979427e-01 -4.24410881e-02 -1.34453918e+00  2.87131699e-01\n",
            "  1.01790770e+00 -9.14563394e-01 -1.26601865e-01 -1.67324651e-01\n",
            "  3.77791409e-02  1.15971664e+00  1.00587601e+00  2.35422242e-01\n",
            " -7.32966946e-02  4.26564182e-01 -6.13722362e-01  5.74251508e-01\n",
            " -1.88876059e-01 -3.10630763e-01  8.05660075e-01 -2.80010724e+00\n",
            " -8.71960886e-01 -1.88319225e+00  2.19194505e-01  2.19512058e-01\n",
            "  6.18230317e-01  1.14827873e+00 -1.62950688e-01  6.40056260e-01\n",
            "  7.60992822e-02 -7.99922974e-02 -7.12405476e-02 -1.63743213e+00\n",
            "  7.72947181e-01  1.58713537e-01 -3.37031574e-01  2.46858396e-01\n",
            " -2.91211837e+00 -9.73766357e-01  7.08265085e-01 -6.79940165e-01\n",
            "  1.24304992e+00 -2.07908410e+00 -3.06321678e-01 -1.29115960e+00\n",
            " -8.14042707e-01 -2.35047893e-01  4.14184691e-01 -2.53132495e+00\n",
            " -2.29760556e-02  1.21632726e-01 -1.55655532e+00 -1.69670499e+00\n",
            "  2.68243168e-01 -3.07136792e-01  6.07222446e-01  6.38087314e-01\n",
            " -4.75486268e-01  5.09489512e-01 -1.27793534e+00  9.18030810e-01\n",
            "  4.82250554e-01  1.21511582e+00 -6.75953150e-01  6.51521150e-01\n",
            " -7.49956224e-01 -3.56959598e-01 -1.28757704e+00 -4.88321388e-01\n",
            "  3.27943234e-01  1.91731369e-01 -1.55292946e+00 -1.24335926e-01\n",
            " -1.50094590e-01  1.37801238e+00 -3.60273896e-01  5.56074669e-02\n",
            " -1.97062997e-01  5.08980620e-01 -1.72588021e-01  1.20586796e+00\n",
            "  1.56089123e+00  6.57933386e-01 -2.40565623e-01 -1.68701598e+00\n",
            "  1.97787537e-01  7.99776488e-01  3.69008446e-01  4.46265373e-01\n",
            " -3.11819866e-02 -2.17201990e-01 -3.36613035e-01 -3.39718686e-01\n",
            "  1.46336232e+00  7.29178616e-01 -1.09670093e+00  5.57756110e-01\n",
            " -9.41869399e-02  2.17997368e+00  1.21242541e+00 -1.29553690e+00\n",
            " -6.40795163e-02 -4.93114914e-02  5.84059999e-01  1.29656892e+00\n",
            " -1.15154069e+00  9.69265303e-01  1.07025088e+00 -7.27942694e-01\n",
            " -8.90864889e-01 -4.68212269e-01 -7.99523790e-01 -3.97270112e-01\n",
            " -4.64303521e-01  1.72389989e+00 -1.02453782e+00  7.77539242e-01\n",
            " -5.77727744e-01 -2.42119908e-01 -6.77946463e-01 -1.88310838e-03\n",
            " -2.19580236e-02  8.66792220e-01  1.66001261e+00 -7.49795468e-01\n",
            " -5.70644287e-01 -1.36242227e+00  1.31035250e-01  1.33566937e-01\n",
            " -5.42604889e-01 -1.89323379e+00 -5.43471974e-01 -6.86666319e-01\n",
            " -3.07160737e-01 -7.84917282e-01 -5.61880347e-01  1.39916379e+00\n",
            "  8.90130240e-01  6.72787130e-01  1.32002099e-01 -5.36344093e-01\n",
            " -1.08806790e+00 -9.74462101e-01 -4.67126994e-01  5.21187627e-01\n",
            "  2.15639170e-01 -5.76659238e-01  9.95064013e-01 -3.63515365e-01\n",
            " -1.30084320e-01 -8.63967887e-01  4.20188652e-01  9.44624943e-01\n",
            "  1.83972514e-01 -4.67670877e-02 -1.36089719e-01 -1.23418444e+00\n",
            "  2.80361845e-01  7.98340494e-02 -1.16312830e+00  3.35313498e-01\n",
            "  1.74464565e+00  6.71323354e-01  6.75237190e-01  1.09146983e+00\n",
            " -5.21370512e-02 -1.05083320e+00 -7.62155174e-02  2.04563198e-01\n",
            "  1.65823577e-01 -1.92669506e-01 -8.12744041e-01  1.63681186e+00\n",
            "  6.63130257e-02  5.03937058e-01  8.53614463e-01  1.50368577e+00\n",
            " -1.91481947e+00  7.93212651e-01  6.77706877e-01  7.52429624e-01\n",
            " -2.07617918e-01 -2.46805552e+00  2.17467246e+00  1.19611661e+00\n",
            " -4.73982127e-01 -1.39913924e-02  1.63888636e+00 -1.27966265e+00\n",
            "  2.56189544e+00 -2.07876461e+00 -2.18426221e-01 -1.21592113e-01\n",
            "  3.64558296e-01 -9.02702238e-01  1.40015640e+00  1.17950378e+00\n",
            " -1.86739804e+00 -1.64714255e+00 -8.48686778e-01 -2.99913858e-01\n",
            " -1.97270923e+00 -4.53142337e-02 -2.03284385e+00  1.60186633e+00\n",
            " -1.18423593e+00 -7.98773602e-01  2.20112005e-01  1.29402880e-01\n",
            "  1.86654325e-01 -3.16988605e-01  8.17865895e-01  2.65112561e+00\n",
            "  2.27386647e-01 -5.17009562e-01  1.48712210e+00 -2.70517887e-01\n",
            " -1.64822582e-01  8.96689830e-01  1.11371159e-01  4.50057309e-01\n",
            " -1.08475122e+00  3.57512606e-01 -1.23123988e+00 -9.03047542e-01\n",
            "  7.93351160e-01  2.19724483e+00 -2.62654813e-01  9.43588858e-01\n",
            " -5.09381563e-01 -1.51822501e-01 -1.58283272e+00 -8.39845006e-01\n",
            "  4.07883788e-01  2.72983289e-01  3.60384777e-01 -2.65443484e-02\n",
            " -1.05151628e+00  1.03191171e+00 -1.17888332e+00  6.62310283e-01\n",
            "  1.13646929e+00  3.71097444e-02  3.82621036e-02  3.27290776e-01\n",
            " -2.27780201e-01  7.33410460e-02  9.69456034e-01 -1.22732196e-01\n",
            "  1.24727704e+00  2.72542682e+00 -1.64857265e-01 -9.36896879e-01\n",
            "  6.66092195e-01 -3.24680253e-01 -3.67432062e-01 -2.61240605e-01\n",
            " -2.96053466e-01 -2.17149504e+00  1.64665405e+00 -5.34122472e-01\n",
            " -1.42100312e+00 -1.43302859e-01 -1.58617796e+00 -5.02439817e-02\n",
            "  1.30936398e+00 -2.99493583e-01 -2.43676512e-01  1.17187812e-01\n",
            "  8.99698122e-01  9.38919874e-02 -1.09457749e+00 -7.72422892e-01\n",
            "  5.45548355e-01 -7.22456089e-02 -5.91079701e-01 -6.98197773e-01\n",
            " -2.52357889e-01  1.12882173e+00  1.57448936e+00  7.49335751e-01\n",
            "  8.83162711e-01  5.05045643e-01 -3.12234544e-01  5.94597185e-03\n",
            " -7.98068811e-01 -3.25157276e-01  1.52171163e-01  1.01168755e+00\n",
            " -5.31223591e-02 -7.74915630e-01  2.53297014e-01  3.34103351e-01\n",
            " -7.57729339e-01  1.10645465e+00  8.03610711e-01  1.98968090e-01\n",
            "  1.00463591e-01 -1.15951450e+00 -1.49433666e+00 -2.50113723e-01\n",
            " -8.88610008e-02  2.14337302e-01  6.62199742e-01  5.14017749e-01\n",
            "  1.95497426e+00 -1.21466671e+00  2.11437377e-01  1.01633021e-01\n",
            " -6.50295964e-01 -6.50228718e-01 -8.09044077e-01 -3.54627770e-01\n",
            "  5.08348963e-01 -2.00465237e+00  9.61667779e-01  5.48131361e-01\n",
            "  3.59892816e-02 -8.13713366e-01 -1.11869707e+00 -7.13966926e-02\n",
            " -9.56489876e-01  5.17374563e-01 -2.15548772e-01 -8.84063707e-01\n",
            " -6.51438128e-01  3.31032546e-01 -9.97365698e-02  1.69371159e+00\n",
            " -1.04303662e+00 -1.06521338e+00  5.02601787e-01 -5.42281384e-01\n",
            " -2.28496455e-01  8.89224432e-01 -5.52595835e-01 -1.02807178e+00\n",
            "  8.72741013e-01  3.13086444e-01 -6.63929109e-01 -1.20886596e-01\n",
            " -2.01450271e-02  3.13007797e-01  5.18263371e-01  1.19144932e+00\n",
            " -2.84003762e-01  1.20802748e-01 -8.20224602e-01 -8.90670669e-02\n",
            "  4.52188945e-01  8.15553274e-01  9.49585389e-01 -4.88880623e-01\n",
            " -5.28555440e-01 -3.39703586e-01  8.80317223e-01 -1.95844231e+00\n",
            "  6.75388305e-01  5.49564143e-01  8.38450683e-01 -1.24839156e+00\n",
            " -9.18369225e-01  9.09214845e-01  1.02484269e+00 -5.60867884e-01\n",
            " -1.36957044e+00  3.05117719e-01 -1.69682996e+00  1.42944861e-02\n",
            "  1.12464534e+00 -8.69400043e-01 -1.21576685e+00  9.50065212e-01\n",
            "  1.68335263e-01 -1.68091147e+00 -7.39553892e-01 -1.27080157e+00\n",
            "  1.19964064e-01  1.58789321e+00 -1.54029122e+00 -1.09651859e+00\n",
            "  2.32267594e+00  3.74765751e-01  5.36247391e-01  1.29093737e+00\n",
            "  5.00061427e-01  7.81178706e-01 -3.78781487e-01 -4.48876950e-02\n",
            "  3.69906558e-01 -1.11408016e+00 -8.75553767e-01 -1.37951083e+00\n",
            "  1.93837160e-01  1.09087480e-02 -1.60504943e+00  1.01996209e+00\n",
            " -3.19127082e-01 -2.56686368e-01  2.05155525e-01 -8.85775243e-01\n",
            "  1.70024943e+00  2.51372391e-01  6.52134359e-01 -1.34540643e+00\n",
            "  3.17108734e-01 -1.29466485e-01  4.71163478e-01  1.03558291e+00\n",
            " -6.57773862e-01 -1.07737921e+00 -5.78307857e-01  6.53085470e-01\n",
            " -5.91416941e-02 -2.22903232e-01 -1.19242938e-01 -1.66734471e+00\n",
            " -1.84744290e-02 -3.30521863e-01 -1.76985025e+00 -4.55903614e-02\n",
            "  6.41744542e-01  5.15105931e-01  5.50812719e-01 -8.77054059e-01\n",
            "  2.48899324e-01 -1.43424367e+00 -1.27784921e+00  1.46969807e+00\n",
            " -7.75043998e-01  9.08733462e-01  5.54540513e-01 -2.06839857e-01\n",
            "  1.98791045e-01 -1.47810590e-01  1.14724643e-01 -3.05452854e-01\n",
            " -1.57507450e+00  1.47275530e+00 -9.48678502e-01  1.02176795e+00\n",
            "  8.17032942e-01 -5.08953674e-01  7.37684273e-01 -1.18575284e+00\n",
            "  1.28592860e+00 -1.73786524e+00 -3.52078607e-01  7.39268246e-01\n",
            "  5.25296069e-01 -6.34271039e-01 -8.76725772e-01 -7.03293741e-03\n",
            " -6.28077406e-01  9.80237301e-01 -6.02792544e-02  1.21263638e+00\n",
            "  1.60722548e-01 -1.59575731e-01  1.11631780e-01  1.38174124e+00\n",
            " -7.74644693e-01 -2.26886520e-01  1.68325807e+00  1.62432045e-01\n",
            "  1.00899204e-01 -6.08955636e-01  4.50145650e-01  1.62025245e+00\n",
            " -9.27072832e-01 -7.08553700e-01  2.68360724e-01  2.73990604e-01\n",
            " -6.63004358e-01  1.00152890e+00  1.37520857e+00 -2.03664234e-01\n",
            "  3.11909609e-01 -5.84559765e-01 -1.20964515e+00 -8.52886763e-01\n",
            "  5.95744381e-02  3.08724022e-03 -1.44368684e+00 -6.28821891e-01\n",
            "  2.38434455e-02 -5.60014125e-01 -1.51518926e+00 -2.66033137e-02\n",
            " -6.14959512e-01  1.60412745e+00 -8.25417866e-02  1.29746709e+00\n",
            "  9.08443612e-01  1.09528983e+00 -1.16055303e-01  5.27769098e-01\n",
            " -1.72366023e+00 -6.12642445e-01 -1.39503469e+00 -9.49281027e-01\n",
            " -7.34543626e-01 -1.39606139e+00 -7.96476232e-01 -1.58514161e-01\n",
            "  1.90207759e+00  1.65982829e+00  2.17018663e-01 -3.61264891e-01\n",
            "  1.33128894e-01  1.07578584e+00 -1.28858346e+00  6.56396443e-01\n",
            " -2.19531699e+00  3.23975012e-01 -9.57173640e-01  1.51563711e+00\n",
            " -9.95955460e-01  2.11477372e+00  5.68161194e-01  5.29706491e-02\n",
            " -1.38314209e+00 -1.34094780e+00 -1.05589106e+00 -3.55301748e-01\n",
            "  1.21272281e+00  6.36601404e-01 -1.09643943e+00  1.81940393e+00\n",
            " -6.39887285e-01 -7.17663314e-01 -6.58687254e-01 -5.54396748e-01\n",
            "  6.73886167e-01 -1.03649936e-02  7.05844241e-01  5.36516699e-01\n",
            "  5.31806505e-01  1.89866643e+00 -1.30138243e+00 -4.46270140e-01\n",
            "  1.09876334e+00  5.07253858e-01  1.80666986e+00  5.08467050e-01\n",
            "  4.75623832e-01  8.63524972e-04  8.80515878e-02 -2.36653525e-01\n",
            "  8.50051140e-01 -3.32812112e-01 -3.97284043e-01 -1.91556267e+00]\n"
          ]
        },
        {
          "output_type": "execute_result",
          "data": {
            "text/plain": [
              "(array([ 1.,  0.,  1.,  1.,  1.,  0.,  1.,  0.,  1.,  0.,  1.,  1.,  0.,\n",
              "         0.,  0.,  2.,  4.,  0.,  4.,  5.,  4.,  6.,  3.,  5.,  4.,  9.,\n",
              "         5.,  6.,  4.,  8., 14., 13.,  9., 15.,  9., 18.,  6., 18., 16.,\n",
              "        14., 22., 10., 17., 21., 24., 21., 10., 24., 33., 22., 26., 22.,\n",
              "        33., 29., 16., 29., 14., 30., 20., 20., 11., 17., 36., 16., 19.,\n",
              "        18., 15., 17., 22., 15., 17., 13.,  9.,  7., 10., 12.,  3., 11.,\n",
              "        10., 11.,  9., 13.,  6.,  6.,  3.,  4.,  4.,  0.,  1.,  3.,  2.,\n",
              "         1.,  2.,  2.,  0.,  0.,  0.,  1.,  1.,  1.]),\n",
              " array([-3.16238622, -3.10350809, -3.04462996, -2.98575183, -2.9268737 ,\n",
              "        -2.86799557, -2.80911743, -2.7502393 , -2.69136117, -2.63248304,\n",
              "        -2.57360491, -2.51472678, -2.45584865, -2.39697052, -2.33809239,\n",
              "        -2.27921426, -2.22033613, -2.161458  , -2.10257987, -2.04370174,\n",
              "        -1.98482361, -1.92594548, -1.86706735, -1.80818922, -1.74931109,\n",
              "        -1.69043296, -1.63155483, -1.5726767 , -1.51379857, -1.45492044,\n",
              "        -1.39604231, -1.33716418, -1.27828605, -1.21940792, -1.16052979,\n",
              "        -1.10165165, -1.04277352, -0.98389539, -0.92501726, -0.86613913,\n",
              "        -0.807261  , -0.74838287, -0.68950474, -0.63062661, -0.57174848,\n",
              "        -0.51287035, -0.45399222, -0.39511409, -0.33623596, -0.27735783,\n",
              "        -0.2184797 , -0.15960157, -0.10072344, -0.04184531,  0.01703282,\n",
              "         0.07591095,  0.13478908,  0.19366721,  0.25254534,  0.31142347,\n",
              "         0.3703016 ,  0.42917973,  0.48805786,  0.54693599,  0.60581412,\n",
              "         0.66469226,  0.72357039,  0.78244852,  0.84132665,  0.90020478,\n",
              "         0.95908291,  1.01796104,  1.07683917,  1.1357173 ,  1.19459543,\n",
              "         1.25347356,  1.31235169,  1.37122982,  1.43010795,  1.48898608,\n",
              "         1.54786421,  1.60674234,  1.66562047,  1.7244986 ,  1.78337673,\n",
              "         1.84225486,  1.90113299,  1.96001112,  2.01888925,  2.07776738,\n",
              "         2.13664551,  2.19552364,  2.25440177,  2.3132799 ,  2.37215803,\n",
              "         2.43103617,  2.4899143 ,  2.54879243,  2.60767056,  2.66654869,\n",
              "         2.72542682]),\n",
              " <BarContainer object of 100 artists>)"
            ]
          },
          "metadata": {},
          "execution_count": 9
        },
        {
          "output_type": "display_data",
          "data": {
            "text/plain": [
              "<Figure size 640x480 with 1 Axes>"
            ],
            "image/png": "[encoded data removed]"
          },
          "metadata": {}
        }
      ]
    },
    {
      "cell_type": "code",
      "source": [
        "a = np.random.randint(low=1, high=5, size=10)\n",
        "print(a)\n",
        "print(np.random.choice(5, 3)) # Generate a uniform random sample from np.arange(5) of size 3"
      ],
      "metadata": {
        "colab": {
          "base_uri": "https://localhost:8080/"
        },
        "id": "Xuj68e-jgNqU",
        "outputId": "27eb57f2-c6ed-444d-9712-bf96174fd870"
      },
      "execution_count": null,
      "outputs": [
        {
          "output_type": "stream",
          "name": "stdout",
          "text": [
            "[4 4 3 1 1 2 3 2 3 3]\n",
            "[2 1 3]\n"
          ]
        }
      ]
    },
    {
      "cell_type": "code",
      "source": [
        "a = np.random.randint(low=1, high=10, size=(2,3))\n",
        "print(a)\n",
        "\n",
        "print(np.random.randint(10, 100, 100))"
      ],
      "metadata": {
        "colab": {
          "base_uri": "https://localhost:8080/"
        },
        "id": "L9NiGROogb2j",
        "outputId": "0f8e30ee-91c0-4409-9e7a-8d59ae14ef7e"
      },
      "execution_count": null,
      "outputs": [
        {
          "output_type": "stream",
          "name": "stdout",
          "text": [
            "[[8 2 9]\n",
            " [1 3 7]]\n",
            "[13 87 92 84 43 16 75 19 97 85 68 71 63 66 89 76 89 86 51 26 40 48 17 43\n",
            " 47 46 16 54 44 86 96 42 16 36 88 70 80 40 34 99 72 53 28 67 97 99 62 41\n",
            " 75 44 11 48 85 35 24 66 34 59 68 96 87 81 96 62 13 25 35 78 62 64 62 70\n",
            " 93 83 71 60 10 48 42 62 46 39 78 90 99 34 13 24 37 14 70 19 81 57 34 68\n",
            " 47 59 40 97]\n"
          ]
        }
      ]
    },
    {
      "cell_type": "code",
      "source": [
        "a = np.random.rand(10)\n",
        "print(a)\n",
        "\n",
        "b = np.random.rand(10)\n",
        "print(b)\n",
        "\n",
        "print(a==b)"
      ],
      "metadata": {
        "colab": {
          "base_uri": "https://localhost:8080/"
        },
        "id": "anHzoTf5hReD",
        "outputId": "8cd95c25-311f-4d5c-ac45-277bfc01d563"
      },
      "execution_count": null,
      "outputs": [
        {
          "output_type": "stream",
          "name": "stdout",
          "text": [
            "[0.64905575 0.81315436 0.73984834 0.32963467 0.50205338 0.9367209\n",
            " 0.44511846 0.25185123 0.33411614 0.94288504]\n",
            "[0.71790794 0.68955528 0.7680594  0.85112795 0.3759066  0.00244301\n",
            " 0.82079451 0.42236957 0.01847636 0.6802402 ]\n",
            "[False False False False False False False False False False]\n"
          ]
        }
      ]
    },
    {
      "cell_type": "code",
      "source": [
        "np.random.seed(1)\n",
        "a = np.random.rand(10)\n",
        "print(a)\n",
        "\n",
        "np.random.seed(1)\n",
        "b = np.random.rand(10)\n",
        "print(b)\n",
        "\n",
        "print(a==b)"
      ],
      "metadata": {
        "colab": {
          "base_uri": "https://localhost:8080/"
        },
        "id": "6442q-bzhgmu",
        "outputId": "13756ad7-06a0-4400-913d-889c9f4a1c46"
      },
      "execution_count": null,
      "outputs": [
        {
          "output_type": "stream",
          "name": "stdout",
          "text": [
            "[4.17022005e-01 7.20324493e-01 1.14374817e-04 3.02332573e-01\n",
            " 1.46755891e-01 9.23385948e-02 1.86260211e-01 3.45560727e-01\n",
            " 3.96767474e-01 5.38816734e-01]\n",
            "[4.17022005e-01 7.20324493e-01 1.14374817e-04 3.02332573e-01\n",
            " 1.46755891e-01 9.23385948e-02 1.86260211e-01 3.45560727e-01\n",
            " 3.96767474e-01 5.38816734e-01]\n",
            "[ True  True  True  True  True  True  True  True  True  True]\n"
          ]
        }
      ]
    },
    {
      "cell_type": "markdown",
      "source": [
        "N차원 배열의 인덱싱"
      ],
      "metadata": {
        "id": "HXzjk0TbZl9C"
      }
    },
    {
      "cell_type": "code",
      "source": [
        "a = np.array([0,1,2,3,4,5,6,7,8,9])\n",
        "print(a[3])\n",
        "print(a[-1])\n",
        "print(a[:-1])\n",
        "print(a[:-9])\n",
        "print(a[:-10])"
      ],
      "metadata": {
        "colab": {
          "base_uri": "https://localhost:8080/"
        },
        "id": "M75WIM0UhxTp",
        "outputId": "e81d0d9c-4c3e-4b20-96fd-85ad9127456e"
      },
      "execution_count": null,
      "outputs": [
        {
          "output_type": "stream",
          "name": "stdout",
          "text": [
            "3\n",
            "9\n",
            "[0 1 2 3 4 5 6 7 8]\n",
            "[0]\n",
            "[]\n"
          ]
        }
      ]
    },
    {
      "cell_type": "code",
      "source": [
        "a = np.array([[1,2,3,4], \n",
        "              [5,6,7,8], # *2\n",
        "              [9,10,11,12]])\n",
        "print(a, a.shape, a.ndim)\n",
        "print(a[1,2])"
      ],
      "metadata": {
        "colab": {
          "base_uri": "https://localhost:8080/"
        },
        "id": "tVhRPgeJivrQ",
        "outputId": "485f9144-37cf-4d54-95a0-8dafdb5de2c5"
      },
      "execution_count": null,
      "outputs": [
        {
          "output_type": "stream",
          "name": "stdout",
          "text": [
            "[[ 1  2  3  4]\n",
            " [ 5  6  7  8]\n",
            " [ 9 10 11 12]] (3, 4) 2\n",
            "7\n"
          ]
        }
      ]
    },
    {
      "cell_type": "code",
      "source": [
        "print(a[0][1], a[0,1])"
      ],
      "metadata": {
        "colab": {
          "base_uri": "https://localhost:8080/"
        },
        "id": "QYkk9jhVjJrs",
        "outputId": "a4b4cf15-f492-41df-a4bd-af1bab7f96d6"
      },
      "execution_count": null,
      "outputs": [
        {
          "output_type": "stream",
          "name": "stdout",
          "text": [
            "2 2\n"
          ]
        }
      ]
    },
    {
      "cell_type": "code",
      "source": [
        "print(a[1, :])\n",
        "print(a[:2, 2:])"
      ],
      "metadata": {
        "colab": {
          "base_uri": "https://localhost:8080/"
        },
        "id": "1nVWCK-ejqZi",
        "outputId": "f66efdc7-4e7a-4fa2-ac3f-462805affe8f"
      },
      "execution_count": null,
      "outputs": [
        {
          "output_type": "stream",
          "name": "stdout",
          "text": [
            "[5 6 7 8]\n",
            "[[3 4]\n",
            " [7 8]]\n"
          ]
        }
      ]
    },
    {
      "cell_type": "code",
      "source": [
        "a = np.array([1,2,3,4,5,6])\n",
        "print(a[[1,2,4]])\n"
      ],
      "metadata": {
        "colab": {
          "base_uri": "https://localhost:8080/"
        },
        "id": "VYRptauakToc",
        "outputId": "2986e40f-e101-4cd4-cc28-ac343c8ec0f6"
      },
      "execution_count": null,
      "outputs": [
        {
          "output_type": "stream",
          "name": "stdout",
          "text": [
            "[2 3 5]\n"
          ]
        }
      ]
    },
    {
      "cell_type": "code",
      "source": [
        "a = np.array([[1,2,3,4,5], \n",
        "              [6,7,8,9,10],\n",
        "              [11,12,13,14,15]\n",
        "              ])\n",
        "print(a[[1,2], 3:])\n",
        "print(a[ 2:, [1, 3]])\n",
        "print(a[ 2, [1, 3]])  \n",
        "\n",
        "print(a[ 2:, [1, 3]].shape, a[ 2:, [1, 3]].ndim)\n",
        "print(a[ 2, [1, 3]].shape, a[ 2, [1, 3]].ndim)"
      ],
      "metadata": {
        "colab": {
          "base_uri": "https://localhost:8080/"
        },
        "id": "HuXN4G8Ekgnp",
        "outputId": "a6879cf0-8a83-4fad-9974-fb4b6f7acd1e"
      },
      "execution_count": null,
      "outputs": [
        {
          "output_type": "stream",
          "name": "stdout",
          "text": [
            "[[ 9 10]\n",
            " [14 15]]\n",
            "[[12 14]]\n",
            "[12 14]\n",
            "(1, 2) 2\n",
            "(2,) 1\n"
          ]
        }
      ]
    },
    {
      "cell_type": "code",
      "source": [
        "#boolean indexing\n",
        "import numpy as np\n",
        "a = np.array([1,2,3,4,5])\n",
        "print(a[[True, False, False, True, False]])"
      ],
      "metadata": {
        "colab": {
          "base_uri": "https://localhost:8080/"
        },
        "id": "bzhm8WdGl1X2",
        "outputId": "035123c1-9e84-4fbc-ef2d-b409fe58a33d"
      },
      "execution_count": null,
      "outputs": [
        {
          "output_type": "stream",
          "name": "stdout",
          "text": [
            "[1 4]\n"
          ]
        }
      ]
    },
    {
      "cell_type": "code",
      "source": [
        "print(a[a>2])"
      ],
      "metadata": {
        "colab": {
          "base_uri": "https://localhost:8080/"
        },
        "id": "iP2RPSqF-gT9",
        "outputId": "1bc80f70-cf3e-490d-aeed-de037d387eab"
      },
      "execution_count": null,
      "outputs": [
        {
          "output_type": "stream",
          "name": "stdout",
          "text": [
            "[3 4 5]\n"
          ]
        }
      ]
    },
    {
      "cell_type": "markdown",
      "source": [
        "N차원 배열 연산"
      ],
      "metadata": {
        "id": "99TRXpsXZvzR"
      }
    },
    {
      "cell_type": "code",
      "source": [
        "a = np.array([[1,2,3], \n",
        "             [4,5,6], \n",
        "             [7,8,9]])\n",
        "b = np.array([[1,2,3], \n",
        "             [4,5,6], \n",
        "             [7,8,9]])\n",
        "print(a+b)\n",
        "print(np.add(a, b))\n",
        "print(a-b)\n",
        "print(np.subtract(a,b))\n",
        "print(a*b) # element-wise\n",
        "print(np.multiply(a,b))\n",
        "print(a**2)\n",
        "print(np.square(a,b))\n",
        "print(np.sqrt(a))\n",
        "print(a//2)\n",
        "print(a%2)"
      ],
      "metadata": {
        "colab": {
          "base_uri": "https://localhost:8080/"
        },
        "id": "20Q9akW4-zcE",
        "outputId": "dbc0d48e-03f0-4c83-b7e4-c41979bb8d27"
      },
      "execution_count": null,
      "outputs": [
        {
          "output_type": "stream",
          "name": "stdout",
          "text": [
            "[[ 2  4  6]\n",
            " [ 8 10 12]\n",
            " [14 16 18]]\n",
            "[[ 2  4  6]\n",
            " [ 8 10 12]\n",
            " [14 16 18]]\n",
            "[[0 0 0]\n",
            " [0 0 0]\n",
            " [0 0 0]]\n",
            "[[0 0 0]\n",
            " [0 0 0]\n",
            " [0 0 0]]\n",
            "[[ 1  4  9]\n",
            " [16 25 36]\n",
            " [49 64 81]]\n",
            "[[ 1  4  9]\n",
            " [16 25 36]\n",
            " [49 64 81]]\n",
            "[[ 1  4  9]\n",
            " [16 25 36]\n",
            " [49 64 81]]\n",
            "[[ 1  4  9]\n",
            " [16 25 36]\n",
            " [49 64 81]]\n",
            "[[1.         1.41421356 1.73205081]\n",
            " [2.         2.23606798 2.44948974]\n",
            " [2.64575131 2.82842712 3.        ]]\n",
            "[[0 1 1]\n",
            " [2 2 3]\n",
            " [3 4 4]]\n",
            "[[1 0 1]\n",
            " [0 1 0]\n",
            " [1 0 1]]\n"
          ]
        }
      ]
    },
    {
      "cell_type": "code",
      "source": [
        "a1 = np.array([1,2,3])\n",
        "a2 = np.array([2,3,4])\n",
        "\n",
        "print(np.dot(a1,a2))\n",
        "print(np.inner(a1,a2))\n",
        "print(a1@a2)\n",
        "print(a1@a2.T)"
      ],
      "metadata": {
        "colab": {
          "base_uri": "https://localhost:8080/"
        },
        "id": "kBhH4FRy_suH",
        "outputId": "7649a799-e03e-4af0-dae8-ebcb272aab14"
      },
      "execution_count": null,
      "outputs": [
        {
          "output_type": "stream",
          "name": "stdout",
          "text": [
            "20\n",
            "20\n",
            "20\n",
            "20\n"
          ]
        }
      ]
    },
    {
      "cell_type": "code",
      "source": [
        "# 2차원 행렬\n",
        "'''\n",
        "[[a,b] [[e,f] ====> [[ae+bg, af+bh]\n",
        " [c,d]] [g,h]]        [ce+dg, cf+dh]\n",
        "'''\n",
        "\n",
        "a1 = np.array([[1,2], \n",
        "               [4,5]])\n",
        "a2 = np.array([[1,2],\n",
        "               [0,3]])\n",
        "\n",
        "print(np.dot(a1, a2))\n",
        "print(a1@a2)\n",
        "\n"
      ],
      "metadata": {
        "colab": {
          "base_uri": "https://localhost:8080/"
        },
        "id": "T-18gmjDZjJ8",
        "outputId": "d55fe54a-f597-4bf8-dda1-18244da29b2d"
      },
      "execution_count": null,
      "outputs": [
        {
          "output_type": "stream",
          "name": "stdout",
          "text": [
            "[[ 1  8]\n",
            " [ 4 23]]\n",
            "[[ 1  8]\n",
            " [ 4 23]]\n"
          ]
        }
      ]
    },
    {
      "cell_type": "code",
      "source": [
        "#absolute value\n",
        "a1 = np.array([1,-1,2,-3])\n",
        "print(np.abs(a1))"
      ],
      "metadata": {
        "colab": {
          "base_uri": "https://localhost:8080/"
        },
        "id": "nS3eYylTaixZ",
        "outputId": "87941183-ffb0-421b-9b4b-ec5d2a9f8053"
      },
      "execution_count": null,
      "outputs": [
        {
          "output_type": "stream",
          "name": "stdout",
          "text": [
            "[1 1 2 3]\n"
          ]
        }
      ]
    },
    {
      "cell_type": "code",
      "source": [
        "a = np.array([1.567, -2.3443, 5.32])\n",
        "print(np.ceil(a)) #올림\n",
        "print(np.floor(a)) #내림\n",
        "print(np.round(a)) #반올림\n",
        "print(np.trunc(a)) #버림"
      ],
      "metadata": {
        "colab": {
          "base_uri": "https://localhost:8080/"
        },
        "id": "b1MSERrJcTyb",
        "outputId": "cc753ba5-7bd2-49fb-85b5-c4d5c63cdcdf"
      },
      "execution_count": null,
      "outputs": [
        {
          "output_type": "stream",
          "name": "stdout",
          "text": [
            "[ 2. -2.  6.]\n",
            "[ 1. -3.  5.]\n",
            "[ 2. -2.  5.]\n",
            "[ 1. -2.  5.]\n"
          ]
        }
      ]
    },
    {
      "cell_type": "code",
      "source": [
        "import numpy as np\n",
        "a = np.array ([[1,2,3], \n",
        "               [0,1,4]])\n",
        "print(np.min(a))\n",
        "print(a.min())\n",
        "print(a.min(axis=1))\n",
        "print(a.min(axis=0))\n",
        "print(np.max(a, axis=1))\n",
        "print(np.argmax(a))\n",
        "print(np.argmax(a, axis=1))\n",
        "print(np.argmin(a))\n",
        "print(np.sum(a))\n",
        "print(np.mean(a))"
      ],
      "metadata": {
        "colab": {
          "base_uri": "https://localhost:8080/"
        },
        "id": "pVZhpMwacej7",
        "outputId": "fa1c2d7b-ecba-4f14-c741-bce912d4bd97"
      },
      "execution_count": null,
      "outputs": [
        {
          "output_type": "stream",
          "name": "stdout",
          "text": [
            "0\n",
            "0\n",
            "[1 0]\n",
            "[0 1 3]\n",
            "[3 4]\n",
            "5\n",
            "[2 2]\n",
            "3\n",
            "11\n",
            "1.8333333333333333\n"
          ]
        }
      ]
    },
    {
      "cell_type": "code",
      "source": [
        " print(np.mean(a, axis=1)) \n",
        " print(np.std(a))\n",
        " print(np.std(a, axis=1))"
      ],
      "metadata": {
        "colab": {
          "base_uri": "https://localhost:8080/"
        },
        "id": "sB0OvbTfeE4y",
        "outputId": "e918d600-7e4e-4037-8e5f-c947674cb7ab"
      },
      "execution_count": null,
      "outputs": [
        {
          "output_type": "stream",
          "name": "stdout",
          "text": [
            "[2.         1.66666667]\n",
            "1.343709624716425\n",
            "[0.81649658 1.69967317]\n"
          ]
        }
      ]
    },
    {
      "cell_type": "code",
      "source": [
        "print(np.cumsum(a))\n",
        "print(np.cumsum(a, axis=0))"
      ],
      "metadata": {
        "colab": {
          "base_uri": "https://localhost:8080/"
        },
        "id": "XtbCk78fe9Px",
        "outputId": "cb11062d-aee7-485b-abc1-f52617cea8ae"
      },
      "execution_count": null,
      "outputs": [
        {
          "output_type": "stream",
          "name": "stdout",
          "text": [
            "[ 1  3  6  6  7 11]\n",
            "[[1 2 3]\n",
            " [1 3 7]]\n"
          ]
        }
      ]
    },
    {
      "cell_type": "code",
      "source": [
        "print(np.median(a))\n",
        "print(np.median(a, axis=0))"
      ],
      "metadata": {
        "colab": {
          "base_uri": "https://localhost:8080/"
        },
        "id": "gNE7hyQ4fUHg",
        "outputId": "8ad6f6fe-ac09-474a-92fc-be946d161e0d"
      },
      "execution_count": null,
      "outputs": [
        {
          "output_type": "stream",
          "name": "stdout",
          "text": [
            "1.5\n",
            "[0.5 1.5 3.5]\n"
          ]
        }
      ]
    },
    {
      "cell_type": "code",
      "source": [
        "# 비교연산\n",
        "a1 = np.array([[1,2,3],\n",
        "              [4,5,6]])\n",
        "a2 = np.array([[1,2,3],\n",
        "               [2,3,4]])\n",
        "print(a1 == a2)\n",
        "print(a1 > a2)\n",
        "print(np.array_equal(a1, a2))"
      ],
      "metadata": {
        "colab": {
          "base_uri": "https://localhost:8080/"
        },
        "id": "vm315NpMfooJ",
        "outputId": "ce900a68-67cf-410b-e187-d8ee7dde863e"
      },
      "execution_count": null,
      "outputs": [
        {
          "output_type": "stream",
          "name": "stdout",
          "text": [
            "[[ True  True  True]\n",
            " [False False False]]\n",
            "[[False False False]\n",
            " [ True  True  True]]\n",
            "False\n"
          ]
        }
      ]
    },
    {
      "cell_type": "code",
      "source": [
        "print(np.sin(a1))\n",
        "print(np.cos(a1))\n",
        "print(np.tan(a1))"
      ],
      "metadata": {
        "colab": {
          "base_uri": "https://localhost:8080/"
        },
        "id": "MN0l4x5qiOsL",
        "outputId": "6e858ac8-2352-4685-d62b-3b25dc82b5f1"
      },
      "execution_count": null,
      "outputs": [
        {
          "output_type": "stream",
          "name": "stdout",
          "text": [
            "[[ 0.84147098  0.90929743  0.14112001]\n",
            " [-0.7568025  -0.95892427 -0.2794155 ]]\n",
            "[[ 0.54030231 -0.41614684 -0.9899925 ]\n",
            " [-0.65364362  0.28366219  0.96017029]]\n",
            "[[ 1.55740772 -2.18503986 -0.14254654]\n",
            " [ 1.15782128 -3.38051501 -0.29100619]]\n"
          ]
        }
      ]
    },
    {
      "cell_type": "code",
      "source": [
        "print(np.sin(np.pi))\n",
        "print(np.sin(np.pi/2)) \n",
        "print(np.sin(0))"
      ],
      "metadata": {
        "colab": {
          "base_uri": "https://localhost:8080/"
        },
        "id": "Rnf_JpnEisE7",
        "outputId": "394e08cd-6208-443b-82d7-ca454ba11554"
      },
      "execution_count": null,
      "outputs": [
        {
          "output_type": "stream",
          "name": "stdout",
          "text": [
            "1.2246467991473532e-16\n",
            "1.0\n",
            "0.0\n"
          ]
        }
      ]
    },
    {
      "cell_type": "code",
      "source": [
        "#broadcasting\n",
        "a1 = np.array([[0,0,0], \n",
        "              [1,1,1],\n",
        "              [2,2,2]])\n",
        "a2 = np.array([[5,6,7]])\n",
        "a3 = np.array([1])\n",
        "\n",
        "print(a1+a2)\n",
        "print(a1+a3)"
      ],
      "metadata": {
        "colab": {
          "base_uri": "https://localhost:8080/"
        },
        "id": "vDhI7587izVj",
        "outputId": "1a2c95a8-009c-4947-e173-3e06cafc76f0"
      },
      "execution_count": null,
      "outputs": [
        {
          "output_type": "stream",
          "name": "stdout",
          "text": [
            "[[5 6 7]\n",
            " [6 7 8]\n",
            " [7 8 9]]\n",
            "[[1 1 1]\n",
            " [2 2 2]\n",
            " [3 3 3]]\n"
          ]
        }
      ]
    },
    {
      "cell_type": "code",
      "source": [
        "import time \n",
        "a = np.arange(9999999)\n",
        "sum = 0 \n",
        "before = time.time()\n",
        "for i in a:\n",
        "    sum += i\n",
        "after = time.time()\n",
        "print(sum, after - before, \"second\")"
      ],
      "metadata": {
        "colab": {
          "base_uri": "https://localhost:8080/"
        },
        "id": "HW8zlyXYmk_8",
        "outputId": "8f6156a0-bc4c-4ab8-9cf8-46ade7ba11b2"
      },
      "execution_count": null,
      "outputs": [
        {
          "output_type": "stream",
          "name": "stdout",
          "text": [
            "49999985000001 1.6875157356262207 second\n"
          ]
        }
      ]
    },
    {
      "cell_type": "code",
      "source": [
        "before = time.time()\n",
        "sum = np.sum(a)\n",
        "after = time.time()\n",
        "print(sum, after-before, \"second\")"
      ],
      "metadata": {
        "colab": {
          "base_uri": "https://localhost:8080/"
        },
        "id": "3hSYCCDltnoH",
        "outputId": "add1d594-4647-4f65-93da-06afdc97a8be"
      },
      "execution_count": null,
      "outputs": [
        {
          "output_type": "stream",
          "name": "stdout",
          "text": [
            "49999985000001 0.017577648162841797 second\n"
          ]
        }
      ]
    },
    {
      "cell_type": "code",
      "source": [
        "a1 = np.arange(9999999)\n",
        "a2 = np.arange(9999999)\n",
        "\n",
        "before = time.time()\n",
        "sum = 0 \n",
        "for i, j in zip(a1, a2):\n",
        "    sum += i * j\n",
        "after = time.time()\n",
        "\n",
        "print(sum, after-before)"
      ],
      "metadata": {
        "colab": {
          "base_uri": "https://localhost:8080/"
        },
        "id": "eGAicrdAt9Vw",
        "outputId": "14cbba4f-db2e-44ce-91a9-a47969b0db42"
      },
      "execution_count": null,
      "outputs": [
        {
          "output_type": "stream",
          "name": "stderr",
          "text": [
            "<ipython-input-64-7a90333a4f29>:7: RuntimeWarning: overflow encountered in long_scalars\n",
            "  sum += i * j\n"
          ]
        },
        {
          "output_type": "stream",
          "name": "stdout",
          "text": [
            "1291790006583070911 3.1597230434417725\n"
          ]
        }
      ]
    },
    {
      "cell_type": "code",
      "source": [
        "\n",
        "before = time.time()\n",
        "sum = 0 \n",
        "sum = np.dot(a1, a2)\n",
        "after = time.time()\n",
        "\n",
        "print(sum, after-before)"
      ],
      "metadata": {
        "colab": {
          "base_uri": "https://localhost:8080/"
        },
        "id": "TSLMkOtWua4X",
        "outputId": "e1d25b15-9b02-4335-ed60-edef56d0ba30"
      },
      "execution_count": null,
      "outputs": [
        {
          "output_type": "stream",
          "name": "stdout",
          "text": [
            "1291790006583070911 0.02703380584716797\n"
          ]
        }
      ]
    },
    {
      "cell_type": "markdown",
      "source": [
        "N차원 배열 정렬"
      ],
      "metadata": {
        "id": "NvqFmQ_DaG9H"
      }
    },
    {
      "cell_type": "code",
      "source": [
        "a = np.random.randint(10, size=10)\n",
        "print(a)\n",
        "print(np.sort(a))\n",
        "print(np.sort(a)[::-1])\n",
        "a.sort()\n",
        "print(a)"
      ],
      "metadata": {
        "colab": {
          "base_uri": "https://localhost:8080/"
        },
        "id": "EhDxdmq-urAG",
        "outputId": "ec1da1a2-c1d8-4e17-8304-dbc5de955ef6"
      },
      "execution_count": null,
      "outputs": [
        {
          "output_type": "stream",
          "name": "stdout",
          "text": [
            "[9 3 4 8 1 4 0 3 9 2]\n",
            "[0 1 2 3 3 4 4 8 9 9]\n",
            "[9 9 8 4 4 3 3 2 1 0]\n",
            "[0 1 2 3 3 4 4 8 9 9]\n"
          ]
        }
      ]
    },
    {
      "cell_type": "code",
      "source": [
        "a = np.random.randint(15, size=(3,4))\n",
        "print(a)\n",
        "print(np.sort(a))\n",
        "print(np.sort(a, axis = 0))\n",
        "print(np.argsort(a, axis=0))\n",
        "print(np.sort(a, axis = 1))\n",
        "print(np.argsort(a, axis=1))\n",
        "print(np.sort(a, axis = None))"
      ],
      "metadata": {
        "colab": {
          "base_uri": "https://localhost:8080/"
        },
        "id": "ghxu3m4tvAkS",
        "outputId": "35b07793-98a3-4b59-86b5-0652491d0e44"
      },
      "execution_count": null,
      "outputs": [
        {
          "output_type": "stream",
          "name": "stdout",
          "text": [
            "[[ 2  0 13 10]\n",
            " [ 7 12  1  7]\n",
            " [ 9  8 10 12]]\n",
            "[[ 0  2 10 13]\n",
            " [ 1  7  7 12]\n",
            " [ 8  9 10 12]]\n",
            "[[ 2  0  1  7]\n",
            " [ 7  8 10 10]\n",
            " [ 9 12 13 12]]\n",
            "[[0 0 1 1]\n",
            " [1 2 2 0]\n",
            " [2 1 0 2]]\n",
            "[[ 0  2 10 13]\n",
            " [ 1  7  7 12]\n",
            " [ 8  9 10 12]]\n",
            "[[1 0 3 2]\n",
            " [2 0 3 1]\n",
            " [1 0 2 3]]\n",
            "[ 0  1  2  7  7  8  9 10 10 12 12 13]\n"
          ]
        }
      ]
    },
    {
      "cell_type": "code",
      "source": [
        "a = np.random.randint(100, 150, (3,10))\n",
        "print(np.transpose(a))\n",
        "a = np.random.rand(10000) * 10 + 10\n",
        "import matplotlib.pyplot as plt\n",
        "plt.hist(a, bins = 100)\n",
        "plt.show()"
      ],
      "metadata": {
        "colab": {
          "base_uri": "https://localhost:8080/",
          "height": 612
        },
        "id": "xS3ZHmxyGClw",
        "outputId": "7e8bf50f-9065-403c-e67a-1866cfce8594"
      },
      "execution_count": null,
      "outputs": [
        {
          "output_type": "stream",
          "name": "stdout",
          "text": [
            "[[100 118 146]\n",
            " [104 125 121]\n",
            " [145 134 111]\n",
            " [134 138 146]\n",
            " [146 145 126]\n",
            " [101 118 119]\n",
            " [143 137 135]\n",
            " [143 122 139]\n",
            " [134 145 122]\n",
            " [109 107 127]]\n"
          ]
        },
        {
          "output_type": "display_data",
          "data": {
            "text/plain": [
              "<Figure size 640x480 with 1 Axes>"
            ],
            "image/png": "[encoded data removed]"
          },
          "metadata": {}
        }
      ]
    },
    {
      "cell_type": "markdown",
      "source": [
        " N차원 배열의 형태 변경"
      ],
      "metadata": {
        "id": "eKMCYlyoaOyW"
      }
    },
    {
      "cell_type": "code",
      "source": [
        "a = np.arange(12)\n",
        "print(a, a.ndim)"
      ],
      "metadata": {
        "colab": {
          "base_uri": "https://localhost:8080/"
        },
        "id": "D_qhv0qbvlVn",
        "outputId": "6456c4e8-43cc-4ea0-84b2-80733b130499"
      },
      "execution_count": null,
      "outputs": [
        {
          "output_type": "stream",
          "name": "stdout",
          "text": [
            "[ 0  1  2  3  4  5  6  7  8  9 10 11] 1\n",
            "1\n"
          ]
        }
      ]
    },
    {
      "cell_type": "code",
      "source": [
        "b = a.reshape(3,4)\n",
        "print(b, b.ndim)"
      ],
      "metadata": {
        "colab": {
          "base_uri": "https://localhost:8080/"
        },
        "id": "SbHQ5HeLw73W",
        "outputId": "465dc015-136e-4c35-b5c3-bc69493bce27"
      },
      "execution_count": null,
      "outputs": [
        {
          "output_type": "stream",
          "name": "stdout",
          "text": [
            "[[ 0  1  2  3]\n",
            " [ 4  5  6  7]\n",
            " [ 8  9 10 11]] 2\n"
          ]
        },
        {
          "output_type": "execute_result",
          "data": {
            "text/plain": [
              "2"
            ]
          },
          "metadata": {},
          "execution_count": 6
        }
      ]
    },
    {
      "cell_type": "code",
      "source": [
        "c = a.reshape((2,3,2))\n",
        "print(c, c.ndim)"
      ],
      "metadata": {
        "colab": {
          "base_uri": "https://localhost:8080/"
        },
        "id": "6I7VnJenxKDS",
        "outputId": "1b46e1e3-1c4b-4602-b60b-57f6e69beb96"
      },
      "execution_count": null,
      "outputs": [
        {
          "output_type": "stream",
          "name": "stdout",
          "text": [
            "[[[ 0  1]\n",
            "  [ 2  3]\n",
            "  [ 4  5]]\n",
            "\n",
            " [[ 6  7]\n",
            "  [ 8  9]\n",
            "  [10 11]]] 3\n"
          ]
        }
      ]
    },
    {
      "cell_type": "code",
      "source": [
        "d = a.reshape((1,2,2,3))\n",
        "print(d, d.ndim)\n",
        "np.linalg.matrix_rank(d)\n",
        "\n",
        "e = np.array([[1,2,3],\n",
        "              [0,2,2],  # *2\n",
        "              [-1,-2,-1],\n",
        "              [1,-7,-1]])\n",
        "print(np.linalg.matrix_rank(e))\n",
        "print(e.ndim)"
      ],
      "metadata": {
        "colab": {
          "base_uri": "https://localhost:8080/"
        },
        "id": "QtcFnUiRxUP3",
        "outputId": "3a9e227d-c68a-48ab-b837-73e78892cd20"
      },
      "execution_count": null,
      "outputs": [
        {
          "output_type": "stream",
          "name": "stdout",
          "text": [
            "[[[[ 0  1  2]\n",
            "   [ 3  4  5]]\n",
            "\n",
            "  [[ 6  7  8]\n",
            "   [ 9 10 11]]]] 4\n",
            "3\n",
            "2\n"
          ]
        }
      ]
    },
    {
      "cell_type": "code",
      "source": [
        "a = np.arange(12)\n",
        "print(a)\n",
        "a1 = a.reshape((3,4))\n",
        "print(a1)\n",
        "print(a)\n",
        "a.resize(3,4)\n",
        "print(a)"
      ],
      "metadata": {
        "colab": {
          "base_uri": "https://localhost:8080/"
        },
        "id": "FIQERXw0xg3q",
        "outputId": "1882bc7d-865b-4c4d-91c8-889ac0850ada"
      },
      "execution_count": null,
      "outputs": [
        {
          "output_type": "stream",
          "name": "stdout",
          "text": [
            "[ 0  1  2  3  4  5  6  7  8  9 10 11]\n",
            "[[ 0  1  2  3]\n",
            " [ 4  5  6  7]\n",
            " [ 8  9 10 11]]\n",
            "[ 0  1  2  3  4  5  6  7  8  9 10 11]\n",
            "[[ 0  1  2  3]\n",
            " [ 4  5  6  7]\n",
            " [ 8  9 10 11]]\n"
          ]
        }
      ]
    },
    {
      "cell_type": "code",
      "source": [
        "b = a.ravel() # Return a contiguous flattened array\n",
        "print(b)"
      ],
      "metadata": {
        "colab": {
          "base_uri": "https://localhost:8080/"
        },
        "id": "ZOQl62jpyEs3",
        "outputId": "1b32d15b-09e1-4009-8652-9ae2f41c983f"
      },
      "execution_count": null,
      "outputs": [
        {
          "output_type": "stream",
          "name": "stdout",
          "text": [
            "[ 0  1  2  3  4  5  6  7  8  9 10 11]\n"
          ]
        }
      ]
    },
    {
      "cell_type": "code",
      "source": [
        "a = b.reshape(3,-1)\n",
        "print(a)"
      ],
      "metadata": {
        "colab": {
          "base_uri": "https://localhost:8080/"
        },
        "id": "mo_hFNKGyrNf",
        "outputId": "064a4150-4fc5-46aa-ff6a-04c60b5b2918"
      },
      "execution_count": null,
      "outputs": [
        {
          "output_type": "stream",
          "name": "stdout",
          "text": [
            "[[ 0  1  2  3]\n",
            " [ 4  5  6  7]\n",
            " [ 8  9 10 11]]\n"
          ]
        }
      ]
    },
    {
      "cell_type": "code",
      "source": [
        "print(b.reshape(3,4,-1))"
      ],
      "metadata": {
        "colab": {
          "base_uri": "https://localhost:8080/"
        },
        "id": "LoScnLlsy0e8",
        "outputId": "3656d231-1b30-487c-f825-cde62e4ae875"
      },
      "execution_count": null,
      "outputs": [
        {
          "output_type": "stream",
          "name": "stdout",
          "text": [
            "[[[ 0]\n",
            "  [ 1]\n",
            "  [ 2]\n",
            "  [ 3]]\n",
            "\n",
            " [[ 4]\n",
            "  [ 5]\n",
            "  [ 6]\n",
            "  [ 7]]\n",
            "\n",
            " [[ 8]\n",
            "  [ 9]\n",
            "  [10]\n",
            "  [11]]]\n"
          ]
        }
      ]
    },
    {
      "cell_type": "code",
      "source": [
        "print(b.reshape(-1,-1))"
      ],
      "metadata": {
        "colab": {
          "base_uri": "https://localhost:8080/",
          "height": 172
        },
        "id": "QJDUNuRVzFbu",
        "outputId": "451b5cc4-8f3d-4ac6-8f43-581a32d9eca5"
      },
      "execution_count": null,
      "outputs": [
        {
          "output_type": "error",
          "ename": "ValueError",
          "evalue": "ignored",
          "traceback": [
            "\u001b[0;31m---------------------------------------------------------------------------\u001b[0m",
            "\u001b[0;31mValueError\u001b[0m                                Traceback (most recent call last)",
            "\u001b[0;32m<ipython-input-96-7b292f4b02f7>\u001b[0m in \u001b[0;36m<cell line: 1>\u001b[0;34m()\u001b[0m\n\u001b[0;32m----> 1\u001b[0;31m \u001b[0mprint\u001b[0m\u001b[0;34m(\u001b[0m\u001b[0mb\u001b[0m\u001b[0;34m.\u001b[0m\u001b[0mreshape\u001b[0m\u001b[0;34m(\u001b[0m\u001b[0;34m-\u001b[0m\u001b[0;36m1\u001b[0m\u001b[0;34m,\u001b[0m\u001b[0;34m-\u001b[0m\u001b[0;36m1\u001b[0m\u001b[0;34m)\u001b[0m\u001b[0;34m)\u001b[0m\u001b[0;34m\u001b[0m\u001b[0;34m\u001b[0m\u001b[0m\n\u001b[0m",
            "\u001b[0;31mValueError\u001b[0m: can only specify one unknown dimension"
          ]
        }
      ]
    },
    {
      "cell_type": "code",
      "source": [
        "# expand_dims()\n",
        "a = np.array([1,2])\n",
        "print(a, a.ndim)"
      ],
      "metadata": {
        "colab": {
          "base_uri": "https://localhost:8080/"
        },
        "id": "pyRcP6tqzIuZ",
        "outputId": "777114de-c2f3-43fc-e4f1-a54e6ef6ec2a"
      },
      "execution_count": null,
      "outputs": [
        {
          "output_type": "stream",
          "name": "stdout",
          "text": [
            "[1 2] 1\n"
          ]
        }
      ]
    },
    {
      "cell_type": "code",
      "source": [
        "b = np.expand_dims(a, axis=0)\n",
        "print(b, b.ndim)"
      ],
      "metadata": {
        "colab": {
          "base_uri": "https://localhost:8080/"
        },
        "id": "znRpTQ3kzXv8",
        "outputId": "67463c29-8db3-40a2-9940-a6210ed5226a"
      },
      "execution_count": null,
      "outputs": [
        {
          "output_type": "stream",
          "name": "stdout",
          "text": [
            "[[1 2]] 2\n"
          ]
        }
      ]
    },
    {
      "cell_type": "code",
      "source": [
        "c = np.expand_dims(a, axis=1)\n",
        "print(c, c.ndim, c.shape)\n",
        "d = np.expand_dims(a, axis = 0)\n",
        "print(d, d.ndim, d.shape)"
      ],
      "metadata": {
        "colab": {
          "base_uri": "https://localhost:8080/"
        },
        "id": "BQOmjddszclm",
        "outputId": "1078548f-ab63-45cf-f822-507677156040"
      },
      "execution_count": null,
      "outputs": [
        {
          "output_type": "stream",
          "name": "stdout",
          "text": [
            "[[1]\n",
            " [2]] 2 (2, 1)\n",
            "[[1 2]] 2 (1, 2)\n"
          ]
        }
      ]
    },
    {
      "cell_type": "code",
      "source": [
        "s = np.squeeze(c, axis=1)\n",
        "print(s, s.ndim, s.shape )"
      ],
      "metadata": {
        "colab": {
          "base_uri": "https://localhost:8080/"
        },
        "id": "JQCFh4g5znTC",
        "outputId": "d2f1781e-f3d9-45e8-f7f3-4e39c9ac45a1"
      },
      "execution_count": null,
      "outputs": [
        {
          "output_type": "stream",
          "name": "stdout",
          "text": [
            "[1 2] 1 (2,)\n"
          ]
        }
      ]
    },
    {
      "cell_type": "code",
      "source": [
        "s2 = np.squeeze(d, axis=0)\n",
        "print(s2, s2.ndim, s2.shape)"
      ],
      "metadata": {
        "colab": {
          "base_uri": "https://localhost:8080/"
        },
        "id": "rv4DSHgaz30V",
        "outputId": "fd46539c-49ec-4f92-9142-798e2fcbfe21"
      },
      "execution_count": null,
      "outputs": [
        {
          "output_type": "stream",
          "name": "stdout",
          "text": [
            "[1 2] 1 (2,)\n"
          ]
        }
      ]
    },
    {
      "cell_type": "code",
      "source": [
        "s3 = np.squeeze(d)\n",
        "print(s3, s3.ndim, s3.shape)"
      ],
      "metadata": {
        "colab": {
          "base_uri": "https://localhost:8080/"
        },
        "id": "hfLhTAvQ1zfr",
        "outputId": "c217885d-3032-4bad-f83e-56b0b4ec0dc7"
      },
      "execution_count": null,
      "outputs": [
        {
          "output_type": "stream",
          "name": "stdout",
          "text": [
            "[1 2] 1 (2,)\n"
          ]
        }
      ]
    },
    {
      "cell_type": "markdown",
      "source": [
        " N차원 배열의 병합"
      ],
      "metadata": {
        "id": "bQi1DY-Baf6A"
      }
    },
    {
      "cell_type": "code",
      "source": [
        " import numpy as np\n",
        " a = np.array([[1,2], \n",
        "               [3,4],\n",
        "               ])\n",
        " a1 = np.array([[1,2], \n",
        "               [3,4],\n",
        "               [5,6]\n",
        "               ])\n",
        " print(a.T)\n",
        " print(a1.T)"
      ],
      "metadata": {
        "colab": {
          "base_uri": "https://localhost:8080/"
        },
        "id": "TiAiufbI5kZe",
        "outputId": "79bec8ba-8bf4-4ef9-8614-671fc5ec1c67"
      },
      "execution_count": null,
      "outputs": [
        {
          "output_type": "stream",
          "name": "stdout",
          "text": [
            "[[1 3]\n",
            " [2 4]]\n",
            "[[1 3 5]\n",
            " [2 4 6]]\n"
          ]
        }
      ]
    },
    {
      "cell_type": "code",
      "source": [
        "print(np.dot(a, a1.T))\n",
        "# print(np.dot(a, a1)) error\n",
        "print(a.shape, a1.shape, a1.T.shape)\n"
      ],
      "metadata": {
        "colab": {
          "base_uri": "https://localhost:8080/"
        },
        "id": "jFhWmjxm6f-s",
        "outputId": "2a2e52a9-a9ca-4608-e145-85a3812f4793"
      },
      "execution_count": null,
      "outputs": [
        {
          "output_type": "stream",
          "name": "stdout",
          "text": [
            "[[ 5 11 17]\n",
            " [11 25 39]]\n",
            "(2, 2) (3, 2) (2, 3)\n"
          ]
        }
      ]
    },
    {
      "cell_type": "code",
      "source": [
        "a = [1,2,3,4,5,6,7,8]\n",
        "a.insert(2,50)\n",
        "print(a)"
      ],
      "metadata": {
        "colab": {
          "base_uri": "https://localhost:8080/"
        },
        "id": "_eiLHl7t7hsm",
        "outputId": "4dee5df9-b8fd-4452-f3c1-54480baad08e"
      },
      "execution_count": null,
      "outputs": [
        {
          "output_type": "stream",
          "name": "stdout",
          "text": [
            "[1, 2, 50, 3, 4, 5, 6, 7, 8]\n"
          ]
        }
      ]
    },
    {
      "cell_type": "code",
      "source": [
        "a = np.arange(1,9)\n",
        "print(a)\n",
        "b = np.insert(a,2,50)\n",
        "print(b)"
      ],
      "metadata": {
        "colab": {
          "base_uri": "https://localhost:8080/"
        },
        "id": "yK055gry_R8C",
        "outputId": "6baf4eb1-243a-407e-c7ed-212ca25572d4"
      },
      "execution_count": null,
      "outputs": [
        {
          "output_type": "stream",
          "name": "stdout",
          "text": [
            "[1 2 3 4 5 6 7 8]\n",
            "[ 1  2 50  3  4  5  6  7  8]\n"
          ]
        }
      ]
    },
    {
      "cell_type": "code",
      "source": [
        "a = np.arange(1,13).reshape(3,-1)\n",
        "print(a)\n",
        "b = np.insert(a, 2, 50, axis=0)\n",
        "print(b)\n",
        "c = np.insert(a, 2, 50, axis=1)\n",
        "print(c)"
      ],
      "metadata": {
        "colab": {
          "base_uri": "https://localhost:8080/"
        },
        "id": "5ZaGrWKj_c6-",
        "outputId": "86c5572f-dacd-48c9-ceea-aaa7cfe53640"
      },
      "execution_count": null,
      "outputs": [
        {
          "output_type": "stream",
          "name": "stdout",
          "text": [
            "[[ 1  2  3  4]\n",
            " [ 5  6  7  8]\n",
            " [ 9 10 11 12]]\n",
            "[[ 1  2  3  4]\n",
            " [ 5  6  7  8]\n",
            " [50 50 50 50]\n",
            " [ 9 10 11 12]]\n",
            "[[ 1  2 50  3  4]\n",
            " [ 5  6 50  7  8]\n",
            " [ 9 10 50 11 12]]\n"
          ]
        }
      ]
    },
    {
      "cell_type": "code",
      "source": [
        "d = np.delete(c, 2, axis=0)\n",
        "print(d)"
      ],
      "metadata": {
        "colab": {
          "base_uri": "https://localhost:8080/"
        },
        "id": "xGoQh2xKAAvd",
        "outputId": "74ca1f94-d504-4a5b-b82b-6b55f51c11a7"
      },
      "execution_count": null,
      "outputs": [
        {
          "output_type": "stream",
          "name": "stdout",
          "text": [
            "[[ 1  2 50  3  4]\n",
            " [ 5  6 50  7  8]]\n"
          ]
        }
      ]
    },
    {
      "cell_type": "code",
      "source": [
        "a1 = np.arange(1,13).reshape(3,4)\n",
        "a2 = np.arange(13,25).reshape(3,4)\n",
        "print(a1)\n",
        "print(a2)"
      ],
      "metadata": {
        "colab": {
          "base_uri": "https://localhost:8080/"
        },
        "id": "TMhwqAbU_tdC",
        "outputId": "4127e568-7ffd-485b-d325-8192f99eaea0"
      },
      "execution_count": null,
      "outputs": [
        {
          "output_type": "stream",
          "name": "stdout",
          "text": [
            "[[ 1  2  3  4]\n",
            " [ 5  6  7  8]\n",
            " [ 9 10 11 12]]\n",
            "[[13 14 15 16]\n",
            " [17 18 19 20]\n",
            " [21 22 23 24]]\n"
          ]
        }
      ]
    },
    {
      "cell_type": "code",
      "source": [
        "a3 = np.append(a1,a2, axis=0)\n",
        "a4 = np.vstack((a1,a2))\n",
        "print(a3)\n",
        "print(a4)\n",
        "a5 = np.append(a1,a2, axis=1)\n",
        "a6 = np.hstack((a1,a2))\n",
        "print(a5)\n",
        "print(a6)\n"
      ],
      "metadata": {
        "colab": {
          "base_uri": "https://localhost:8080/"
        },
        "id": "zR0tDRa2AmnR",
        "outputId": "6ee4f912-8d0a-4977-a146-90b82c4f6f68"
      },
      "execution_count": null,
      "outputs": [
        {
          "output_type": "stream",
          "name": "stdout",
          "text": [
            "[[ 1  2  3  4]\n",
            " [ 5  6  7  8]\n",
            " [ 9 10 11 12]\n",
            " [13 14 15 16]\n",
            " [17 18 19 20]\n",
            " [21 22 23 24]]\n",
            "[[ 1  2  3  4]\n",
            " [ 5  6  7  8]\n",
            " [ 9 10 11 12]\n",
            " [13 14 15 16]\n",
            " [17 18 19 20]\n",
            " [21 22 23 24]]\n",
            "[[ 1  2  3  4 13 14 15 16]\n",
            " [ 5  6  7  8 17 18 19 20]\n",
            " [ 9 10 11 12 21 22 23 24]]\n",
            "[[ 1  2  3  4 13 14 15 16]\n",
            " [ 5  6  7  8 17 18 19 20]\n",
            " [ 9 10 11 12 21 22 23 24]]\n"
          ]
        }
      ]
    },
    {
      "cell_type": "code",
      "source": [
        "a7 = np.concatenate([a1, a2], axis=1)\n",
        "print(a7)"
      ],
      "metadata": {
        "colab": {
          "base_uri": "https://localhost:8080/"
        },
        "id": "wxt6umbiA7a1",
        "outputId": "e2f051f4-eec4-4568-d34c-baf97034c1af"
      },
      "execution_count": null,
      "outputs": [
        {
          "output_type": "stream",
          "name": "stdout",
          "text": [
            "[[ 1  2  3  4 13 14 15 16]\n",
            " [ 5  6  7  8 17 18 19 20]\n",
            " [ 9 10 11 12 21 22 23 24]]\n"
          ]
        }
      ]
    },
    {
      "cell_type": "code",
      "source": [
        "a = np.array([[1,2,3,4], \n",
        "              [5,6,7,8],\n",
        "              [9,10,11,12]]\n",
        "             )\n",
        "b = a[(a%2 == 0)]\n",
        "c = a[(a%5 == 0)]\n",
        "print(b, type(b))\n",
        "print(c, type(c))\n",
        "\n",
        "print(np.sort(np.concatenate((b,c))).reshape(2,4))"
      ],
      "metadata": {
        "id": "YLpBT6baE73M"
      },
      "execution_count": null,
      "outputs": []
    },
    {
      "cell_type": "code",
      "source": [
        "#배열을 분할\n",
        "a = np.arange(1,13).reshape(3, -1)"
      ],
      "metadata": {
        "id": "tlSkaItxBhxz"
      },
      "execution_count": null,
      "outputs": []
    },
    {
      "cell_type": "code",
      "source": [
        "print(a)\n",
        "a_split = np.vsplit(a, 3)\n",
        "print(a_split)"
      ],
      "metadata": {
        "colab": {
          "base_uri": "https://localhost:8080/"
        },
        "id": "8g5Ee2CBB6F3",
        "outputId": "f68b46df-0936-45b7-b96e-e00b7448f521"
      },
      "execution_count": null,
      "outputs": [
        {
          "output_type": "stream",
          "name": "stdout",
          "text": [
            "[[ 1  2  3  4]\n",
            " [ 5  6  7  8]\n",
            " [ 9 10 11 12]]\n",
            "[array([[1, 2, 3, 4]]), array([[5, 6, 7, 8]]), array([[ 9, 10, 11, 12]])]\n"
          ]
        }
      ]
    },
    {
      "cell_type": "code",
      "source": [
        "a_split2 = np.hsplit(a,2)\n",
        "print(a_split2)"
      ],
      "metadata": {
        "colab": {
          "base_uri": "https://localhost:8080/"
        },
        "id": "axOskCozCDk1",
        "outputId": "fa0be74a-1c52-40b7-ff86-51455986f2f8"
      },
      "execution_count": null,
      "outputs": [
        {
          "output_type": "stream",
          "name": "stdout",
          "text": [
            "[array([[ 1,  2],\n",
            "       [ 5,  6],\n",
            "       [ 9, 10]]), array([[ 3,  4],\n",
            "       [ 7,  8],\n",
            "       [11, 12]])]\n"
          ]
        }
      ]
    },
    {
      "cell_type": "code",
      "source": [
        "# 원소가 모두 3인 (3,4,5) 출력\n",
        "a = np.(, )"
      ],
      "metadata": {
        "id": "oarTSUNOCXq_"
      },
      "execution_count": null,
      "outputs": []
    },
    {
      "cell_type": "code",
      "source": [
        "print(a)"
      ],
      "metadata": {
        "colab": {
          "base_uri": "https://localhost:8080/"
        },
        "id": "g2aVM8BCDUpM",
        "outputId": "36f614f4-e4de-41c6-ac24-09c4f091257e"
      },
      "execution_count": null,
      "outputs": [
        {
          "output_type": "stream",
          "name": "stdout",
          "text": [
            "[[[3 3 3 3 3]\n",
            "  [3 3 3 3 3]\n",
            "  [3 3 3 3 3]\n",
            "  [3 3 3 3 3]]\n",
            "\n",
            " [[3 3 3 3 3]\n",
            "  [3 3 3 3 3]\n",
            "  [3 3 3 3 3]\n",
            "  [3 3 3 3 3]]\n",
            "\n",
            " [[3 3 3 3 3]\n",
            "  [3 3 3 3 3]\n",
            "  [3 3 3 3 3]\n",
            "  [3 3 3 3 3]]]\n"
          ]
        }
      ]
    },
    {
      "cell_type": "code",
      "source": [
        "# -50 에서 50 사이의 난수(정수)로 이루어진 (4,5) 형태의 numpy.array를 출력하고 \n",
        "# 행을 기준으로 오름차순 정렬한 결과와 전체 배열을 1차원 배열로 변경하여 오름차순 정렬한 결과를 출력하시요. \n",
        "\n",
        "a = np.random.(, , ))\n",
        "print(a)\n",
        "b = np.(a, axis = )\n",
        "print(b)\n",
        "print(np.(a, axis=))\n"
      ],
      "metadata": {
        "colab": {
          "base_uri": "https://localhost:8080/"
        },
        "id": "NOaPSFTDDXRc",
        "outputId": "241a80d8-67d8-404e-bfa1-d39f3f3d301c"
      },
      "execution_count": null,
      "outputs": [
        {
          "output_type": "stream",
          "name": "stdout",
          "text": [
            "[[ 46  33 -25 -36 -37]\n",
            " [ 34  -7 -44  27   6]\n",
            " [  9 -35 -26 -41  16]\n",
            " [ 21   3  19 -14 -29]]\n",
            "[[  9 -35 -44 -41 -37]\n",
            " [ 21  -7 -26 -36 -29]\n",
            " [ 34   3 -25 -14   6]\n",
            " [ 46  33  19  27  16]]\n",
            "[-44 -41 -37 -36 -35 -29 -26 -25 -14  -7   3   6   9  16  19  21  27  33\n",
            "  34  46]\n"
          ]
        }
      ]
    },
    {
      "cell_type": "code",
      "source": [
        "#list 안에 있는 각 numpy.array 원소들의 평균값, 표준편차, 중앙값을 순서대로 구해서 리스트에 넣어 출력\n",
        "\n",
        "py_list = [\n",
        "    np.full(3,8),\n",
        "    np.array([33,-15,26]),\n",
        "    np.linspace(17,26,3)\n",
        "]\n",
        "print(py_list)\n",
        "\n",
        "print(np.sort(py_list, axis=None))\n",
        "print(np.mean(np.sort(py_list, axis=None)))\n",
        "print(np.mean(py_list))\n",
        "print(np.std(py_list))\n",
        "print(np.median (py_list))\n"
      ],
      "metadata": {
        "colab": {
          "base_uri": "https://localhost:8080/"
        },
        "id": "5xYBP4FaEca4",
        "outputId": "12b32c72-9a72-4b14-c428-bd81e627e2e8"
      },
      "execution_count": null,
      "outputs": [
        {
          "output_type": "stream",
          "name": "stdout",
          "text": [
            "[array([8, 8, 8]), array([ 33, -15,  26]), array([17. , 21.5, 26. ])]\n",
            "[-15.    8.    8.    8.   17.   21.5  26.   26.   33. ]\n",
            "14.722222222222221\n",
            "14.722222222222221\n",
            "13.57512248995507\n",
            "17.0\n"
          ]
        }
      ]
    },
    {
      "cell_type": "code",
      "source": [
        "all_list = []\n",
        "#for ele_list in :\n",
        "    # all_list.append([np.(ele_list), \n",
        "    #                  np.(ele_list), \n",
        "    #                  np.(ele_list)])\n",
        "\n",
        "print(all_list)"
      ],
      "metadata": {
        "colab": {
          "base_uri": "https://localhost:8080/"
        },
        "id": "lmGopJG_GRZL",
        "outputId": "ca516bad-494a-46a3-8038-354a5b78e61d"
      },
      "execution_count": null,
      "outputs": [
        {
          "output_type": "stream",
          "name": "stdout",
          "text": [
            "[[8.0, 0.0, 8.0], [14.666666666666666, 21.171259344267224, 26.0], [21.5, 3.6742346141747673, 21.5]]\n"
          ]
        }
      ]
    },
    {
      "cell_type": "code",
      "source": [
        "a = np.arange(2,20,2).reshape((3,3))\n",
        "print(a)\n",
        "\n",
        "# 주어진 리스트를 행을 기준으로 3개로 나눈후에 \n",
        "# 나누어진 값의 각 원소의 제곱값을 원래 리스트에 행을 기준으로 병합 \n",
        "\n",
        "#b = np.split(a, , axis=)\n",
        "#print(b)\n",
        "#c = np.(b)\n",
        "#print(c)\n",
        "#d = np.(c, axis=1)\n",
        "#print(d)\n",
        "#e = np.((a, d), axis=)\n",
        "#print(e, a.shape, e.shape)"
      ],
      "metadata": {
        "colab": {
          "base_uri": "https://localhost:8080/"
        },
        "id": "_uXtBLwoGx0Q",
        "outputId": "f655c7d7-37e3-4f04-f80f-bfc512e25616"
      },
      "execution_count": null,
      "outputs": [
        {
          "output_type": "stream",
          "name": "stdout",
          "text": [
            "[[ 2  4  6]\n",
            " [ 8 10 12]\n",
            " [14 16 18]]\n",
            "[array([[2, 4, 6]]), array([[ 8, 10, 12]]), array([[14, 16, 18]])]\n",
            "[[[  4  16  36]]\n",
            "\n",
            " [[ 64 100 144]]\n",
            "\n",
            " [[196 256 324]]]\n",
            "[[  4  16  36]\n",
            " [ 64 100 144]\n",
            " [196 256 324]]\n",
            "[[  2   4   6]\n",
            " [  8  10  12]\n",
            " [ 14  16  18]\n",
            " [  4  16  36]\n",
            " [ 64 100 144]\n",
            " [196 256 324]] (3, 3) (6, 3)\n"
          ]
        }
      ]
    },
    {
      "cell_type": "code",
      "source": [
        "#0, 30, 60, 90도의 sin, cosine, tan값을 출력하여라. \n",
        "a = np.array([0*np.pi/180, 30*np.pi/180, 60*np.pi/180, \n",
        "          90*np.pi/180])\n",
        "answer = []\n",
        "#answer.append(np.)\n",
        "#answer.append(np.)\n",
        "#answer.append(np.)\n",
        "\n",
        "print(answer)\n",
        "\n",
        "for val in answer:\n",
        "    # print(val)\n",
        "    for ele in val:\n",
        "        if ele > 9999999:\n",
        "            print(\"INF\")\n",
        "        else:\n",
        "            print(ele)"
      ],
      "metadata": {
        "colab": {
          "base_uri": "https://localhost:8080/"
        },
        "id": "TOvDiD0vIBlb",
        "outputId": "f6302e01-9c95-452e-93cf-673c9dce2fe4"
      },
      "execution_count": null,
      "outputs": [
        {
          "output_type": "stream",
          "name": "stdout",
          "text": [
            "[array([0.       , 0.5      , 0.8660254, 1.       ]), array([1.00000000e+00, 8.66025404e-01, 5.00000000e-01, 6.12323400e-17]), array([0.00000000e+00, 5.77350269e-01, 1.73205081e+00, 1.63312394e+16])]\n",
            "0.0\n",
            "0.49999999999999994\n",
            "0.8660254037844386\n",
            "1.0\n",
            "1.0\n",
            "0.8660254037844387\n",
            "0.5000000000000001\n",
            "6.123233995736766e-17\n",
            "0.0\n",
            "0.5773502691896257\n",
            "1.7320508075688767\n",
            "INF\n"
          ]
        }
      ]
    },
    {
      "cell_type": "code",
      "source": [
        "a = np.full((7,7),1, dtype=int)\n",
        "print(a)\n",
        "#a[, 0::2] = 0\n",
        "#a[1::2, ] = 0\n",
        "\n",
        "print(a)\n",
        "for i in range(7):\n",
        "#    for :\n",
        "#        print (, end =\" \")\n",
        "    print()\n",
        "\n"
      ],
      "metadata": {
        "colab": {
          "base_uri": "https://localhost:8080/"
        },
        "id": "VhYPQlqSMtAU",
        "outputId": "f580dfe6-57f2-4232-a7a9-db20b5c63d5d"
      },
      "execution_count": null,
      "outputs": [
        {
          "output_type": "stream",
          "name": "stdout",
          "text": [
            "[[1 1 1 1 1 1 1]\n",
            " [1 1 1 1 1 1 1]\n",
            " [1 1 1 1 1 1 1]\n",
            " [1 1 1 1 1 1 1]\n",
            " [1 1 1 1 1 1 1]\n",
            " [1 1 1 1 1 1 1]\n",
            " [1 1 1 1 1 1 1]]\n",
            "[[0 1 0 1 0 1 0]\n",
            " [1 0 1 0 1 0 1]\n",
            " [0 1 0 1 0 1 0]\n",
            " [1 0 1 0 1 0 1]\n",
            " [0 1 0 1 0 1 0]\n",
            " [1 0 1 0 1 0 1]\n",
            " [0 1 0 1 0 1 0]]\n",
            "0 1 0 1 0 1 0 \n",
            "1 0 1 0 1 0 1 \n",
            "0 1 0 1 0 1 0 \n",
            "1 0 1 0 1 0 1 \n",
            "0 1 0 1 0 1 0 \n",
            "1 0 1 0 1 0 1 \n",
            "0 1 0 1 0 1 0 \n"
          ]
        }
      ]
    }
  ]
}