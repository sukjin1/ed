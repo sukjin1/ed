{
  "nbformat": 4,
  "nbformat_minor": 0,
  "metadata": {
    "colab": {
      "provenance": [],
      "authorship_tag": "ABX9TyP5V/S4mb4EyoNMvvfURsxb",
      "include_colab_link": true
    },
    "kernelspec": {
      "name": "python3",
      "display_name": "Python 3"
    },
    "language_info": {
      "name": "python"
    }
  },
  "cells": [
    {
      "cell_type": "markdown",
      "metadata": {
        "id": "view-in-github",
        "colab_type": "text"
      },
      "source": [
        "<a href=\"https://colab.research.google.com/github/sukjin1/ed/blob/main/backpropagation.ipynb\" target=\"_parent\"><img src=\"https://colab.research.google.com/assets/colab-badge.svg\" alt=\"Open In Colab\"/></a>"
      ]
    },
    {
      "cell_type": "code",
      "execution_count": 1,
      "metadata": {
        "colab": {
          "base_uri": "https://localhost:8080/"
        },
        "id": "uKQnS-BPEChi",
        "outputId": "e1d7530a-9d3c-48b1-8d51-06813ad134e6"
      },
      "outputs": [
        {
          "output_type": "stream",
          "name": "stdout",
          "text": [
            "Predictions:\n",
            "[[0.11148698]\n",
            " [0.93631277]\n",
            " [0.92765357]\n",
            " [0.0206205 ]]\n"
          ]
        }
      ],
      "source": [
        "import numpy as np\n",
        "\n",
        "# 활성화 함수: 시그모이드 함수\n",
        "def sigmoid(x):\n",
        "    return 1 / (1 + np.exp(-x))\n",
        "\n",
        "# 역전파 알고리즘\n",
        "def backpropagation(inputs, targets, learning_rate, num_iterations):\n",
        "    # 입력, 은닉층과 출력층의 크기\n",
        "    input_size = inputs.shape[1]\n",
        "    hidden_size = 4\n",
        "    output_size = targets.shape[1]\n",
        "\n",
        "    # 가중치 초기화\n",
        "    weights_input_hidden = np.random.uniform(size=(input_size, hidden_size))\n",
        "    weights_hidden_output = np.random.uniform(size=(hidden_size, output_size))\n",
        "\n",
        "    # 학습 반복\n",
        "    for _ in range(num_iterations):\n",
        "        # 순전파\n",
        "        hidden_inputs = np.dot(inputs, weights_input_hidden)\n",
        "        hidden_outputs = sigmoid(hidden_inputs)\n",
        "\n",
        "        final_inputs = np.dot(hidden_outputs, weights_hidden_output)\n",
        "        final_outputs = sigmoid(final_inputs)\n",
        "\n",
        "        # 오차 계산\n",
        "        output_errors = targets - final_outputs\n",
        "        hidden_errors = np.dot(output_errors, weights_hidden_output.T)\n",
        "\n",
        "        # 가중치 업데이트\n",
        "        weights_hidden_output += learning_rate * np.dot(hidden_outputs.T, output_errors * final_outputs * (1 - final_outputs))\n",
        "        weights_input_hidden += learning_rate * np.dot(inputs.T, hidden_errors * hidden_outputs * (1 - hidden_outputs))\n",
        "\n",
        "    return weights_input_hidden, weights_hidden_output\n",
        "\n",
        "# 입력 데이터\n",
        "inputs = np.array([[0, 0], [0, 1], [1, 0], [1, 1]])\n",
        "# 목표 출력\n",
        "targets = np.array([[0], [1], [1], [0]])\n",
        "\n",
        "# 학습률과 학습 반복 횟수 설정\n",
        "learning_rate = 0.1\n",
        "num_iterations = 10000\n",
        "\n",
        "# 역전파 알고리즘 수행\n",
        "weights_input_hidden, weights_hidden_output = backpropagation(inputs, targets, learning_rate, num_iterations)\n",
        "\n",
        "# 새로운 입력에 대한 예측\n",
        "new_inputs = np.array([[0, 0], [0, 1], [1, 0], [1, 1]])\n",
        "hidden_inputs = np.dot(new_inputs, weights_input_hidden)\n",
        "hidden_outputs = sigmoid(hidden_inputs)\n",
        "final_inputs = np.dot(hidden_outputs, weights_hidden_output)\n",
        "final_outputs = sigmoid(final_inputs)\n",
        "\n",
        "print(\"Predictions:\")\n",
        "print(final_outputs)\n"
      ]
    },
    {
      "cell_type": "markdown",
      "source": [
        "이 코드에서는 시그모이드 활성화 함수를 사용하며, 입력과 목표 출력을 정의합니다. 그런 다음 backpropagation() 함수를 사용하여 역전파 알고리즘을 수행합니다. 학습률과 학습 반복 횟수를 설정하고, 학습이 완료된 후 새로운 입력에 대한 예측을 출력합니다.\n",
        "\n",
        "이 예제는 XOR 문제를 해결하기 위해 2개의 입력과 1개의 출력을 갖는 인공 신경망을 구현합니다."
      ],
      "metadata": {
        "id": "8STl6dn_EP3-"
      }
    }
  ]
}