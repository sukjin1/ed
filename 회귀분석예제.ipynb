{
  "nbformat": 4,
  "nbformat_minor": 0,
  "metadata": {
    "colab": {
      "provenance": [],
      "toc_visible": true,
      "authorship_tag": "ABX9TyMeUw8+AuJ7OU/VUohGDM25",
      "include_colab_link": true
    },
    "kernelspec": {
      "name": "python3",
      "display_name": "Python 3"
    },
    "language_info": {
      "name": "python"
    }
  },
  "cells": [
    {
      "cell_type": "markdown",
      "metadata": {
        "id": "view-in-github",
        "colab_type": "text"
      },
      "source": [
        "<a href=\"https://colab.research.google.com/github/sukjin1/ed/blob/main/%ED%9A%8C%EA%B7%80%EB%B6%84%EC%84%9D%EC%98%88%EC%A0%9C.ipynb\" target=\"_parent\"><img src=\"https://colab.research.google.com/assets/colab-badge.svg\" alt=\"Open In Colab\"/></a>"
      ]
    },
    {
      "cell_type": "code",
      "execution_count": 1,
      "metadata": {
        "colab": {
          "base_uri": "https://localhost:8080/"
        },
        "id": "koi1tsNHxY8Q",
        "outputId": "4604e038-5773-419b-8ac1-253ddc81bf8e"
      },
      "outputs": [
        {
          "output_type": "stream",
          "name": "stdout",
          "text": [
            "회귀 계수: [2.]\n",
            "절편: 0.0\n",
            "예측 결과: [12. 14. 16. 18. 20.]\n"
          ]
        }
      ],
      "source": [
        "import numpy as np\n",
        "from sklearn.linear_model import LinearRegression\n",
        "\n",
        "# 입력 데이터\n",
        "X = np.array([[1], [2], [3], [4], [5]])\n",
        "# 출력 데이터\n",
        "y = np.array([2, 4, 6, 8, 10])\n",
        "\n",
        "# 선형 회귀 모델 생성\n",
        "model = LinearRegression()\n",
        "\n",
        "# 모델 학습\n",
        "model.fit(X, y)\n",
        "\n",
        "# 테스트 데이터\n",
        "X_test = np.array([[6], [7], [8], [9], [10]])\n",
        "\n",
        "# 예측 결과\n",
        "y_pred = model.predict(X_test)\n",
        "\n",
        "# 회귀 계수와 절편\n",
        "coef = model.coef_\n",
        "intercept = model.intercept_\n",
        "\n",
        "# 결과 출력\n",
        "print(\"회귀 계수:\", coef)\n",
        "print(\"절편:\", intercept)\n",
        "print(\"예측 결과:\", y_pred)"
      ]
    },
    {
      "cell_type": "markdown",
      "source": [
        "아래 코드는 1부터 5까지의 x와 y 데이터를 생성하고, 이를 이용하여 선형 회귀 모델을 생성하고 훈련합니다. 그 다음, 훈련된 모델을 이용하여 새로운 x 값에 대한 y 값을 예측합니다. 마지막으로, 회귀식과 예측값을 출력합니다.\n",
        "\n",
        "LinearRegression 클래스는 scikit-learn의 linear_model 모듈에서 제공되며, fit 메소드를 사용하여 모델을 훈련하고, predict 메소드를 사용하여 새로운 데이터에 대한 예측을 수행합니다."
      ],
      "metadata": {
        "id": "ikxarjbLlb-z"
      }
    },
    {
      "cell_type": "code",
      "source": [
        "import numpy as np\n",
        "from sklearn.linear_model import LinearRegression\n",
        "\n",
        "# 독립 변수 x와 종속 변수 y를 정의\n",
        "x = np.array([1, 2, 3, 4, 5]).reshape((-1, 1))\n",
        "y = np.array([2, 3, 4, 5, 6])\n",
        "\n",
        "# 선형 회귀 모델 생성\n",
        "model = LinearRegression()\n",
        "\n",
        "# 모델 훈련\n",
        "model.fit(x, y)\n",
        "\n",
        "# 회귀식 출력\n",
        "print(\"회귀식: y = {:.2f}x + {:.2f}\".format(model.coef_[0], model.intercept_))\n",
        "\n",
        "# 예측\n",
        "x_new = np.array([6]).reshape((-1, 1))\n",
        "y_new = model.predict(x_new)\n",
        "print(\"x가 6일 때 y 예측값: {:.2f}\".format(y_new[0]))\n"
      ],
      "metadata": {
        "colab": {
          "base_uri": "https://localhost:8080/"
        },
        "id": "maxaROTslT6v",
        "outputId": "e96856ef-94b3-4193-b14f-48ef918b3a0b"
      },
      "execution_count": 2,
      "outputs": [
        {
          "output_type": "stream",
          "name": "stdout",
          "text": [
            "회귀식: y = 1.00x + 1.00\n",
            "x가 6일 때 y 예측값: 7.00\n"
          ]
        }
      ]
    },
    {
      "cell_type": "code",
      "source": [
        "import numpy as np\n",
        "\n",
        "arr = np.array([1, 2, 3, 4, 5])\n",
        "reshaped_arr = arr.reshape(-1, 1)\n",
        "\n",
        "print(arr)\n",
        "# 출력: [1 2 3 4 5]\n",
        "\n",
        "print(reshaped_arr)\n",
        "# 출력: \n",
        "# [[1]\n",
        "#  [2]\n",
        "#  [3]\n",
        "#  [4]\n",
        "#  [5]]"
      ],
      "metadata": {
        "colab": {
          "base_uri": "https://localhost:8080/"
        },
        "id": "Vp2sjd9lod8j",
        "outputId": "625d7cf8-166a-48a7-d19f-7681693ce85b"
      },
      "execution_count": 3,
      "outputs": [
        {
          "output_type": "stream",
          "name": "stdout",
          "text": [
            "[1 2 3 4 5]\n",
            "[[1]\n",
            " [2]\n",
            " [3]\n",
            " [4]\n",
            " [5]]\n"
          ]
        }
      ]
    },
    {
      "cell_type": "markdown",
      "source": [
        "위 코드에서 arr은 1차원 배열입니다. reshape(-1, 1)을 사용하여 arr을 2차원으로 재구성하면, reshaped_arr은 5행 1열의 2차원 배열로 변환됩니다. 이렇게 하면 각 원소가 하나의 열에 위치하게 됩니다.\n",
        "\n",
        "reshape(-1, 1)을 사용하여 배열의 차원을 조정할 때, -1 자리에는 다른 값을 사용할 수도 있습니다. 다만, -1을 사용할 경우 해당 차원의 크기가 자동으로 계산되기 때문에, 다른 차원의 크기와 호환되어야 합니다."
      ],
      "metadata": {
        "id": "6GjWCqXNokpJ"
      }
    }
  ]
}