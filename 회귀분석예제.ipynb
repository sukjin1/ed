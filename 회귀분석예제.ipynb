{
  "nbformat": 4,
  "nbformat_minor": 0,
  "metadata": {
    "colab": {
      "provenance": [],
      "authorship_tag": "ABX9TyNmc2buKH2LfDB2mvDIajrO",
      "include_colab_link": true
    },
    "kernelspec": {
      "name": "python3",
      "display_name": "Python 3"
    },
    "language_info": {
      "name": "python"
    }
  },
  "cells": [
    {
      "cell_type": "markdown",
      "metadata": {
        "id": "view-in-github",
        "colab_type": "text"
      },
      "source": [
        "<a href=\"https://colab.research.google.com/github/sukjin1/ed/blob/main/%ED%9A%8C%EA%B7%80%EB%B6%84%EC%84%9D%EC%98%88%EC%A0%9C.ipynb\" target=\"_parent\"><img src=\"https://colab.research.google.com/assets/colab-badge.svg\" alt=\"Open In Colab\"/></a>"
      ]
    },
    {
      "cell_type": "code",
      "execution_count": 1,
      "metadata": {
        "colab": {
          "base_uri": "https://localhost:8080/"
        },
        "id": "koi1tsNHxY8Q",
        "outputId": "4604e038-5773-419b-8ac1-253ddc81bf8e"
      },
      "outputs": [
        {
          "output_type": "stream",
          "name": "stdout",
          "text": [
            "회귀 계수: [2.]\n",
            "절편: 0.0\n",
            "예측 결과: [12. 14. 16. 18. 20.]\n"
          ]
        }
      ],
      "source": [
        "import numpy as np\n",
        "from sklearn.linear_model import LinearRegression\n",
        "\n",
        "# 입력 데이터\n",
        "X = np.array([[1], [2], [3], [4], [5]])\n",
        "# 출력 데이터\n",
        "y = np.array([2, 4, 6, 8, 10])\n",
        "\n",
        "# 선형 회귀 모델 생성\n",
        "model = LinearRegression()\n",
        "\n",
        "# 모델 학습\n",
        "model.fit(X, y)\n",
        "\n",
        "# 테스트 데이터\n",
        "X_test = np.array([[6], [7], [8], [9], [10]])\n",
        "\n",
        "# 예측 결과\n",
        "y_pred = model.predict(X_test)\n",
        "\n",
        "# 회귀 계수와 절편\n",
        "coef = model.coef_\n",
        "intercept = model.intercept_\n",
        "\n",
        "# 결과 출력\n",
        "print(\"회귀 계수:\", coef)\n",
        "print(\"절편:\", intercept)\n",
        "print(\"예측 결과:\", y_pred)"
      ]
    },
    {
      "cell_type": "markdown",
      "source": [
        "아래 코드는 1부터 5까지의 x와 y 데이터를 생성하고, 이를 이용하여 선형 회귀 모델을 생성하고 훈련합니다. 그 다음, 훈련된 모델을 이용하여 새로운 x 값에 대한 y 값을 예측합니다. 마지막으로, 회귀식과 예측값을 출력합니다.\n",
        "\n",
        "LinearRegression 클래스는 scikit-learn의 linear_model 모듈에서 제공되며, fit 메소드를 사용하여 모델을 훈련하고, predict 메소드를 사용하여 새로운 데이터에 대한 예측을 수행합니다."
      ],
      "metadata": {
        "id": "ikxarjbLlb-z"
      }
    },
    {
      "cell_type": "code",
      "source": [
        "import numpy as np\n",
        "from sklearn.linear_model import LinearRegression\n",
        "\n",
        "# 독립 변수 x와 종속 변수 y를 정의\n",
        "x = np.array([1, 2, 3, 4, 5]).reshape((-1, 1))\n",
        "y = np.array([2, 3, 4, 5, 6])\n",
        "\n",
        "# 선형 회귀 모델 생성\n",
        "model = LinearRegression()\n",
        "\n",
        "# 모델 훈련\n",
        "model.fit(x, y)\n",
        "\n",
        "# 회귀식 출력\n",
        "print(\"회귀식: y = {:.2f}x + {:.2f}\".format(model.coef_[0], model.intercept_))\n",
        "\n",
        "# 예측\n",
        "x_new = np.array([6]).reshape((-1, 1))\n",
        "y_new = model.predict(x_new)\n",
        "print(\"x가 6일 때 y 예측값: {:.2f}\".format(y_new[0]))\n"
      ],
      "metadata": {
        "colab": {
          "base_uri": "https://localhost:8080/"
        },
        "id": "maxaROTslT6v",
        "outputId": "e96856ef-94b3-4193-b14f-48ef918b3a0b"
      },
      "execution_count": 2,
      "outputs": [
        {
          "output_type": "stream",
          "name": "stdout",
          "text": [
            "회귀식: y = 1.00x + 1.00\n",
            "x가 6일 때 y 예측값: 7.00\n"
          ]
        }
      ]
    }
  ]
}