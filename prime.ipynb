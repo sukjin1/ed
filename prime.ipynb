{
  "nbformat": 4,
  "nbformat_minor": 0,
  "metadata": {
    "colab": {
      "provenance": [],
      "authorship_tag": "ABX9TyOjNUrlW9mPYEg5dh+21lIX",
      "include_colab_link": true
    },
    "kernelspec": {
      "name": "python3",
      "display_name": "Python 3"
    },
    "language_info": {
      "name": "python"
    }
  },
  "cells": [
    {
      "cell_type": "markdown",
      "metadata": {
        "id": "view-in-github",
        "colab_type": "text"
      },
      "source": [
        "<a href=\"https://colab.research.google.com/github/sukjin1/ed/blob/main/prime.ipynb\" target=\"_parent\"><img src=\"https://colab.research.google.com/assets/colab-badge.svg\" alt=\"Open In Colab\"/></a>"
      ]
    },
    {
      "cell_type": "code",
      "execution_count": null,
      "metadata": {
        "id": "sUor-1o3oENN"
      },
      "outputs": [],
      "source": [
        "num = int(input(\"숫자를 입력해 주세요\"))\n",
        "\n",
        "num_list = list(range(2,num))\n",
        "num_list_copy = num_list.copy()\n",
        "\n",
        "result_list = []\n",
        "list_length = len(num_list)\n",
        "\n",
        "while list_length:\n",
        "    \n",
        "    result_list.append(num_list[0])\n",
        "\n",
        "    for i in range(2, len(num_list)):\n",
        "        if (num_list[i] % num_list[0]) == 0:\n",
        "            num_list_copy.remove(num_list[i])\n",
        "            list_length -=1\n",
        "\n",
        "    print (f\"num_list_copy: {num_list_copy}\")        \n",
        "    num_list = num_list_copy.copy()\n",
        "    first_item =num_list[0]\n",
        "    num_list.remove(num_list[0])\n",
        "    num_list_copy.remove(first_item)\n",
        "    #result_list.append(num_list[0])\n",
        "    print(f\"result_list: {result_list}\")\n",
        "    list_length -=1\n",
        "\n",
        "    print (f\"num_list: {num_list}\")        \n",
        "    \n",
        "print(result_list)"
      ]
    }
  ]
}