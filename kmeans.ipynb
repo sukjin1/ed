{
  "nbformat": 4,
  "nbformat_minor": 0,
  "metadata": {
    "colab": {
      "provenance": [],
      "authorship_tag": "ABX9TyN5yp1n21T0oZ9cx3x50hhz",
      "include_colab_link": true
    },
    "kernelspec": {
      "name": "python3",
      "display_name": "Python 3"
    },
    "language_info": {
      "name": "python"
    }
  },
  "cells": [
    {
      "cell_type": "markdown",
      "metadata": {
        "id": "view-in-github",
        "colab_type": "text"
      },
      "source": [
        "<a href=\"https://colab.research.google.com/github/sukjin1/ed/blob/main/kmeans.ipynb\" target=\"_parent\"><img src=\"https://colab.research.google.com/assets/colab-badge.svg\" alt=\"Open In Colab\"/></a>"
      ]
    },
    {
      "cell_type": "code",
      "execution_count": 1,
      "metadata": {
        "colab": {
          "base_uri": "https://localhost:8080/",
          "height": 472
        },
        "id": "ZPt_C6-KyNik",
        "outputId": "a58594c2-0d64-41ea-b5ef-b0dfc5cebd9b"
      },
      "outputs": [
        {
          "output_type": "display_data",
          "data": {
            "text/plain": [
              "<Figure size 640x480 with 1 Axes>"
            ],
            "image/png": "[encoded data removed]"
          },
          "metadata": {}
        }
      ],
      "source": [
        "import numpy as np\n",
        "import matplotlib.pyplot as plt\n",
        "\n",
        "def kmeans(X, K, max_iters=100):\n",
        "    centroids = X[np.random.choice(range(len(X)), K, replace=False)]\n",
        "\n",
        "    for _ in range(max_iters):\n",
        "\n",
        "\n",
        "        labels = np.argmin(np.linalg.norm(X[:, np.newaxis] - centroids, axis=2), axis=1)\n",
        "\n",
        "        new_centroids = np.array([X[labels == k].mean(axis=0) for k in range(K)])\n",
        "\n",
        "        if np.all(centroids == new_centroids):\n",
        "            break\n",
        "\n",
        "        centroids = new_centroids\n",
        "\n",
        "    return labels, centroids\n",
        "\n",
        "# Example usage\n",
        "X = np.array([[1, 2], [1.5, 1.8], [5, 8], [8, 8], [1, 0.6], [9, 11]])\n",
        "K = 2\n",
        "\n",
        "labels, centroids = kmeans(X, K)\n",
        "\n",
        "# Plotting the data points and centroids\n",
        "plt.scatter(X[:, 0], X[:, 1], c=labels)\n",
        "plt.scatter(centroids[:, 0], centroids[:, 1], c='red', marker='x')\n",
        "plt.title('K-means Clustering')\n",
        "plt.xlabel('X')\n",
        "plt.ylabel('Y')\n",
        "plt.show()\n"
      ]
    },
    {
      "cell_type": "code",
      "source": [
        "X[:, np.newaxis]"
      ],
      "metadata": {
        "colab": {
          "base_uri": "https://localhost:8080/"
        },
        "id": "DCA6gBnt1enI",
        "outputId": "2ddbd63a-113f-47f8-d129-7e0cd582dc4d"
      },
      "execution_count": 2,
      "outputs": [
        {
          "output_type": "execute_result",
          "data": {
            "text/plain": [
              "array([[[ 1. ,  2. ]],\n",
              "\n",
              "       [[ 1.5,  1.8]],\n",
              "\n",
              "       [[ 5. ,  8. ]],\n",
              "\n",
              "       [[ 8. ,  8. ]],\n",
              "\n",
              "       [[ 1. ,  0.6]],\n",
              "\n",
              "       [[ 9. , 11. ]]])"
            ]
          },
          "metadata": {},
          "execution_count": 2
        }
      ]
    },
    {
      "cell_type": "code",
      "source": [
        "centroids = X[np.random.choice(range(len(X)), K, replace=False)]"
      ],
      "metadata": {
        "id": "n4qCGEPS1fOr"
      },
      "execution_count": 7,
      "outputs": []
    },
    {
      "cell_type": "code",
      "source": [
        "X[:, np.newaxis].shape"
      ],
      "metadata": {
        "colab": {
          "base_uri": "https://localhost:8080/"
        },
        "id": "seE9diM62U11",
        "outputId": "d2f8c880-994a-4a23-b7b3-a6583fd0a034"
      },
      "execution_count": 6,
      "outputs": [
        {
          "output_type": "execute_result",
          "data": {
            "text/plain": [
              "(6, 1, 2)"
            ]
          },
          "metadata": {},
          "execution_count": 6
        }
      ]
    },
    {
      "cell_type": "code",
      "source": [
        "centroids.shape\n"
      ],
      "metadata": {
        "colab": {
          "base_uri": "https://localhost:8080/"
        },
        "id": "mU_6rP-Q2fq0",
        "outputId": "36c85fe5-c8a8-42db-b479-30a2246ab8ca"
      },
      "execution_count": 8,
      "outputs": [
        {
          "output_type": "execute_result",
          "data": {
            "text/plain": [
              "(2, 2)"
            ]
          },
          "metadata": {},
          "execution_count": 8
        }
      ]
    },
    {
      "cell_type": "code",
      "source": [
        "import numpy as np\n",
        "import matplotlib.pyplot as plt\n",
        "\n",
        "def kmeans(X, K, max_iters=100):\n",
        "    centroids = X[np.random.choice(range(len(X)), K, replace=False)]\n",
        "\n",
        "    for _ in range(max_iters):\n",
        "\n",
        "        #labels = np.argmin(np.linalg.norm(X[???] - ???, axis=2), axis=1)\n",
        "\n",
        "        #new_centroids = np.array([???.mean(axis=??) for k in range(K)])\n",
        "\n",
        "        if np.all(centroids == new_centroids):\n",
        "            break\n",
        "\n",
        "        centroids = new_centroids\n",
        "\n",
        "    return labels, centroids\n",
        "\n",
        "# Example usage\n",
        "X = np.array([[1, 2], [1.5, 1.8], [5, 8], [8, 8], [1, 0.6], [9, 11]])\n",
        "K = 2\n",
        "\n",
        "labels, centroids = kmeans(X, K)\n",
        "\n",
        "# Plotting the data points and centroids\n",
        "plt.scatter(X[:, 0], X[:, 1], c=labels)\n",
        "plt.scatter(centroids[:, 0], centroids[:, 1], c='red', marker='x')\n",
        "plt.title('K-means Clustering')\n",
        "plt.xlabel('X')\n",
        "plt.ylabel('Y')\n",
        "plt.show()\n"
      ],
      "metadata": {
        "colab": {
          "base_uri": "https://localhost:8080/",
          "height": 472
        },
        "id": "imIQqEus1lzR",
        "outputId": "70c791c8-4957-47c1-c047-7e51d4e2d05b"
      },
      "execution_count": 15,
      "outputs": [
        {
          "output_type": "display_data",
          "data": {
            "text/plain": [
              "<Figure size 640x480 with 1 Axes>"
            ],
            "image/png": "[encoded data removed]"
          },
          "metadata": {}
        }
      ]
    },
    {
      "cell_type": "code",
      "source": [
        "X[:, np.newaxis] - centroids"
      ],
      "metadata": {
        "colab": {
          "base_uri": "https://localhost:8080/"
        },
        "id": "L5dkHbQD2n3H",
        "outputId": "000edd60-7654-498f-c594-1419fb545157"
      },
      "execution_count": 9,
      "outputs": [
        {
          "output_type": "execute_result",
          "data": {
            "text/plain": [
              "array([[[-7. , -6. ],\n",
              "        [ 0. ,  0. ]],\n",
              "\n",
              "       [[-6.5, -6.2],\n",
              "        [ 0.5, -0.2]],\n",
              "\n",
              "       [[-3. ,  0. ],\n",
              "        [ 4. ,  6. ]],\n",
              "\n",
              "       [[ 0. ,  0. ],\n",
              "        [ 7. ,  6. ]],\n",
              "\n",
              "       [[-7. , -7.4],\n",
              "        [ 0. , -1.4]],\n",
              "\n",
              "       [[ 1. ,  3. ],\n",
              "        [ 8. ,  9. ]]])"
            ]
          },
          "metadata": {},
          "execution_count": 9
        }
      ]
    },
    {
      "cell_type": "code",
      "source": [
        "X[:, np.newaxis]"
      ],
      "metadata": {
        "colab": {
          "base_uri": "https://localhost:8080/"
        },
        "id": "JVAIQbRi2o5s",
        "outputId": "e6bf09c0-0287-463a-9060-871560c5cbb6"
      },
      "execution_count": 10,
      "outputs": [
        {
          "output_type": "execute_result",
          "data": {
            "text/plain": [
              "array([[[ 1. ,  2. ]],\n",
              "\n",
              "       [[ 1.5,  1.8]],\n",
              "\n",
              "       [[ 5. ,  8. ]],\n",
              "\n",
              "       [[ 8. ,  8. ]],\n",
              "\n",
              "       [[ 1. ,  0.6]],\n",
              "\n",
              "       [[ 9. , 11. ]]])"
            ]
          },
          "metadata": {},
          "execution_count": 10
        }
      ]
    },
    {
      "cell_type": "code",
      "source": [
        "X[:, np.newaxis].shape"
      ],
      "metadata": {
        "colab": {
          "base_uri": "https://localhost:8080/"
        },
        "id": "7ctOLhc_2r9H",
        "outputId": "c72e7551-c1be-4566-8bdd-979df7fb0d11"
      },
      "execution_count": 11,
      "outputs": [
        {
          "output_type": "execute_result",
          "data": {
            "text/plain": [
              "(6, 1, 2)"
            ]
          },
          "metadata": {},
          "execution_count": 11
        }
      ]
    },
    {
      "cell_type": "code",
      "source": [
        "centroids"
      ],
      "metadata": {
        "colab": {
          "base_uri": "https://localhost:8080/"
        },
        "id": "VkdBnu6g2wLR",
        "outputId": "6b71b514-d63a-4ee4-9a0e-52f279481216"
      },
      "execution_count": 12,
      "outputs": [
        {
          "output_type": "execute_result",
          "data": {
            "text/plain": [
              "array([[8., 8.],\n",
              "       [1., 2.]])"
            ]
          },
          "metadata": {},
          "execution_count": 12
        }
      ]
    },
    {
      "cell_type": "code",
      "source": [
        "centroids.shape"
      ],
      "metadata": {
        "colab": {
          "base_uri": "https://localhost:8080/"
        },
        "id": "4VWS0lFE21OV",
        "outputId": "87af7924-a315-4f79-bf9f-ab3cd9e6cf5a"
      },
      "execution_count": 13,
      "outputs": [
        {
          "output_type": "execute_result",
          "data": {
            "text/plain": [
              "(2, 2)"
            ]
          },
          "metadata": {},
          "execution_count": 13
        }
      ]
    },
    {
      "cell_type": "code",
      "source": [
        "X[:, np.newaxis] - centroids"
      ],
      "metadata": {
        "colab": {
          "base_uri": "https://localhost:8080/"
        },
        "id": "jZ8SEr7123Zw",
        "outputId": "61fe8d14-63b4-47e0-e2fd-ad84fcb915f0"
      },
      "execution_count": 21,
      "outputs": [
        {
          "output_type": "execute_result",
          "data": {
            "text/plain": [
              "array([[[-7. , -6. ],\n",
              "        [-0.5,  0.2]],\n",
              "\n",
              "       [[-6.5, -6.2],\n",
              "        [ 0. ,  0. ]],\n",
              "\n",
              "       [[-3. ,  0. ],\n",
              "        [ 3.5,  6.2]],\n",
              "\n",
              "       [[ 0. ,  0. ],\n",
              "        [ 6.5,  6.2]],\n",
              "\n",
              "       [[-7. , -7.4],\n",
              "        [-0.5, -1.2]],\n",
              "\n",
              "       [[ 1. ,  3. ],\n",
              "        [ 7.5,  9.2]]])"
            ]
          },
          "metadata": {},
          "execution_count": 21
        }
      ]
    },
    {
      "cell_type": "code",
      "source": [
        "print(labels)"
      ],
      "metadata": {
        "colab": {
          "base_uri": "https://localhost:8080/"
        },
        "id": "VopfH8JNA9yi",
        "outputId": "1dcbbf71-0edd-448e-a7f2-a89726918b07"
      },
      "execution_count": 23,
      "outputs": [
        {
          "output_type": "stream",
          "name": "stdout",
          "text": [
            "[1 1 0 0 1 0]\n"
          ]
        }
      ]
    },
    {
      "cell_type": "code",
      "source": [
        "print(new_centroids)"
      ],
      "metadata": {
        "colab": {
          "base_uri": "https://localhost:8080/"
        },
        "id": "DgwgpZyjBP4p",
        "outputId": "ed21f70c-77b3-456b-b029-a1cd8eaac880"
      },
      "execution_count": 25,
      "outputs": [
        {
          "output_type": "stream",
          "name": "stdout",
          "text": [
            "[[7.33333333 9.        ]\n",
            " [1.16666667 1.46666667]]\n"
          ]
        }
      ]
    }
  ]
}