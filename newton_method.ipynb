{
  "nbformat": 4,
  "nbformat_minor": 0,
  "metadata": {
    "colab": {
      "provenance": [],
      "authorship_tag": "ABX9TyOH/T8xMiQ+kK6gR/tqqMjQ",
      "include_colab_link": true
    },
    "kernelspec": {
      "name": "python3",
      "display_name": "Python 3"
    },
    "language_info": {
      "name": "python"
    }
  },
  "cells": [
    {
      "cell_type": "markdown",
      "metadata": {
        "id": "view-in-github",
        "colab_type": "text"
      },
      "source": [
        "<a href=\"https://colab.research.google.com/github/sukjin1/ed/blob/main/newton_method.ipynb\" target=\"_parent\"><img src=\"https://colab.research.google.com/assets/colab-badge.svg\" alt=\"Open In Colab\"/></a>"
      ]
    },
    {
      "cell_type": "code",
      "execution_count": 1,
      "metadata": {
        "colab": {
          "base_uri": "https://localhost:8080/"
        },
        "id": "fVrO1pPbpb2h",
        "outputId": "f06962e1-44a1-4e33-de6c-901feb37e876"
      },
      "outputs": [
        {
          "output_type": "stream",
          "name": "stdout",
          "text": [
            "근사적인 제곱근: 5.000000000588805\n",
            "실제 제곱근: 5.0\n"
          ]
        }
      ],
      "source": [
        "import math\n",
        "\n",
        "def newton_method(f, f_prime, x0, tolerance=1e-6, max_iterations=100):\n",
        "    \"\"\"\n",
        "    뉴턴 메서드를 사용하여 주어진 함수의 근사적인 해를 찾습니다.\n",
        "\n",
        "    매개변수:\n",
        "    f (function): 대상 함수\n",
        "    f_prime (function): 대상 함수의 도함수\n",
        "    x0 (float): 초기 추정값\n",
        "    tolerance (float): 수렴을 판단하기 위한 허용 오차\n",
        "    max_iterations (int): 최대 반복 횟수\n",
        "\n",
        "    반환값:\n",
        "    x (float): 근사적인 해\n",
        "    \"\"\"\n",
        "\n",
        "    x = x0\n",
        "\n",
        "    for i in range(max_iterations):\n",
        "        fx = f(x)\n",
        "        fx_prime = f_prime(x)\n",
        "\n",
        "        if abs(fx) < tolerance:\n",
        "            return x\n",
        "\n",
        "        x -= fx / fx_prime\n",
        "\n",
        "    return x\n",
        "\n",
        "# 예제로 제곱근을 구하는 함수를 사용해보겠습니다.\n",
        "def square_root(x):\n",
        "    return x**2 - 25\n",
        "\n",
        "# 제곱근 함수의 도함수를 계산합니다.\n",
        "def square_root_prime(x):\n",
        "    return 2*x\n",
        "\n",
        "# 초기 추정값을 설정합니다.\n",
        "initial_guess = 4.5\n",
        "\n",
        "# 뉴턴 메서드를 사용하여 근사적인 제곱근을 찾습니다.\n",
        "approx_root = newton_method(square_root, square_root_prime, initial_guess)\n",
        "\n",
        "print(\"근사적인 제곱근:\", approx_root)\n",
        "print(\"실제 제곱근:\", math.sqrt(25))\n"
      ]
    }
  ]
}