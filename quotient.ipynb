{
  "nbformat": 4,
  "nbformat_minor": 0,
  "metadata": {
    "colab": {
      "provenance": [],
      "authorship_tag": "ABX9TyPmM7TUkC6LagsQaue0W2vo",
      "include_colab_link": true
    },
    "kernelspec": {
      "name": "python3",
      "display_name": "Python 3"
    },
    "language_info": {
      "name": "python"
    }
  },
  "cells": [
    {
      "cell_type": "markdown",
      "metadata": {
        "id": "view-in-github",
        "colab_type": "text"
      },
      "source": [
        "<a href=\"https://colab.research.google.com/github/sukjin1/ed/blob/main/quotient.ipynb\" target=\"_parent\"><img src=\"https://colab.research.google.com/assets/colab-badge.svg\" alt=\"Open In Colab\"/></a>"
      ]
    },
    {
      "cell_type": "code",
      "execution_count": 1,
      "metadata": {
        "colab": {
          "base_uri": "https://localhost:8080/",
          "height": 0
        },
        "id": "hmLYVllrKpDb",
        "outputId": "8ce29676-a00f-49aa-da76-ba1036791f90"
      },
      "outputs": [
        {
          "output_type": "stream",
          "name": "stdout",
          "text": [
            "왕초보파이썬\n"
          ]
        }
      ],
      "source": [
        "print(\"왕초보파이썬\")"
      ]
    },
    {
      "cell_type": "code",
      "source": [],
      "metadata": {
        "id": "IL4YdJyJM8gq"
      },
      "execution_count": null,
      "outputs": []
    },
    {
      "cell_type": "code",
      "source": [
        "jjang = \"pig dad\" # 전역변수\n",
        "\n",
        "def ban():\n",
        "    jjang='07'\n",
        "    print('jjang=', jjang)\n",
        "\n",
        "ban()\n",
        "print(jjang)"
      ],
      "metadata": {
        "colab": {
          "base_uri": "https://localhost:8080/",
          "height": 0
        },
        "id": "qwPAyCUgM9De",
        "outputId": "0f03b504-3cca-4b43-fe3a-52c0999d34ca"
      },
      "execution_count": 2,
      "outputs": [
        {
          "output_type": "stream",
          "name": "stdout",
          "text": [
            "jjang= 07\n",
            "pig dad\n"
          ]
        }
      ]
    },
    {
      "cell_type": "code",
      "source": [
        "a = (lambda x,y,z: x+y+z)(10, 20, 30)\n",
        "print(a)"
      ],
      "metadata": {
        "colab": {
          "base_uri": "https://localhost:8080/",
          "height": 0
        },
        "id": "4dkygqWBORrW",
        "outputId": "b027aad3-8749-4131-ee58-4a9e242e8d89"
      },
      "execution_count": 7,
      "outputs": [
        {
          "output_type": "stream",
          "name": "stdout",
          "text": [
            "60\n"
          ]
        }
      ]
    },
    {
      "cell_type": "code",
      "source": [
        "a = map(lambda x:x**2, range(5))\n",
        "print(int(a))"
      ],
      "metadata": {
        "colab": {
          "base_uri": "https://localhost:8080/",
          "height": 209
        },
        "id": "QoVFgdThO3sn",
        "outputId": "3f51edfb-43cf-4900-a53d-bf3ba692e897"
      },
      "execution_count": 12,
      "outputs": [
        {
          "output_type": "error",
          "ename": "TypeError",
          "evalue": "ignored",
          "traceback": [
            "\u001b[0;31m---------------------------------------------------------------------------\u001b[0m",
            "\u001b[0;31mTypeError\u001b[0m                                 Traceback (most recent call last)",
            "\u001b[0;32m<ipython-input-12-26627af167ea>\u001b[0m in \u001b[0;36m<cell line: 2>\u001b[0;34m()\u001b[0m\n\u001b[1;32m      1\u001b[0m \u001b[0ma\u001b[0m \u001b[0;34m=\u001b[0m \u001b[0mmap\u001b[0m\u001b[0;34m(\u001b[0m\u001b[0;32mlambda\u001b[0m \u001b[0mx\u001b[0m\u001b[0;34m:\u001b[0m\u001b[0mx\u001b[0m\u001b[0;34m**\u001b[0m\u001b[0;36m2\u001b[0m\u001b[0;34m,\u001b[0m \u001b[0mrange\u001b[0m\u001b[0;34m(\u001b[0m\u001b[0;36m5\u001b[0m\u001b[0;34m)\u001b[0m\u001b[0;34m)\u001b[0m\u001b[0;34m\u001b[0m\u001b[0;34m\u001b[0m\u001b[0m\n\u001b[0;32m----> 2\u001b[0;31m \u001b[0mprint\u001b[0m\u001b[0;34m(\u001b[0m\u001b[0mint\u001b[0m\u001b[0;34m(\u001b[0m\u001b[0ma\u001b[0m\u001b[0;34m)\u001b[0m\u001b[0;34m)\u001b[0m\u001b[0;34m\u001b[0m\u001b[0;34m\u001b[0m\u001b[0m\n\u001b[0m",
            "\u001b[0;31mTypeError\u001b[0m: int() argument must be a string, a bytes-like object or a real number, not 'map'"
          ]
        }
      ]
    },
    {
      "cell_type": "code",
      "source": [
        "list(filter(lambda x: x%3, range(10)))"
      ],
      "metadata": {
        "colab": {
          "base_uri": "https://localhost:8080/",
          "height": 0
        },
        "id": "BxVrFUelQqio",
        "outputId": "0d52f2a4-47ad-4eef-81af-d21bfed0d0a1"
      },
      "execution_count": 15,
      "outputs": [
        {
          "output_type": "execute_result",
          "data": {
            "text/plain": [
              "[1, 2, 4, 5, 7, 8]"
            ]
          },
          "metadata": {},
          "execution_count": 15
        }
      ]
    },
    {
      "cell_type": "code",
      "source": [
        " \"   13:48:03   \".strip()"
      ],
      "metadata": {
        "colab": {
          "base_uri": "https://localhost:8080/",
          "height": 35
        },
        "id": "CRCxC_plRkxk",
        "outputId": "7b4481c3-ed14-4e3f-8c04-34474b98f991"
      },
      "execution_count": 18,
      "outputs": [
        {
          "output_type": "execute_result",
          "data": {
            "text/plain": [
              "'13:48:03'"
            ],
            "application/vnd.google.colaboratory.intrinsic+json": {
              "type": "string"
            }
          },
          "metadata": {},
          "execution_count": 18
        }
      ]
    },
    {
      "cell_type": "code",
      "source": [
        "def read(text):\n",
        "\n",
        "    text_list = text.split(':')\n",
        "\n",
        "    ridename = text_list[0]\n",
        "    if len(text_list) > 1:\n",
        "        second_text_list = text_list[1].split(\"cm\")\n",
        "        if len(second_text_list) > 1 \n",
        "            cmmin = second_text_list[0]\n",
        "            \n",
        "\n",
        "    return ridename, cmmin, cmmax"
      ],
      "metadata": {
        "id": "nYo1h5j1R8m0"
      },
      "execution_count": null,
      "outputs": []
    },
    {
      "cell_type": "code",
      "source": [
        "type(range(10))"
      ],
      "metadata": {
        "colab": {
          "base_uri": "https://localhost:8080/",
          "height": 0
        },
        "id": "ckG8NZdEV3gp",
        "outputId": "7ef55651-3f9a-436e-d2ff-1a9c323f50d0"
      },
      "execution_count": 20,
      "outputs": [
        {
          "output_type": "execute_result",
          "data": {
            "text/plain": [
              "range"
            ]
          },
          "metadata": {},
          "execution_count": 20
        }
      ]
    },
    {
      "cell_type": "code",
      "source": [],
      "metadata": {
        "id": "B5wNGfV1W-LZ"
      },
      "execution_count": null,
      "outputs": []
    },
    {
      "cell_type": "code",
      "source": [
        "def read(text):\n",
        "    ridename, limit = map(str.strip, text.split(':'))\n",
        "    \n",
        "    cmmin = cmmax = None\n",
        "    if '~' in limit:\n",
        "        templist = []\n",
        "        for x in limit.split('~'):\n",
        "            templist.append(x.replace('cm', ''))\n",
        "        cmmin, cmmax = templist[0], templist[1]\n",
        "    elif \"이상\" in limit:\n",
        "        cmmin = int(limit.split(\"cm\")[0])\n",
        "\n",
        "    return ridename, cmmin, cmmax\n",
        "\n",
        "if __name__ == \"__main__\":\n",
        "    ridename, cmmin, cmmax = read(input())\n",
        "    print(\"이름:\", ridename)\n",
        "    print(\"하한:\", cmmin)\n",
        "    print(\"상한:\", cmmax)"
      ],
      "metadata": {
        "colab": {
          "base_uri": "https://localhost:8080/",
          "height": 0
        },
        "id": "122sh3JtUoUS",
        "outputId": "3c26b1b6-bfa5-41c1-cdfc-dd583a8524a2"
      },
      "execution_count": 19,
      "outputs": [
        {
          "output_type": "stream",
          "name": "stdout",
          "text": [
            "기구이름:134cm~234cm\n",
            "이름: 기구이름\n",
            "하한: 134\n",
            "상한: 234\n"
          ]
        }
      ]
    },
    {
      "cell_type": "code",
      "source": [
        "class Counter:\n",
        "    def __init__(self, stop):\n",
        "        self.current = 0    # 현재 숫자 유지, 0부터 지정된 숫자 직전까지 반복\n",
        "        self.stop = stop    # 반복을 끝낼 숫자\n",
        " \n",
        "    def __iter__(self):\n",
        "        return self         # 현재 인스턴스를 반환\n",
        " \n",
        "    def __next__(self):\n",
        "        if self.current < self.stop:    # 현재 숫자가 반복을 끝낼 숫자보다 작을 때\n",
        "            r = self.current            # 반환할 숫자를 변수에 저장\n",
        "            self.current += 1           # 현재 숫자를 1 증가시킴\n",
        "            return r                    # 숫자를 반환\n",
        "        else:                           # 현재 숫자가 반복을 끝낼 숫자보다 크거나 같을 때\n",
        "            raise StopIteration         # 예외 발생\n",
        " \n",
        "a = Counter(3)\n",
        "print(a)"
      ],
      "metadata": {
        "colab": {
          "base_uri": "https://localhost:8080/",
          "height": 0
        },
        "id": "xNJ0LrFrW_KE",
        "outputId": "cc9ce780-836c-4b8c-c98d-e5d521391876"
      },
      "execution_count": 22,
      "outputs": [
        {
          "output_type": "stream",
          "name": "stdout",
          "text": [
            "<__main__.Counter object at 0x7f4e159b78b0>\n"
          ]
        }
      ]
    },
    {
      "cell_type": "markdown",
      "source": [
        "a = range(10)\n",
        "type(a)\n"
      ],
      "metadata": {
        "id": "FIhnE2WuYcon"
      }
    },
    {
      "cell_type": "code",
      "source": [
        "def sum(a, b, c):\n",
        "    return a + b + c\n",
        "\n",
        "sum(*('가', '나', '다')) # '나다가'"
      ],
      "metadata": {
        "colab": {
          "base_uri": "https://localhost:8080/",
          "height": 35
        },
        "id": "WVylsiupp4sh",
        "outputId": "423b5991-3b8f-4b72-8638-4f4470314358"
      },
      "execution_count": 30,
      "outputs": [
        {
          "output_type": "execute_result",
          "data": {
            "text/plain": [
              "'가나다'"
            ],
            "application/vnd.google.colaboratory.intrinsic+json": {
              "type": "string"
            }
          },
          "metadata": {},
          "execution_count": 30
        }
      ]
    },
    {
      "cell_type": "code",
      "source": [
        "100_000_000"
      ],
      "metadata": {
        "colab": {
          "base_uri": "https://localhost:8080/",
          "height": 0
        },
        "id": "LNEKUKHC6law",
        "outputId": "457f4852-a23a-4507-feeb-5d871366e334"
      },
      "execution_count": 31,
      "outputs": [
        {
          "output_type": "execute_result",
          "data": {
            "text/plain": [
              "100000000"
            ]
          },
          "metadata": {},
          "execution_count": 31
        }
      ]
    },
    {
      "cell_type": "code",
      "source": [
        "p = 'Python'\n",
        "p[-1\n",
        "  ::]"
      ],
      "metadata": {
        "colab": {
          "base_uri": "https://localhost:8080/",
          "height": 35
        },
        "id": "UYqWKNdg7Uf2",
        "outputId": "e20978df-cfb8-4a78-dbe1-57729ce26303"
      },
      "execution_count": 36,
      "outputs": [
        {
          "output_type": "execute_result",
          "data": {
            "text/plain": [
              "'n'"
            ],
            "application/vnd.google.colaboratory.intrinsic+json": {
              "type": "string"
            }
          },
          "metadata": {},
          "execution_count": 36
        }
      ]
    },
    {
      "cell_type": "code",
      "source": [
        "a = [1,2,3,4,5,6,7,8,9]\n",
        "\n",
        "print(a[::-1])"
      ],
      "metadata": {
        "colab": {
          "base_uri": "https://localhost:8080/",
          "height": 0
        },
        "id": "Q5_G04-B8fiz",
        "outputId": "988205ec-9111-4164-c8ad-fb21fbeda111"
      },
      "execution_count": 38,
      "outputs": [
        {
          "output_type": "stream",
          "name": "stdout",
          "text": [
            "[9, 8, 7, 6, 5, 4, 3, 2, 1]\n"
          ]
        }
      ]
    },
    {
      "cell_type": "code",
      "source": [
        "if -1: \n",
        "    print (\"True\")"
      ],
      "metadata": {
        "colab": {
          "base_uri": "https://localhost:8080/",
          "height": 0
        },
        "id": "eLvweEth9PyA",
        "outputId": "8aca90d1-c23a-4211-a102-36dc76a6a5ae"
      },
      "execution_count": 41,
      "outputs": [
        {
          "output_type": "stream",
          "name": "stdout",
          "text": [
            "True\n"
          ]
        }
      ]
    },
    {
      "cell_type": "code",
      "source": [
        "fruits = {'apple', 'banana', 'orange'}"
      ],
      "metadata": {
        "id": "YAvbvg6d9eJt"
      },
      "execution_count": 42,
      "outputs": []
    },
    {
      "cell_type": "code",
      "source": [
        "for fruit_name in fruits:\n",
        "    print(fruit_name)"
      ],
      "metadata": {
        "colab": {
          "base_uri": "https://localhost:8080/",
          "height": 0
        },
        "id": "dDpUyrFk9glp",
        "outputId": "1bd6d3cb-dd13-4166-938e-b220917010aa"
      },
      "execution_count": 45,
      "outputs": [
        {
          "output_type": "stream",
          "name": "stdout",
          "text": [
            "banana\n",
            "apple\n",
            "orange\n"
          ]
        }
      ]
    },
    {
      "cell_type": "code",
      "source": [
        "def palindrome(text):\n",
        "    text = text.lower()\n",
        "    text = text.replace(\" \", \"\")\n",
        "    #reverse_text = text.reverse()\n",
        "    reverse_text = text[::-1]\n",
        "    if (text == reverse_text):\n",
        "        return True\n",
        "    else:\n",
        "        return False\n",
        "palindrome('Anna')\n"
      ],
      "metadata": {
        "colab": {
          "base_uri": "https://localhost:8080/",
          "height": 0
        },
        "id": "HtfaHDhz9_zI",
        "outputId": "edcf148a-5085-42cd-df06-a8805c8bfef0"
      },
      "execution_count": 51,
      "outputs": [
        {
          "output_type": "execute_result",
          "data": {
            "text/plain": [
              "True"
            ]
          },
          "metadata": {},
          "execution_count": 51
        }
      ]
    },
    {
      "cell_type": "code",
      "source": [
        "def sumOfDigits():\n",
        "    str = input()\n",
        "    str_list = [int(a) for a in str]\n",
        "    total = 0\n",
        "    for i in str_list:\n",
        "        total = total + i\n",
        "\n",
        "    print (total)\n",
        "\n",
        "sumOfDigits() "
      ],
      "metadata": {
        "colab": {
          "base_uri": "https://localhost:8080/",
          "height": 0
        },
        "id": "e_Y4ZYJ2Mgvq",
        "outputId": "38f74466-a9de-4304-a5f5-85257e63f366"
      },
      "execution_count": 55,
      "outputs": [
        {
          "output_type": "stream",
          "name": "stdout",
          "text": [
            "47253\n",
            "21\n"
          ]
        }
      ]
    },
    {
      "cell_type": "code",
      "source": [
        "print(list(\"47253\"))"
      ],
      "metadata": {
        "colab": {
          "base_uri": "https://localhost:8080/",
          "height": 0
        },
        "id": "h1fqBh4KNhGh",
        "outputId": "aa5d7302-b4aa-42bc-f17e-e3e2e91b8356"
      },
      "execution_count": 56,
      "outputs": [
        {
          "output_type": "stream",
          "name": "stdout",
          "text": [
            "['4', '7', '2', '5', '3']\n"
          ]
        }
      ]
    },
    {
      "cell_type": "code",
      "source": [
        "score = [1,11,14,13]\n",
        "score = score -  [11,11,13,18]"
      ],
      "metadata": {
        "colab": {
          "base_uri": "https://localhost:8080/",
          "height": 190
        },
        "id": "n4ibu1xfOWYa",
        "outputId": "de9d6067-1fa9-42c4-c5d4-f15f451941f6"
      },
      "execution_count": 58,
      "outputs": [
        {
          "output_type": "error",
          "ename": "TypeError",
          "evalue": "ignored",
          "traceback": [
            "\u001b[0;31m---------------------------------------------------------------------------\u001b[0m",
            "\u001b[0;31mTypeError\u001b[0m                                 Traceback (most recent call last)",
            "\u001b[0;32m<ipython-input-58-27293d63aa82>\u001b[0m in \u001b[0;36m<cell line: 2>\u001b[0;34m()\u001b[0m\n\u001b[1;32m      1\u001b[0m \u001b[0mscore\u001b[0m \u001b[0;34m=\u001b[0m \u001b[0;34m[\u001b[0m\u001b[0;36m1\u001b[0m\u001b[0;34m,\u001b[0m\u001b[0;36m11\u001b[0m\u001b[0;34m,\u001b[0m\u001b[0;36m14\u001b[0m\u001b[0;34m,\u001b[0m\u001b[0;36m13\u001b[0m\u001b[0;34m]\u001b[0m\u001b[0;34m\u001b[0m\u001b[0;34m\u001b[0m\u001b[0m\n\u001b[0;32m----> 2\u001b[0;31m \u001b[0mscore\u001b[0m \u001b[0;34m=\u001b[0m \u001b[0mscore\u001b[0m \u001b[0;34m-\u001b[0m  \u001b[0;34m[\u001b[0m\u001b[0;36m11\u001b[0m\u001b[0;34m,\u001b[0m\u001b[0;36m11\u001b[0m\u001b[0;34m,\u001b[0m\u001b[0;36m13\u001b[0m\u001b[0;34m,\u001b[0m\u001b[0;36m18\u001b[0m\u001b[0;34m]\u001b[0m\u001b[0;34m\u001b[0m\u001b[0;34m\u001b[0m\u001b[0m\n\u001b[0m",
            "\u001b[0;31mTypeError\u001b[0m: unsupported operand type(s) for -: 'list' and 'list'"
          ]
        }
      ]
    },
    {
      "cell_type": "code",
      "source": [
        "stem_leaf = [[0,0,2,4,7,7,9],[1,1,3,8],[0]]\n",
        "\n",
        "for i, ele in enumerate(stem_leaf):\n",
        "    print (i,\":\", ele)"
      ],
      "metadata": {
        "colab": {
          "base_uri": "https://localhost:8080/",
          "height": 0
        },
        "id": "QAJ4WtScPVMW",
        "outputId": "7cae07d6-722b-4900-f59d-7dbb19954fcb"
      },
      "execution_count": 61,
      "outputs": [
        {
          "output_type": "stream",
          "name": "stdout",
          "text": [
            "0 : [0, 0, 2, 4, 7, 7, 9]\n",
            "1 : [1, 1, 3, 8]\n",
            "2 : [0]\n"
          ]
        }
      ]
    },
    {
      "cell_type": "code",
      "source": [
        "num = int(input(\"숫자를 입력해 주세요\"))\n",
        "\n",
        "num_list = list(range(2,num))\n",
        "num_list_copy = num_list.copy()\n",
        "\n",
        "result_list = []\n",
        "list_length = len(num_list)\n",
        "\n",
        "while list_length:\n",
        "    \n",
        "    result_list.append(num_list[0])\n",
        "\n",
        "    for i in range(2, len(num_list)):\n",
        "        if (num_list[i] % num_list[0]) == 0:\n",
        "            num_list_copy.remove(num_list[i])\n",
        "            list_length -=1\n",
        "\n",
        "    print (f\"num_list_copy: {num_list_copy}\")        \n",
        "    num_list = num_list_copy.copy()\n",
        "    first_item =num_list[0]\n",
        "    num_list.remove(num_list[0])\n",
        "    num_list_copy.remove(first_item)\n",
        "    #result_list.append(num_list[0])\n",
        "    print(f\"result_list: {result_list}\")\n",
        "    list_length -=1\n",
        "\n",
        "    print (f\"num_list: {num_list}\")        \n",
        "    \n",
        "print(result_list)\n",
        "\n"
      ],
      "metadata": {
        "colab": {
          "base_uri": "https://localhost:8080/"
        },
        "id": "m6I8ynstSWhm",
        "outputId": "384491d2-e18b-4c38-bad5-ed4467844d2b"
      },
      "execution_count": 111,
      "outputs": [
        {
          "output_type": "stream",
          "name": "stdout",
          "text": [
            "숫자를 입력해 주세요10\n",
            "num_list_copy: [2, 3, 5, 7, 9]\n",
            "result_list: [2]\n",
            "num_list: [3, 5, 7, 9]\n",
            "num_list_copy: [3, 5, 7]\n",
            "result_list: [2, 3]\n",
            "num_list: [5, 7]\n",
            "num_list_copy: [5, 7]\n",
            "result_list: [2, 3, 5]\n",
            "num_list: [7]\n",
            "num_list_copy: [7]\n",
            "result_list: [2, 3, 5, 7]\n",
            "num_list: []\n",
            "[2, 3, 5, 7]\n"
          ]
        }
      ]
    },
    {
      "cell_type": "code",
      "source": [],
      "metadata": {
        "id": "MLAA3XQquumn"
      },
      "execution_count": null,
      "outputs": []
    },
    {
      "cell_type": "code",
      "source": [
        "a = [1,2,3]\n",
        "b = a\n",
        "c = a.copy()\n",
        "\n",
        "a.pop()\n",
        "\n",
        "print(a)\n",
        "print(b)\n",
        "print(c)"
      ],
      "metadata": {
        "colab": {
          "base_uri": "https://localhost:8080/",
          "height": 0
        },
        "id": "qatCinjhg0aw",
        "outputId": "e3a3a954-2cad-4003-a873-5691714bf629"
      },
      "execution_count": 93,
      "outputs": [
        {
          "output_type": "stream",
          "name": "stdout",
          "text": [
            "[1, 2]\n",
            "[1, 2]\n",
            "[1, 2, 3]\n"
          ]
        }
      ]
    },
    {
      "cell_type": "code",
      "source": [
        "a = [1,2,3]\n",
        "a.remove(a[0])\n",
        "print(a)"
      ],
      "metadata": {
        "colab": {
          "base_uri": "https://localhost:8080/",
          "height": 0
        },
        "id": "59LZMQgud8jc",
        "outputId": "62437044-7de4-404e-8bf6-45ad2990c32e"
      },
      "execution_count": 89,
      "outputs": [
        {
          "output_type": "stream",
          "name": "stdout",
          "text": [
            "[2, 3]\n"
          ]
        }
      ]
    },
    {
      "cell_type": "code",
      "source": [
        "a =[1,2,3,4,4,4]\n",
        "a.remove(4)\n",
        "print(a)"
      ],
      "metadata": {
        "colab": {
          "base_uri": "https://localhost:8080/",
          "height": 209
        },
        "id": "yTpRQ86pWtY9",
        "outputId": "5b343785-4654-425a-aa38-d61dcd7f3a90"
      },
      "execution_count": 65,
      "outputs": [
        {
          "output_type": "error",
          "ename": "AttributeError",
          "evalue": "ignored",
          "traceback": [
            "\u001b[0;31m---------------------------------------------------------------------------\u001b[0m",
            "\u001b[0;31mAttributeError\u001b[0m                            Traceback (most recent call last)",
            "\u001b[0;32m<ipython-input-65-2d5c9b1d4cb8>\u001b[0m in \u001b[0;36m<cell line: 2>\u001b[0;34m()\u001b[0m\n\u001b[1;32m      1\u001b[0m \u001b[0ma\u001b[0m \u001b[0;34m=\u001b[0m\u001b[0;34m[\u001b[0m\u001b[0;36m1\u001b[0m\u001b[0;34m,\u001b[0m\u001b[0;36m2\u001b[0m\u001b[0;34m,\u001b[0m\u001b[0;36m3\u001b[0m\u001b[0;34m,\u001b[0m\u001b[0;36m4\u001b[0m\u001b[0;34m,\u001b[0m\u001b[0;36m4\u001b[0m\u001b[0;34m,\u001b[0m\u001b[0;36m4\u001b[0m\u001b[0;34m]\u001b[0m\u001b[0;34m\u001b[0m\u001b[0;34m\u001b[0m\u001b[0m\n\u001b[0;32m----> 2\u001b[0;31m \u001b[0ma\u001b[0m\u001b[0;34m.\u001b[0m\u001b[0mremoveall\u001b[0m\u001b[0;34m(\u001b[0m\u001b[0;36m4\u001b[0m\u001b[0;34m)\u001b[0m\u001b[0;34m\u001b[0m\u001b[0;34m\u001b[0m\u001b[0m\n\u001b[0m\u001b[1;32m      3\u001b[0m \u001b[0mprint\u001b[0m\u001b[0;34m(\u001b[0m\u001b[0ma\u001b[0m\u001b[0;34m)\u001b[0m\u001b[0;34m\u001b[0m\u001b[0;34m\u001b[0m\u001b[0m\n",
            "\u001b[0;31mAttributeError\u001b[0m: 'list' object has no attribute 'removeall'"
          ]
        }
      ]
    },
    {
      "cell_type": "code",
      "source": [
        "num  =  int(input(\"숫자를 입력해 주세요 \"))\n",
        "\n",
        "binary_val = \"\"\n",
        "binary = \"\"\n",
        "quotient, remainder = num, None\n",
        "\n",
        "while quotient:\n",
        "    quotient, remainder = divmod(quotient, 2)\n",
        "    print(quotient)\n",
        "    binary = binary + str(remainder)\n",
        "\n",
        "print(binary)\n",
        "\n",
        "\n",
        "\n",
        "\n",
        "\n"
      ],
      "metadata": {
        "colab": {
          "base_uri": "https://localhost:8080/"
        },
        "id": "pgsc-Bheux8R",
        "outputId": "b2d48f9b-f970-4294-b74b-8c8bb037a947"
      },
      "execution_count": 7,
      "outputs": [
        {
          "output_type": "stream",
          "name": "stdout",
          "text": [
            "숫자를 입력해 주세요 13\n",
            "6\n",
            "3\n",
            "1\n",
            "0\n",
            "1011\n"
          ]
        }
      ]
    },
    {
      "cell_type": "code",
      "source": [],
      "metadata": {
        "id": "hk3ECqX2w6ax"
      },
      "execution_count": null,
      "outputs": []
    }
  ]
}