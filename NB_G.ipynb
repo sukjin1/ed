{
  "nbformat": 4,
  "nbformat_minor": 0,
  "metadata": {
    "colab": {
      "provenance": [],
      "authorship_tag": "ABX9TyOsqG85PFiW2rbKKVBGwQ43",
      "include_colab_link": true
    },
    "kernelspec": {
      "name": "python3",
      "display_name": "Python 3"
    },
    "language_info": {
      "name": "python"
    }
  },
  "cells": [
    {
      "cell_type": "markdown",
      "metadata": {
        "id": "view-in-github",
        "colab_type": "text"
      },
      "source": [
        "<a href=\"https://colab.research.google.com/github/sukjin1/ed/blob/main/NB_G.ipynb\" target=\"_parent\"><img src=\"https://colab.research.google.com/assets/colab-badge.svg\" alt=\"Open In Colab\"/></a>"
      ]
    },
    {
      "cell_type": "markdown",
      "source": [
        "https://ai-times.tistory.com/418"
      ],
      "metadata": {
        "id": "UMuOoAQPBX7U"
      }
    },
    {
      "cell_type": "markdown",
      "source": [
        "https://datascienceschool.net/03%20machine%20learning/11.02%20%EB%82%98%EC%9D%B4%EB%B8%8C%EB%B2%A0%EC%9D%B4%EC%A6%88%20%EB%B6%84%EB%A5%98%EB%AA%A8%ED%98%95.html"
      ],
      "metadata": {
        "id": "7omUGxBwE8z6"
      }
    },
    {
      "cell_type": "markdown",
      "source": [
        "![image.png](data:image/png;base64,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)"
      ],
      "metadata": {
        "id": "ZwKprvWFBUFB"
      }
    },
    {
      "cell_type": "code",
      "execution_count": 1,
      "metadata": {
        "colab": {
          "base_uri": "https://localhost:8080/"
        },
        "id": "72MWsqBJAm20",
        "outputId": "d8ebbcbe-272a-4e4a-aa5e-d279f4f0de67"
      },
      "outputs": [
        {
          "output_type": "execute_result",
          "data": {
            "text/plain": [
              "array([0.33333333, 0.33333333, 0.33333333])"
            ]
          },
          "metadata": {},
          "execution_count": 1
        }
      ],
      "source": [
        "from sklearn.datasets import load_iris\n",
        "\n",
        "iris = load_iris()\n",
        "X1 = iris.data\n",
        "y1 = iris.target\n",
        "\n",
        "from sklearn.naive_bayes import GaussianNB\n",
        "\n",
        "model1 = GaussianNB().fit(X1, y1)\n",
        "model1.class_prior_"
      ]
    },
    {
      "cell_type": "code",
      "source": [
        "X1[:5]"
      ],
      "metadata": {
        "colab": {
          "base_uri": "https://localhost:8080/"
        },
        "id": "AGgqD0xUBg3M",
        "outputId": "bbfabd60-7be9-4db2-b56d-a7fe8202c8eb"
      },
      "execution_count": 5,
      "outputs": [
        {
          "output_type": "execute_result",
          "data": {
            "text/plain": [
              "array([[5.1, 3.5, 1.4, 0.2],\n",
              "       [4.9, 3. , 1.4, 0.2],\n",
              "       [4.7, 3.2, 1.3, 0.2],\n",
              "       [4.6, 3.1, 1.5, 0.2],\n",
              "       [5. , 3.6, 1.4, 0.2]])"
            ]
          },
          "metadata": {},
          "execution_count": 5
        }
      ]
    },
    {
      "cell_type": "code",
      "source": [
        "y1.shape"
      ],
      "metadata": {
        "colab": {
          "base_uri": "https://localhost:8080/"
        },
        "id": "2__vC-YaBiv8",
        "outputId": "a9d89f8d-5e77-4a68-a2bf-79fbc7baed17"
      },
      "execution_count": 8,
      "outputs": [
        {
          "output_type": "execute_result",
          "data": {
            "text/plain": [
              "(150,)"
            ]
          },
          "metadata": {},
          "execution_count": 8
        }
      ]
    },
    {
      "cell_type": "code",
      "source": [
        "y1[:5]"
      ],
      "metadata": {
        "colab": {
          "base_uri": "https://localhost:8080/"
        },
        "id": "NbOA5LS2BwPp",
        "outputId": "dfeac10d-cae2-47c2-d535-fe161971f437"
      },
      "execution_count": 10,
      "outputs": [
        {
          "output_type": "execute_result",
          "data": {
            "text/plain": [
              "array([0, 0, 0, 0, 0])"
            ]
          },
          "metadata": {},
          "execution_count": 10
        }
      ]
    },
    {
      "cell_type": "code",
      "source": [
        "len(y1[y1==0])"
      ],
      "metadata": {
        "colab": {
          "base_uri": "https://localhost:8080/"
        },
        "id": "DL0QzXmCB5o0",
        "outputId": "4bd38330-597a-4a86-8b0f-1cb6ab3f4beb"
      },
      "execution_count": 11,
      "outputs": [
        {
          "output_type": "execute_result",
          "data": {
            "text/plain": [
              "50"
            ]
          },
          "metadata": {},
          "execution_count": 11
        }
      ]
    },
    {
      "cell_type": "code",
      "source": [
        "len(y1[y1==1])"
      ],
      "metadata": {
        "colab": {
          "base_uri": "https://localhost:8080/"
        },
        "id": "tF-nxC9LCM3p",
        "outputId": "49a9aab4-cd3d-450a-9f36-c51e0848205c"
      },
      "execution_count": 13,
      "outputs": [
        {
          "output_type": "execute_result",
          "data": {
            "text/plain": [
              "50"
            ]
          },
          "metadata": {},
          "execution_count": 13
        }
      ]
    },
    {
      "cell_type": "code",
      "source": [
        "len(y1[y1==2])"
      ],
      "metadata": {
        "colab": {
          "base_uri": "https://localhost:8080/"
        },
        "id": "kF9d2Tw8CSgi",
        "outputId": "628ab6a3-b169-4940-b758-961188a0494b"
      },
      "execution_count": 14,
      "outputs": [
        {
          "output_type": "execute_result",
          "data": {
            "text/plain": [
              "50"
            ]
          },
          "metadata": {},
          "execution_count": 14
        }
      ]
    },
    {
      "cell_type": "code",
      "source": [
        "model1.theta_ #평균"
      ],
      "metadata": {
        "colab": {
          "base_uri": "https://localhost:8080/"
        },
        "id": "j2Wrg9ZqCUbe",
        "outputId": "56ee34a8-470a-4614-9a43-0824a8729f1b"
      },
      "execution_count": 16,
      "outputs": [
        {
          "output_type": "execute_result",
          "data": {
            "text/plain": [
              "array([[5.006, 3.428, 1.462, 0.246],\n",
              "       [5.936, 2.77 , 4.26 , 1.326],\n",
              "       [6.588, 2.974, 5.552, 2.026]])"
            ]
          },
          "metadata": {},
          "execution_count": 16
        }
      ]
    },
    {
      "cell_type": "code",
      "source": [
        "model1.var_ #분산"
      ],
      "metadata": {
        "colab": {
          "base_uri": "https://localhost:8080/"
        },
        "id": "LH9KbXdPCiDK",
        "outputId": "4471c7f1-8fc9-45da-dfb9-0b77adef1a4d"
      },
      "execution_count": 18,
      "outputs": [
        {
          "output_type": "execute_result",
          "data": {
            "text/plain": [
              "array([[0.121764, 0.140816, 0.029556, 0.010884],\n",
              "       [0.261104, 0.0965  , 0.2164  , 0.038324],\n",
              "       [0.396256, 0.101924, 0.298496, 0.073924]])"
            ]
          },
          "metadata": {},
          "execution_count": 18
        }
      ]
    },
    {
      "cell_type": "code",
      "source": [
        "y1_pred = model1.predict(X1)"
      ],
      "metadata": {
        "id": "8OAa24TUDWzj"
      },
      "execution_count": 19,
      "outputs": []
    },
    {
      "cell_type": "code",
      "source": [
        "y1_pred"
      ],
      "metadata": {
        "colab": {
          "base_uri": "https://localhost:8080/"
        },
        "id": "eimECRfDDwKh",
        "outputId": "351681e3-d02e-475f-b238-d85a85567f15"
      },
      "execution_count": 20,
      "outputs": [
        {
          "output_type": "execute_result",
          "data": {
            "text/plain": [
              "array([0, 0, 0, 0, 0, 0, 0, 0, 0, 0, 0, 0, 0, 0, 0, 0, 0, 0, 0, 0, 0, 0,\n",
              "       0, 0, 0, 0, 0, 0, 0, 0, 0, 0, 0, 0, 0, 0, 0, 0, 0, 0, 0, 0, 0, 0,\n",
              "       0, 0, 0, 0, 0, 0, 1, 1, 2, 1, 1, 1, 1, 1, 1, 1, 1, 1, 1, 1, 1, 1,\n",
              "       1, 1, 1, 1, 2, 1, 1, 1, 1, 1, 1, 2, 1, 1, 1, 1, 1, 1, 1, 1, 1, 1,\n",
              "       1, 1, 1, 1, 1, 1, 1, 1, 1, 1, 1, 1, 2, 2, 2, 2, 2, 2, 1, 2, 2, 2,\n",
              "       2, 2, 2, 2, 2, 2, 2, 2, 2, 1, 2, 2, 2, 2, 2, 2, 2, 2, 2, 2, 2, 2,\n",
              "       2, 1, 2, 2, 2, 2, 2, 2, 2, 2, 2, 2, 2, 2, 2, 2, 2, 2])"
            ]
          },
          "metadata": {},
          "execution_count": 20
        }
      ]
    },
    {
      "cell_type": "code",
      "source": [
        "from sklearn.metrics import confusion_matrix\n",
        "\n",
        "confusion_matrix(y1, y1_pred)"
      ],
      "metadata": {
        "colab": {
          "base_uri": "https://localhost:8080/"
        },
        "id": "UZdaUtfjDycC",
        "outputId": "8a56c005-820c-401c-f358-4b0e46ecb251"
      },
      "execution_count": 21,
      "outputs": [
        {
          "output_type": "execute_result",
          "data": {
            "text/plain": [
              "array([[50,  0,  0],\n",
              "       [ 0, 47,  3],\n",
              "       [ 0,  3, 47]])"
            ]
          },
          "metadata": {},
          "execution_count": 21
        }
      ]
    },
    {
      "cell_type": "code",
      "source": [
        "from sklearn.metrics import classification_report\n",
        "\n",
        "print(classification_report(y1, y1_pred))"
      ],
      "metadata": {
        "colab": {
          "base_uri": "https://localhost:8080/"
        },
        "id": "5nCMY1JXD3Wz",
        "outputId": "d117efd9-2953-4b65-ecc3-28e8bfbadee5"
      },
      "execution_count": 22,
      "outputs": [
        {
          "output_type": "stream",
          "name": "stdout",
          "text": [
            "              precision    recall  f1-score   support\n",
            "\n",
            "           0       1.00      1.00      1.00        50\n",
            "           1       0.94      0.94      0.94        50\n",
            "           2       0.94      0.94      0.94        50\n",
            "\n",
            "    accuracy                           0.96       150\n",
            "   macro avg       0.96      0.96      0.96       150\n",
            "weighted avg       0.96      0.96      0.96       150\n",
            "\n"
          ]
        }
      ]
    },
    {
      "cell_type": "markdown",
      "source": [
        "왜 precision/recall 이 94?"
      ],
      "metadata": {
        "id": "eVHVEfHWFTZf"
      }
    }
  ]
}