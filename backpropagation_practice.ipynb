{
  "nbformat": 4,
  "nbformat_minor": 0,
  "metadata": {
    "colab": {
      "provenance": [],
      "authorship_tag": "ABX9TyN8TyT25iwZwx/mLeuFJKSO",
      "include_colab_link": true
    },
    "kernelspec": {
      "name": "python3",
      "display_name": "Python 3"
    },
    "language_info": {
      "name": "python"
    }
  },
  "cells": [
    {
      "cell_type": "markdown",
      "metadata": {
        "id": "view-in-github",
        "colab_type": "text"
      },
      "source": [
        "<a href=\"https://colab.research.google.com/github/sukjin1/ed/blob/main/backpropagation_practice.ipynb\" target=\"_parent\"><img src=\"https://colab.research.google.com/assets/colab-badge.svg\" alt=\"Open In Colab\"/></a>"
      ]
    },
    {
      "cell_type": "markdown",
      "source": [
        "이 코드에서는 시그모이드 활성화 함수를 사용하며, 입력과 목표 출력을 정의합니다. 그런 다음 backpropagation() 함수를 사용하여 역전파 알고리즘을 수행합니다. 학습률과 학습 반복 횟수를 설정하고, 학습이 완료된 후 새로운 입력에 대한 예측을 출력합니다.\n",
        "\n",
        "이 예제는 XOR 문제를 해결하기 위해 2개의 입력과 1개의 출력을 갖는 인공 신경망을 구현합니다."
      ],
      "metadata": {
        "id": "8STl6dn_EP3-"
      }
    },
    {
      "cell_type": "code",
      "execution_count": null,
      "metadata": {
        "colab": {
          "base_uri": "https://localhost:8080/"
        },
        "id": "uKQnS-BPEChi",
        "outputId": "3dd2ea0c-c73f-4dc4-885c-3156a707fc30"
      },
      "outputs": [
        {
          "output_type": "stream",
          "name": "stdout",
          "text": [
            "Predictions:\n",
            "[[0.00475949]\n",
            " [0.99479202]\n",
            " [0.99506652]\n",
            " [0.0049117 ]]\n"
          ]
        }
      ],
      "source": [
        "import numpy as np\n",
        "\n",
        "# 활성화 함수: 시그모이드 함수\n",
        "def sigmoid(x):\n",
        "    return 1 / (1 + np.exp(-x))\n",
        "\n",
        "# 역전파 알고리즘\n",
        "def backpropagation(inputs, targets, learning_rate, num_iterations):\n",
        "    # 입력, 은닉층과 출력층의 크기\n",
        "    input_size = inputs.shape[1]\n",
        "    hidden_size = 4\n",
        "    output_size = targets.shape[1]\n",
        "\n",
        "    # 가중치 초기화\n",
        "    weights_input_hidden = np.random.uniform(size=(input_size, hidden_size))\n",
        "    weights_hidden_output = np.random.uniform(size=(hidden_size, output_size))\n",
        "\n",
        "    # 학습 반복\n",
        "    for _ in range(num_iterations):\n",
        "        # 순전파\n",
        "        hidden_inputs = np.dot(inputs, weights_input_hidden)\n",
        "        hidden_outputs = sigmoid(hidden_inputs)\n",
        "\n",
        "        final_inputs = np.dot(hidden_outputs, weights_hidden_output)\n",
        "        final_outputs = sigmoid(final_inputs)\n",
        "\n",
        "        # 오차 계산\n",
        "        output_errors = targets - final_outputs\n",
        "        hidden_errors = np.dot(output_errors, weights_hidden_output.T)\n",
        "\n",
        "        # 가중치 업데이트\n",
        "        weights_hidden_output += learning_rate * np.dot(hidden_outputs.T, output_errors * final_outputs * (1 - final_outputs))\n",
        " #       weights_hidden_output += learning_rate * np.dot(hidden_outputs.T, output_errors)\n",
        "        weights_input_hidden += learning_rate * np.dot(inputs.T, hidden_errors * hidden_outputs * (1 - hidden_outputs))\n",
        "\n",
        "    return weights_input_hidden, weights_hidden_output\n",
        "\n",
        "# 입력 데이터\n",
        "inputs = np.array([[0, 0], [0, 1], [1, 0], [1, 1]])\n",
        "# 목표 출력\n",
        "targets = np.array([[0], [1], [1], [0]])\n",
        "\n",
        "# 학습률과 학습 반복 횟수 설정\n",
        "learning_rate = 0.1\n",
        "num_iterations = 10000\n",
        "\n",
        "# 역전파 알고리즘 수행\n",
        "weights_input_hidden, weights_hidden_output = backpropagation(inputs, targets, learning_rate, num_iterations)\n",
        "\n",
        "# 새로운 입력에 대한 예측\n",
        "new_inputs = np.array([[0, 0], [0, 1], [1, 0], [1, 1]])\n",
        "hidden_inputs = np.dot(new_inputs, weights_input_hidden)\n",
        "hidden_outputs = sigmoid(hidden_inputs)\n",
        "final_inputs = np.dot(hidden_outputs, weights_hidden_output)\n",
        "final_outputs = sigmoid(final_inputs)\n",
        "\n",
        "print(\"Predictions:\")\n",
        "print(final_outputs)\n"
      ]
    },
    {
      "cell_type": "code",
      "source": [
        "weights_input_hidden"
      ],
      "metadata": {
        "colab": {
          "base_uri": "https://localhost:8080/"
        },
        "id": "tDxAbA-QoVSs",
        "outputId": "a478516f-5ec3-4df6-ae10-fd9686c0265a"
      },
      "execution_count": null,
      "outputs": [
        {
          "output_type": "execute_result",
          "data": {
            "text/plain": [
              "array([[ 7.86310471,  5.90023917, -3.79281272, -2.44851146],\n",
              "       [-3.75977174,  5.89677649,  8.01379372, -2.65674962]])"
            ]
          },
          "metadata": {},
          "execution_count": 2
        }
      ]
    },
    {
      "cell_type": "code",
      "source": [
        "weights_hidden_output"
      ],
      "metadata": {
        "colab": {
          "base_uri": "https://localhost:8080/"
        },
        "id": "PQP4Jo_aoZXV",
        "outputId": "3ec02858-a248-4854-ae7e-25b8a15137e6"
      },
      "execution_count": null,
      "outputs": [
        {
          "output_type": "execute_result",
          "data": {
            "text/plain": [
              "array([[-11.52643651],\n",
              "       [ 17.53492029],\n",
              "       [-11.64494207],\n",
              "       [ -5.0492297 ]])"
            ]
          },
          "metadata": {},
          "execution_count": 3
        }
      ]
    },
    {
      "cell_type": "code",
      "source": [],
      "metadata": {
        "id": "OPBd6bIMoa7m"
      },
      "execution_count": null,
      "outputs": []
    }
  ]
}