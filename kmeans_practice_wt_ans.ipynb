{
  "nbformat": 4,
  "nbformat_minor": 0,
  "metadata": {
    "colab": {
      "provenance": [],
      "authorship_tag": "ABX9TyNrGcfSkGIFCHVgiO9A98He",
      "include_colab_link": true
    },
    "kernelspec": {
      "name": "python3",
      "display_name": "Python 3"
    },
    "language_info": {
      "name": "python"
    }
  },
  "cells": [
    {
      "cell_type": "markdown",
      "metadata": {
        "id": "view-in-github",
        "colab_type": "text"
      },
      "source": [
        "<a href=\"https://colab.research.google.com/github/sukjin1/ed/blob/main/kmeans_practice_wt_ans.ipynb\" target=\"_parent\"><img src=\"https://colab.research.google.com/assets/colab-badge.svg\" alt=\"Open In Colab\"/></a>"
      ]
    },
    {
      "cell_type": "code",
      "execution_count": null,
      "metadata": {
        "colab": {
          "base_uri": "https://localhost:8080/",
          "height": 472
        },
        "id": "ZPt_C6-KyNik",
        "outputId": "4d6b58e8-c671-4f10-f6d7-6dec9f954cb3"
      },
      "outputs": [
        {
          "output_type": "display_data",
          "data": {
            "text/plain": [
              "<Figure size 640x480 with 1 Axes>"
            ],
            "image/png": "[encoded data removed]"
          },
          "metadata": {}
        }
      ],
      "source": [
        "import numpy as np\n",
        "import matplotlib.pyplot as plt\n",
        "\n",
        "def kmeans(X, K, max_iters=100):\n",
        "    centroids = X[np.random.choice(range(len(X)), K, replace=False)]\n",
        "\n",
        "    for _ in range(max_iters):\n",
        "\n",
        "\n",
        "        labels = np.argmin(np.linalg.norm(X[:, np.?] - centroids, axis=2), axis=1)\n",
        "\n",
        "        new_centroids = np.array([X[labels == k].mean(axis=?) for k in range(K)])\n",
        "\n",
        "        if np.all(centroids == new_centroids):\n",
        "            break\n",
        "\n",
        "        centroids = new_centroids\n",
        "\n",
        "    return labels, centroids\n",
        "\n",
        "# Example usage\n",
        "X = np.array([[1, 2], [1.5, 1.8], [5, 8], [8, 8], [1, 0.6], [9, 11]])\n",
        "K = 2\n",
        "\n",
        "labels, centroids = kmeans(X, K)\n",
        "\n",
        "# Plotting the data points and centroids\n",
        "plt.scatter(X[:, 0], X[:, 1], c=labels)\n",
        "plt.scatter(centroids[:, 0], centroids[:, 1], c='red', marker='x')\n",
        "plt.title('K-means Clustering')\n",
        "plt.xlabel('X')\n",
        "plt.ylabel('Y')\n",
        "plt.show()\n"
      ]
    },
    {
      "cell_type": "code",
      "source": [
        "centroids"
      ],
      "metadata": {
        "colab": {
          "base_uri": "https://localhost:8080/"
        },
        "id": "grkatsTmZNJt",
        "outputId": "f2a358ac-b45c-4346-a6b7-c77bd03fa3bc"
      },
      "execution_count": null,
      "outputs": [
        {
          "output_type": "execute_result",
          "data": {
            "text/plain": [
              "array([[7.33333333, 9.        ],\n",
              "       [1.16666667, 1.46666667]])"
            ]
          },
          "metadata": {},
          "execution_count": 2
        }
      ]
    },
    {
      "cell_type": "code",
      "source": [
        "X[:, np.newaxis]"
      ],
      "metadata": {
        "colab": {
          "base_uri": "https://localhost:8080/"
        },
        "id": "DCA6gBnt1enI",
        "outputId": "a05e8496-1bbd-483d-b52b-71e1186a9b12"
      },
      "execution_count": null,
      "outputs": [
        {
          "output_type": "execute_result",
          "data": {
            "text/plain": [
              "array([[[ 1. ,  2. ]],\n",
              "\n",
              "       [[ 1.5,  1.8]],\n",
              "\n",
              "       [[ 5. ,  8. ]],\n",
              "\n",
              "       [[ 8. ,  8. ]],\n",
              "\n",
              "       [[ 1. ,  0.6]],\n",
              "\n",
              "       [[ 9. , 11. ]]])"
            ]
          },
          "metadata": {},
          "execution_count": 3
        }
      ]
    },
    {
      "cell_type": "code",
      "source": [
        "centroids = X[np.random.choice(range(len(X)), K, replace=False)]"
      ],
      "metadata": {
        "id": "n4qCGEPS1fOr"
      },
      "execution_count": null,
      "outputs": []
    },
    {
      "cell_type": "code",
      "source": [
        "centroids"
      ],
      "metadata": {
        "colab": {
          "base_uri": "https://localhost:8080/"
        },
        "id": "maS3UGN4ZXCk",
        "outputId": "65e470f7-ba23-4b59-ea90-aa3d26a5e1ce"
      },
      "execution_count": null,
      "outputs": [
        {
          "output_type": "execute_result",
          "data": {
            "text/plain": [
              "array([[1.5, 1.8],\n",
              "       [5. , 8. ]])"
            ]
          },
          "metadata": {},
          "execution_count": 5
        }
      ]
    },
    {
      "cell_type": "code",
      "source": [
        "X[:, np.newaxis].shape"
      ],
      "metadata": {
        "colab": {
          "base_uri": "https://localhost:8080/"
        },
        "id": "seE9diM62U11",
        "outputId": "0f211bf3-519a-432f-ef59-0c92706fc70e"
      },
      "execution_count": null,
      "outputs": [
        {
          "output_type": "execute_result",
          "data": {
            "text/plain": [
              "(6, 1, 2)"
            ]
          },
          "metadata": {},
          "execution_count": 6
        }
      ]
    },
    {
      "cell_type": "code",
      "source": [
        "X"
      ],
      "metadata": {
        "colab": {
          "base_uri": "https://localhost:8080/"
        },
        "id": "QJ6lgM-0ZhqC",
        "outputId": "02eec8e8-815b-4acf-e32c-b584e2662df7"
      },
      "execution_count": null,
      "outputs": [
        {
          "output_type": "execute_result",
          "data": {
            "text/plain": [
              "array([[ 1. ,  2. ],\n",
              "       [ 1.5,  1.8],\n",
              "       [ 5. ,  8. ],\n",
              "       [ 8. ,  8. ],\n",
              "       [ 1. ,  0.6],\n",
              "       [ 9. , 11. ]])"
            ]
          },
          "metadata": {},
          "execution_count": 7
        }
      ]
    },
    {
      "cell_type": "code",
      "source": [
        "centroids.shape\n"
      ],
      "metadata": {
        "colab": {
          "base_uri": "https://localhost:8080/"
        },
        "id": "mU_6rP-Q2fq0",
        "outputId": "42e30921-24cb-416a-9129-f0c91ce0794a"
      },
      "execution_count": null,
      "outputs": [
        {
          "output_type": "execute_result",
          "data": {
            "text/plain": [
              "(2, 2)"
            ]
          },
          "metadata": {},
          "execution_count": 8
        }
      ]
    },
    {
      "cell_type": "code",
      "source": [],
      "metadata": {
        "id": "YduYpGloZvcj"
      },
      "execution_count": null,
      "outputs": []
    }
  ]
}