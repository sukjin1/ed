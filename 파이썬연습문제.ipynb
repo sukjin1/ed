{
  "nbformat": 4,
  "nbformat_minor": 0,
  "metadata": {
    "colab": {
      "provenance": [],
      "authorship_tag": "ABX9TyPjJVJzLeTPods/8zgdFHga",
      "include_colab_link": true
    },
    "kernelspec": {
      "name": "python3",
      "display_name": "Python 3"
    },
    "language_info": {
      "name": "python"
    }
  },
  "cells": [
    {
      "cell_type": "markdown",
      "metadata": {
        "id": "view-in-github",
        "colab_type": "text"
      },
      "source": [
        "<a href=\"https://colab.research.google.com/github/sukjin1/ed/blob/main/%ED%8C%8C%EC%9D%B4%EC%8D%AC%EC%97%B0%EC%8A%B5%EB%AC%B8%EC%A0%9C.ipynb\" target=\"_parent\"><img src=\"https://colab.research.google.com/assets/colab-badge.svg\" alt=\"Open In Colab\"/></a>"
      ]
    },
    {
      "cell_type": "code",
      "execution_count": null,
      "metadata": {
        "id": "bSgRbGTvhxXa"
      },
      "outputs": [],
      "source": []
    },
    {
      "cell_type": "code",
      "source": [
        "#start_mark = \"*\"\n",
        "index = [5, 4, 3, 2, 1, 0, 1, 2, 3, 4, 5]\n",
        "\n",
        "str = \"\"\n",
        "str_list = []\n",
        "\n",
        "for i in range(1,12, 2):\n",
        "    # print(\"i:\", i)\n",
        "    str = \"\"\n",
        "    for _ in range (11):\n",
        "        # print(_)\n",
        "        # print(index[_])\n",
        "\n",
        "        if index[_] > int(i/2):\n",
        "        # print (\"index: \", _, \"index value\", index[_])\n",
        "            str = str + \" \"\n",
        "        else:\n",
        "            str = str + \"*\"\n",
        "        # print(\"str:\", str)\n",
        "    print(str , \"\\r\")\n",
        "    \n",
        "    if (i<=7):\n",
        "        #  print(\"str:\", str)\n",
        "         str_list = str_list + [str]\n",
        "    \n",
        "while len(str_list) > 0:\n",
        "    print(str_list.pop())\n"
      ],
      "metadata": {
        "colab": {
          "base_uri": "https://localhost:8080/"
        },
        "id": "RjiTGxORh2D0",
        "outputId": "9f43e5b1-cd80-4a67-a85d-df68ee2ad9ec"
      },
      "execution_count": 53,
      "outputs": [
        {
          "output_type": "stream",
          "name": "stdout",
          "text": [
            "     *      \r\n",
            "    ***     \r\n",
            "   *****    \r\n",
            "  *******   \r\n",
            " *********  \r\n",
            "*********** \r\n",
            "  *******  \n",
            "   *****   \n",
            "    ***    \n",
            "     *     \n"
          ]
        }
      ]
    },
    {
      "cell_type": "code",
      "source": [
        "#start_mark = \"*\" # start_mark 변수는 주석 처리되어 있으므로 주석 처리된 코드입니다.\n",
        "index = [5, 4, 3, 2, 1, 0, 1, 2, 3, 4, 5] # index 리스트에 0부터 5까지의 값들이 들어있습니다.\n",
        "\n",
        "str = \"\" # 빈 문자열 변수 선언\n",
        "str_list = [] # 빈 리스트 변수 선언\n",
        "\n",
        "for i in range(1, 12, 2): # 1부터 12까지 2씩 증가하는 범위에서 반복\n",
        "    str = \"\" # str 변수를 초기화\n",
        "\n",
        "    for _ in range(11): # 0부터 10까지 반복\n",
        "        if index[_] > int(i/2): # index[_] 값이 i/2보다 크면 공백을 문자열 str에 추가\n",
        "            str = str + \" \"\n",
        "        else: # 그렇지 않으면 '*'을 문자열 str에 추가\n",
        "            str = str + \"*\"\n",
        "\n",
        "    print(str , \"\\r\") # 문자열 str 출력\n",
        "    \n",
        "    if i <= 7: # i가 7보다 작거나 같으면\n",
        "        str_list = str_list + [str] # str을 str_list에 추가\n",
        "\n",
        "while len(str_list) > 0: # str_list의 길이가 0보다 크면 반복\n",
        "    print(str_list.pop()) # str_list에서 가장 마지막 요소를 제거하고 출력\n"
      ],
      "metadata": {
        "colab": {
          "base_uri": "https://localhost:8080/"
        },
        "id": "3AdREHXKpqyY",
        "outputId": "5e241d83-785c-4b08-cbee-1a278f6b1f32"
      },
      "execution_count": 54,
      "outputs": [
        {
          "output_type": "stream",
          "name": "stdout",
          "text": [
            "     *      \r\n",
            "    ***     \r\n",
            "   *****    \r\n",
            "  *******   \r\n",
            " *********  \r\n",
            "*********** \r\n",
            "  *******  \n",
            "   *****   \n",
            "    ***    \n",
            "     *     \n"
          ]
        }
      ]
    }
  ]
}