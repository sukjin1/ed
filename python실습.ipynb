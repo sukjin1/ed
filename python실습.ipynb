{
  "nbformat": 4,
  "nbformat_minor": 0,
  "metadata": {
    "colab": {
      "provenance": [],
      "authorship_tag": "ABX9TyPnS+AyE7ei4isex+HQ8kJF",
      "include_colab_link": true
    },
    "kernelspec": {
      "name": "python3",
      "display_name": "Python 3"
    },
    "language_info": {
      "name": "python"
    }
  },
  "cells": [
    {
      "cell_type": "markdown",
      "metadata": {
        "id": "view-in-github",
        "colab_type": "text"
      },
      "source": [
        "<a href=\"https://colab.research.google.com/github/sukjin1/ed/blob/main/python%EC%8B%A4%EC%8A%B5.ipynb\" target=\"_parent\"><img src=\"https://colab.research.google.com/assets/colab-badge.svg\" alt=\"Open In Colab\"/></a>"
      ]
    },
    {
      "cell_type": "markdown",
      "source": [],
      "metadata": {
        "id": "62nz5CUeqW-Z"
      }
    },
    {
      "cell_type": "markdown",
      "source": [
        "##조건문\n",
        "어떤 조건에 만족하는 처리를 하는 구문"
      ],
      "metadata": {
        "id": "VYsusd5BqaH8"
      }
    },
    {
      "cell_type": "code",
      "source": [
        "a = 1 ; b = 2; c = 3\n",
        "\n",
        "print (\"hello\")\n",
        "if a > b :\n",
        "  print( \"a가 b보다 큽니다.\")\n",
        "elif a < b :\n",
        "  print( \"a가 b보다 작습니다.\")\n",
        "  if a < c:\n",
        "    print(\"a가 c보다 작습니다.\")\n",
        "elif a == b:\n",
        "   "
      ],
      "metadata": {
        "colab": {
          "base_uri": "https://localhost:8080/"
        },
        "id": "DOeIShCAqeAI",
        "outputId": "5e0bc91c-c61c-4559-de18-8679598422ce"
      },
      "execution_count": 15,
      "outputs": [
        {
          "output_type": "stream",
          "name": "stdout",
          "text": [
            "hello\n",
            "a가 b보다 작습니다.\n",
            "a가 c보다 작습니다.\n"
          ]
        }
      ]
    },
    {
      "cell_type": "code",
      "source": [
        "if 1: \n",
        "    print(\"1은 참으로 간주합니다.\")\n",
        "if 0: \n",
        "    print(\"0은 거짓\")\n",
        "if a > 0 and b > 0: \n",
        "    print(\"둘다 참\")\n",
        "if a > 0 or b > 0:\n",
        "    print(\"둘중에 하나\")\n",
        "if 10 > a > 0 :\n",
        "    print (\"0과 10 사이값\")\n"
      ],
      "metadata": {
        "colab": {
          "base_uri": "https://localhost:8080/"
        },
        "id": "Pen6GlMsqwhu",
        "outputId": "cf41dc3c-1d52-4f38-d391-1e967a762d13"
      },
      "execution_count": 27,
      "outputs": [
        {
          "output_type": "stream",
          "name": "stdout",
          "text": [
            "1은 참으로 간주합니다.\n",
            "둘다 참\n",
            "둘중에 하나\n",
            "0과 10 사이값\n"
          ]
        }
      ]
    },
    {
      "cell_type": "code",
      "source": [],
      "metadata": {
        "id": "MkedWlUVu_w7"
      },
      "execution_count": null,
      "outputs": []
    }
  ]
}