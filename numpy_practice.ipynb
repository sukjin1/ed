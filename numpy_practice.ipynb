{
  "nbformat": 4,
  "nbformat_minor": 0,
  "metadata": {
    "colab": {
      "provenance": [],
      "authorship_tag": "ABX9TyNBYFdedYjybmpk/uD7KVcl",
      "include_colab_link": true
    },
    "kernelspec": {
      "name": "python3",
      "display_name": "Python 3"
    },
    "language_info": {
      "name": "python"
    }
  },
  "cells": [
    {
      "cell_type": "markdown",
      "metadata": {
        "id": "view-in-github",
        "colab_type": "text"
      },
      "source": [
        "<a href=\"https://colab.research.google.com/github/sukjin1/ed/blob/main/numpy_practice.ipynb\" target=\"_parent\"><img src=\"https://colab.research.google.com/assets/colab-badge.svg\" alt=\"Open In Colab\"/></a>"
      ]
    },
    {
      "cell_type": "markdown",
      "source": [],
      "metadata": {
        "id": "t8WWNp-bFB0r"
      }
    },
    {
      "cell_type": "markdown",
      "source": [],
      "metadata": {
        "id": "DD5L_OaVE4i0"
      }
    },
    {
      "cell_type": "markdown",
      "source": [
        "inflearn numpy 무료강의 \n",
        "\n"
      ],
      "metadata": {
        "id": "rfyYWAlyE5gO"
      }
    },
    {
      "cell_type": "code",
      "execution_count": 1,
      "metadata": {
        "colab": {
          "base_uri": "https://localhost:8080/"
        },
        "id": "-Att3_Hz3JLq",
        "outputId": "95dbc04f-c327-4a78-e72a-7c95ece13414"
      },
      "outputs": [
        {
          "output_type": "execute_result",
          "data": {
            "text/plain": [
              "array([1, 2, 3, 4])"
            ]
          },
          "metadata": {},
          "execution_count": 1
        }
      ],
      "source": [
        "import numpy as np\n",
        "np.array([1,2,3,4])"
      ]
    },
    {
      "cell_type": "markdown",
      "source": [],
      "metadata": {
        "id": "Di1sJG-uE3NG"
      }
    },
    {
      "cell_type": "code",
      "source": [
        "a = np.eye(3,4, k=0)\n",
        "print(a)"
      ],
      "metadata": {
        "colab": {
          "base_uri": "https://localhost:8080/"
        },
        "id": "noIkWosCR62k",
        "outputId": "04d1cd55-44ce-4bc5-b5bb-94e44457d666"
      },
      "execution_count": 2,
      "outputs": [
        {
          "output_type": "stream",
          "name": "stdout",
          "text": [
            "[[1. 0. 0. 0.]\n",
            " [0. 1. 0. 0.]\n",
            " [0. 0. 1. 0.]]\n"
          ]
        }
      ]
    },
    {
      "cell_type": "code",
      "source": [
        "a = np.eye(3,4, k=1)\n",
        "print(a)"
      ],
      "metadata": {
        "colab": {
          "base_uri": "https://localhost:8080/"
        },
        "id": "RRx03WhTSKRr",
        "outputId": "1eb7ec9f-b967-47a7-91e7-5e8e65bcd130"
      },
      "execution_count": 3,
      "outputs": [
        {
          "output_type": "stream",
          "name": "stdout",
          "text": [
            "[[0. 1. 0. 0.]\n",
            " [0. 0. 1. 0.]\n",
            " [0. 0. 0. 1.]]\n"
          ]
        }
      ]
    },
    {
      "cell_type": "code",
      "source": [
        "b = np.ones_like(a)\n",
        "print(b)"
      ],
      "metadata": {
        "colab": {
          "base_uri": "https://localhost:8080/"
        },
        "id": "xMFqN2etSnQX",
        "outputId": "e3dd913b-2e55-4e7f-ae3f-2314fe661e75"
      },
      "execution_count": 4,
      "outputs": [
        {
          "output_type": "stream",
          "name": "stdout",
          "text": [
            "[[1. 1. 1. 1.]\n",
            " [1. 1. 1. 1.]\n",
            " [1. 1. 1. 1.]]\n"
          ]
        }
      ]
    },
    {
      "cell_type": "code",
      "source": [
        "c = np.zeros_like(a)\n",
        "print(c)"
      ],
      "metadata": {
        "colab": {
          "base_uri": "https://localhost:8080/"
        },
        "id": "RVCAKEHZS3f9",
        "outputId": "0579ccbb-fbcf-4df5-d4d3-2d1aaf80a311"
      },
      "execution_count": 5,
      "outputs": [
        {
          "output_type": "stream",
          "name": "stdout",
          "text": [
            "[[0. 0. 0. 0.]\n",
            " [0. 0. 0. 0.]\n",
            " [0. 0. 0. 0.]]\n"
          ]
        }
      ]
    },
    {
      "cell_type": "code",
      "source": [
        "d = np.full_like(a,3)\n",
        "print(d)"
      ],
      "metadata": {
        "colab": {
          "base_uri": "https://localhost:8080/"
        },
        "id": "lk9AILxMTIZQ",
        "outputId": "c7294e13-87bc-452b-e844-fc1acc2767a1"
      },
      "execution_count": 6,
      "outputs": [
        {
          "output_type": "stream",
          "name": "stdout",
          "text": [
            "[[3. 3. 3. 3.]\n",
            " [3. 3. 3. 3.]\n",
            " [3. 3. 3. 3.]]\n"
          ]
        }
      ]
    },
    {
      "cell_type": "code",
      "source": [
        " a = np.arange(1,10,2)\n",
        " print(a)"
      ],
      "metadata": {
        "colab": {
          "base_uri": "https://localhost:8080/"
        },
        "id": "XUskt9PnTbde",
        "outputId": "891edd78-5364-4a86-de05-9a00ab08c33e"
      },
      "execution_count": 7,
      "outputs": [
        {
          "output_type": "stream",
          "name": "stdout",
          "text": [
            "[1 3 5 7 9]\n"
          ]
        }
      ]
    },
    {
      "cell_type": "code",
      "source": [
        "a = np.linspace(0, 10, 5)\n",
        "print(a)"
      ],
      "metadata": {
        "colab": {
          "base_uri": "https://localhost:8080/"
        },
        "id": "r4tvhDXFaiix",
        "outputId": "9deb632b-63af-4c16-ee1b-e246203a9465"
      },
      "execution_count": 8,
      "outputs": [
        {
          "output_type": "stream",
          "name": "stdout",
          "text": [
            "[ 0.   2.5  5.   7.5 10. ]\n"
          ]
        }
      ]
    },
    {
      "cell_type": "code",
      "source": [
        "print(np.linspace(10, 100, 10))"
      ],
      "metadata": {
        "colab": {
          "base_uri": "https://localhost:8080/"
        },
        "id": "fm_3-5R-awLK",
        "outputId": "6df0aafd-0a9f-4c42-8621-763b321803bf"
      },
      "execution_count": 9,
      "outputs": [
        {
          "output_type": "stream",
          "name": "stdout",
          "text": [
            "[ 10.  20.  30.  40.  50.  60.  70.  80.  90. 100.]\n"
          ]
        }
      ]
    },
    {
      "cell_type": "code",
      "source": [
        "\n",
        "import matplotlib.pyplot as plt #!pip install matplotlib\n",
        "# 난수로 배열 생성하기 \n",
        "\n",
        "a = np.random.normal(0, 1, 5) # 평균이 0, 표준편차가 1인 정규분포에서, 총 10개의 수를 추출\n",
        "print(a)\n",
        "\n",
        "a = np.random.normal(0, 1, (2,3)) # 2 by 3 matrix\n",
        "print(a)\n",
        "\n",
        "a = np.random.normal(0, 1, 100)\n",
        "print(a)\n",
        "plt.hist(a, bins=10)\n"
      ],
      "metadata": {
        "colab": {
          "base_uri": "https://localhost:8080/",
          "height": 884
        },
        "id": "coB-XXvXa_TL",
        "outputId": "2671ff21-1ced-421a-dddd-53d84ce92ec0"
      },
      "execution_count": 10,
      "outputs": [
        {
          "output_type": "stream",
          "name": "stdout",
          "text": [
            "[0.15641851 1.24120396 0.50915325 0.28493468 1.33456357]\n",
            "[[0.74202777 0.32618636 0.0151121 ]\n",
            " [0.04663246 0.10884877 1.15213711]]\n",
            "[-1.23174184 -0.72200217 -1.19128881  0.18742425  0.18462468  0.63816572\n",
            " -0.48085875 -1.2065482  -0.51708757 -1.07468069 -1.47015388 -0.41707539\n",
            " -1.18240647  1.17202791 -2.18614872  2.67637724  0.70614771 -0.47373953\n",
            " -1.13492783  1.02461387 -0.47152233 -0.2944335  -2.07518813 -0.13763789\n",
            "  0.00927209 -1.01640305 -0.05510383  0.30455267 -0.61133328  1.82324049\n",
            " -1.05689845 -0.8209079   0.4121435   0.97454651 -1.1666126   0.47623427\n",
            " -0.78054355 -0.71796385  1.37682937  0.23089781  0.06683781  0.51222694\n",
            "  0.69555822 -1.69479367  1.1872658  -1.51595058 -0.22900225  1.11334666\n",
            " -1.34688768  0.84536339 -0.7722695  -1.40185967  0.5484095  -1.28449911\n",
            "  1.17667035 -0.81025132 -0.60373355 -1.10097409 -0.62304271  0.26608676\n",
            " -0.86722215 -0.66259585  0.12995683 -0.86528896  0.51907219  0.49406589\n",
            " -1.3690365  -0.41573777  1.08933468  1.29448648  0.67057558 -0.53110992\n",
            "  0.86718265 -0.44245405  0.46353258 -0.68212791 -0.89056094  0.68766825\n",
            "  0.05798881 -1.1435131  -0.70249498  0.20990108 -0.31731384  0.82985144\n",
            "  0.12040432 -2.14130954 -0.18516196 -2.08205138  0.24944854  0.61156573\n",
            " -0.88234813  1.08588309 -0.62782741 -0.90443357  1.33058937 -0.37447337\n",
            " -0.36573105 -0.09465661  0.13797278  0.83990323]\n"
          ]
        },
        {
          "output_type": "execute_result",
          "data": {
            "text/plain": [
              "(array([ 4.,  8., 19., 21., 15., 16., 12.,  3.,  1.,  1.]),\n",
              " array([-2.18614872, -1.69989612, -1.21364352, -0.72739093, -0.24113833,\n",
              "         0.24511426,  0.73136686,  1.21761946,  1.70387205,  2.19012465,\n",
              "         2.67637724]),\n",
              " <BarContainer object of 10 artists>)"
            ]
          },
          "metadata": {},
          "execution_count": 10
        },
        {
          "output_type": "display_data",
          "data": {
            "text/plain": [
              "<Figure size 640x480 with 1 Axes>"
            ],
            "image/png": "[encoded data removed]"
          },
          "metadata": {}
        }
      ]
    },
    {
      "cell_type": "code",
      "source": [
        "#np.rand\n",
        "\n",
        "a = np.random.rand(1000) # 균등한 분포로 1000개의 수를 생성\n",
        "plt.hist(a, bins=100)\n",
        "plt.show()"
      ],
      "metadata": {
        "colab": {
          "base_uri": "https://localhost:8080/",
          "height": 430
        },
        "id": "b_NQuCWfc45Y",
        "outputId": "479e95c5-2281-4501-e49b-29aeaa46f04b"
      },
      "execution_count": 11,
      "outputs": [
        {
          "output_type": "display_data",
          "data": {
            "text/plain": [
              "<Figure size 640x480 with 1 Axes>"
            ],
            "image/png": "[encoded data removed]"
          },
          "metadata": {}
        }
      ]
    },
    {
      "cell_type": "code",
      "source": [
        "a = np.random.randn(1000) # -1에서 1 사이의 값을 정규분포 형태로 생성\n",
        "plt.hist(a, bins=100)\n"
      ],
      "metadata": {
        "colab": {
          "base_uri": "https://localhost:8080/",
          "height": 975
        },
        "id": "snUf1yJbfXit",
        "outputId": "ba06f209-cfd9-41fc-b7a0-78d6a241c762"
      },
      "execution_count": 12,
      "outputs": [
        {
          "output_type": "execute_result",
          "data": {
            "text/plain": [
              "(array([ 2.,  0.,  0.,  0.,  0.,  0.,  0.,  0.,  1.,  0.,  3.,  2.,  3.,\n",
              "         2.,  2.,  2.,  5.,  3.,  7.,  4.,  4.,  3.,  4.,  8.,  3.,  4.,\n",
              "        15.,  9.,  7., 11., 11., 11.,  9.,  9., 18., 20., 18., 10., 20.,\n",
              "        26., 25., 24., 22., 30., 19., 29., 24., 23., 20., 22., 26., 30.,\n",
              "        16., 38., 16., 19., 24., 21., 24., 22., 20., 16., 25., 24.,  7.,\n",
              "        26., 16., 10., 21.,  9., 10.,  7.,  5.,  9.,  9.,  4.,  2.,  5.,\n",
              "         8.,  5.,  6.,  4.,  1.,  2.,  1.,  3.,  3.,  1.,  1.,  2.,  2.,\n",
              "         0.,  1.,  0.,  1.,  2.,  1.,  0.,  0.,  1.]),\n",
              " array([-3.19422206, -3.13019891, -3.06617576, -3.00215261, -2.93812947,\n",
              "        -2.87410632, -2.81008317, -2.74606002, -2.68203687, -2.61801373,\n",
              "        -2.55399058, -2.48996743, -2.42594428, -2.36192114, -2.29789799,\n",
              "        -2.23387484, -2.16985169, -2.10582855, -2.0418054 , -1.97778225,\n",
              "        -1.9137591 , -1.84973595, -1.78571281, -1.72168966, -1.65766651,\n",
              "        -1.59364336, -1.52962022, -1.46559707, -1.40157392, -1.33755077,\n",
              "        -1.27352763, -1.20950448, -1.14548133, -1.08145818, -1.01743503,\n",
              "        -0.95341189, -0.88938874, -0.82536559, -0.76134244, -0.6973193 ,\n",
              "        -0.63329615, -0.569273  , -0.50524985, -0.4412267 , -0.37720356,\n",
              "        -0.31318041, -0.24915726, -0.18513411, -0.12111097, -0.05708782,\n",
              "         0.00693533,  0.07095848,  0.13498162,  0.19900477,  0.26302792,\n",
              "         0.32705107,  0.39107422,  0.45509736,  0.51912051,  0.58314366,\n",
              "         0.64716681,  0.71118995,  0.7752131 ,  0.83923625,  0.9032594 ,\n",
              "         0.96728255,  1.03130569,  1.09532884,  1.15935199,  1.22337514,\n",
              "         1.28739828,  1.35142143,  1.41544458,  1.47946773,  1.54349087,\n",
              "         1.60751402,  1.67153717,  1.73556032,  1.79958347,  1.86360661,\n",
              "         1.92762976,  1.99165291,  2.05567606,  2.1196992 ,  2.18372235,\n",
              "         2.2477455 ,  2.31176865,  2.3757918 ,  2.43981494,  2.50383809,\n",
              "         2.56786124,  2.63188439,  2.69590753,  2.75993068,  2.82395383,\n",
              "         2.88797698,  2.95200012,  3.01602327,  3.08004642,  3.14406957,\n",
              "         3.20809272]),\n",
              " <BarContainer object of 100 artists>)"
            ]
          },
          "metadata": {},
          "execution_count": 12
        },
        {
          "output_type": "display_data",
          "data": {
            "text/plain": [
              "<Figure size 640x480 with 1 Axes>"
            ],
            "image/png": "[encoded data removed]"
          },
          "metadata": {}
        }
      ]
    },
    {
      "cell_type": "code",
      "source": [
        "a = np.random.randint(low=1, high=5, size=10)\n",
        "print(a)"
      ],
      "metadata": {
        "colab": {
          "base_uri": "https://localhost:8080/"
        },
        "id": "Xuj68e-jgNqU",
        "outputId": "bac2cdc7-6880-4f12-9e3e-1a1a1ea93894"
      },
      "execution_count": 13,
      "outputs": [
        {
          "output_type": "stream",
          "name": "stdout",
          "text": [
            "[2 4 1 1 3 3 3 2 4 3]\n"
          ]
        }
      ]
    },
    {
      "cell_type": "code",
      "source": [
        "a = np.random.randint(low=1, high=10, size=(2,3))\n",
        "print(a)\n",
        "\n",
        "print(np.random.randint(10, 100, 100))"
      ],
      "metadata": {
        "colab": {
          "base_uri": "https://localhost:8080/"
        },
        "id": "L9NiGROogb2j",
        "outputId": "0f8e30ee-91c0-4409-9e7a-8d59ae14ef7e"
      },
      "execution_count": 14,
      "outputs": [
        {
          "output_type": "stream",
          "name": "stdout",
          "text": [
            "[[8 2 9]\n",
            " [1 3 7]]\n",
            "[13 87 92 84 43 16 75 19 97 85 68 71 63 66 89 76 89 86 51 26 40 48 17 43\n",
            " 47 46 16 54 44 86 96 42 16 36 88 70 80 40 34 99 72 53 28 67 97 99 62 41\n",
            " 75 44 11 48 85 35 24 66 34 59 68 96 87 81 96 62 13 25 35 78 62 64 62 70\n",
            " 93 83 71 60 10 48 42 62 46 39 78 90 99 34 13 24 37 14 70 19 81 57 34 68\n",
            " 47 59 40 97]\n"
          ]
        }
      ]
    },
    {
      "cell_type": "code",
      "source": [
        "a = np.random.rand(10)\n",
        "print(a)\n",
        "\n",
        "b = np.random.rand(10)\n",
        "print(b)\n",
        "\n",
        "print(a==b)"
      ],
      "metadata": {
        "colab": {
          "base_uri": "https://localhost:8080/"
        },
        "id": "anHzoTf5hReD",
        "outputId": "8cd95c25-311f-4d5c-ac45-277bfc01d563"
      },
      "execution_count": 15,
      "outputs": [
        {
          "output_type": "stream",
          "name": "stdout",
          "text": [
            "[0.64905575 0.81315436 0.73984834 0.32963467 0.50205338 0.9367209\n",
            " 0.44511846 0.25185123 0.33411614 0.94288504]\n",
            "[0.71790794 0.68955528 0.7680594  0.85112795 0.3759066  0.00244301\n",
            " 0.82079451 0.42236957 0.01847636 0.6802402 ]\n",
            "[False False False False False False False False False False]\n"
          ]
        }
      ]
    },
    {
      "cell_type": "code",
      "source": [
        "np.random.seed(1)\n",
        "a = np.random.rand(10)\n",
        "print(a)\n",
        "\n",
        "np.random.seed(1)\n",
        "b = np.random.rand(10)\n",
        "print(b)\n",
        "\n",
        "print(a==b)"
      ],
      "metadata": {
        "colab": {
          "base_uri": "https://localhost:8080/"
        },
        "id": "6442q-bzhgmu",
        "outputId": "13756ad7-06a0-4400-913d-889c9f4a1c46"
      },
      "execution_count": 16,
      "outputs": [
        {
          "output_type": "stream",
          "name": "stdout",
          "text": [
            "[4.17022005e-01 7.20324493e-01 1.14374817e-04 3.02332573e-01\n",
            " 1.46755891e-01 9.23385948e-02 1.86260211e-01 3.45560727e-01\n",
            " 3.96767474e-01 5.38816734e-01]\n",
            "[4.17022005e-01 7.20324493e-01 1.14374817e-04 3.02332573e-01\n",
            " 1.46755891e-01 9.23385948e-02 1.86260211e-01 3.45560727e-01\n",
            " 3.96767474e-01 5.38816734e-01]\n",
            "[ True  True  True  True  True  True  True  True  True  True]\n"
          ]
        }
      ]
    },
    {
      "cell_type": "code",
      "source": [
        "a = np.array([0,1,2,3,4,5,6,7,8,9])\n",
        "print(a[3])\n",
        "print(a[-1])\n",
        "print(a[:-1])\n",
        "print(a[:-11])"
      ],
      "metadata": {
        "colab": {
          "base_uri": "https://localhost:8080/"
        },
        "id": "M75WIM0UhxTp",
        "outputId": "642581ba-b52c-48d7-c2d2-f6545db01811"
      },
      "execution_count": 17,
      "outputs": [
        {
          "output_type": "stream",
          "name": "stdout",
          "text": [
            "3\n",
            "9\n",
            "[0 1 2 3 4 5 6 7 8]\n",
            "[]\n"
          ]
        }
      ]
    },
    {
      "cell_type": "code",
      "source": [
        "a = np.array([[1,2,3,4], \n",
        "              [5,6,7,8],\n",
        "              [9,10,11,12]])\n",
        "print(a, a.shape, a.ndim)\n",
        "print(a[1,2])\n"
      ],
      "metadata": {
        "colab": {
          "base_uri": "https://localhost:8080/"
        },
        "id": "tVhRPgeJivrQ",
        "outputId": "d3db1f91-b2ba-436e-e1db-3a1bbe7a46ff"
      },
      "execution_count": 18,
      "outputs": [
        {
          "output_type": "stream",
          "name": "stdout",
          "text": [
            "[[ 1  2  3  4]\n",
            " [ 5  6  7  8]\n",
            " [ 9 10 11 12]] (3, 4) 2\n",
            "7\n"
          ]
        }
      ]
    },
    {
      "cell_type": "code",
      "source": [
        "print(a[0][1], a[0,1])"
      ],
      "metadata": {
        "colab": {
          "base_uri": "https://localhost:8080/"
        },
        "id": "QYkk9jhVjJrs",
        "outputId": "a4b4cf15-f492-41df-a4bd-af1bab7f96d6"
      },
      "execution_count": 19,
      "outputs": [
        {
          "output_type": "stream",
          "name": "stdout",
          "text": [
            "2 2\n"
          ]
        }
      ]
    },
    {
      "cell_type": "code",
      "source": [
        "print(a[1, :])\n",
        "print(a[:2, 2:])"
      ],
      "metadata": {
        "colab": {
          "base_uri": "https://localhost:8080/"
        },
        "id": "1nVWCK-ejqZi",
        "outputId": "f66efdc7-4e7a-4fa2-ac3f-462805affe8f"
      },
      "execution_count": 20,
      "outputs": [
        {
          "output_type": "stream",
          "name": "stdout",
          "text": [
            "[5 6 7 8]\n",
            "[[3 4]\n",
            " [7 8]]\n"
          ]
        }
      ]
    },
    {
      "cell_type": "code",
      "source": [
        "a = np.array([1,2,3,4,5,6])\n",
        "print(a[[1,2,4]])\n"
      ],
      "metadata": {
        "colab": {
          "base_uri": "https://localhost:8080/"
        },
        "id": "VYRptauakToc",
        "outputId": "2986e40f-e101-4cd4-cc28-ac343c8ec0f6"
      },
      "execution_count": 21,
      "outputs": [
        {
          "output_type": "stream",
          "name": "stdout",
          "text": [
            "[2 3 5]\n"
          ]
        }
      ]
    },
    {
      "cell_type": "code",
      "source": [
        "a = np.array([[1,2,3,4,5], \n",
        "              [6,7,8,9,10],\n",
        "              [11,12,13,14,15]\n",
        "              ])\n",
        "print(a[[1,2], 3:])\n",
        "print(a[ 2:, [1, 3]]) "
      ],
      "metadata": {
        "colab": {
          "base_uri": "https://localhost:8080/"
        },
        "id": "HuXN4G8Ekgnp",
        "outputId": "04eb9f45-948c-4766-e699-1dad03991be2"
      },
      "execution_count": 22,
      "outputs": [
        {
          "output_type": "stream",
          "name": "stdout",
          "text": [
            "[[ 9 10]\n",
            " [14 15]]\n",
            "[[12 14]]\n"
          ]
        }
      ]
    },
    {
      "cell_type": "code",
      "source": [
        "#boolean indexing\n",
        "import numpy as np\n",
        "a = np.array([1,2,3,4,5])\n",
        "print(a[[True, False, False, True, False]])"
      ],
      "metadata": {
        "colab": {
          "base_uri": "https://localhost:8080/"
        },
        "id": "bzhm8WdGl1X2",
        "outputId": "035123c1-9e84-4fbc-ef2d-b409fe58a33d"
      },
      "execution_count": 23,
      "outputs": [
        {
          "output_type": "stream",
          "name": "stdout",
          "text": [
            "[1 4]\n"
          ]
        }
      ]
    },
    {
      "cell_type": "code",
      "source": [
        "print(a[a>2])"
      ],
      "metadata": {
        "colab": {
          "base_uri": "https://localhost:8080/"
        },
        "id": "iP2RPSqF-gT9",
        "outputId": "1bc80f70-cf3e-490d-aeed-de037d387eab"
      },
      "execution_count": 24,
      "outputs": [
        {
          "output_type": "stream",
          "name": "stdout",
          "text": [
            "[3 4 5]\n"
          ]
        }
      ]
    },
    {
      "cell_type": "code",
      "source": [
        "a = np.array([[1,2,3], \n",
        "             [4,5,6], \n",
        "             [7,8,9]])\n",
        "b = np.array([[1,2,3], \n",
        "             [4,5,6], \n",
        "             [7,8,9]])\n",
        "print(a+b)\n",
        "print(np.add(a, b))\n",
        "print(a-b)\n",
        "print(np.subtract(a,b))\n",
        "print(a*b)\n",
        "print(np.multiply(a,b))\n",
        "print(a**2)\n",
        "print(np.square(a,b))\n",
        "print(np.sqrt(a))\n",
        "print(a//2)\n",
        "print(a%2)"
      ],
      "metadata": {
        "colab": {
          "base_uri": "https://localhost:8080/"
        },
        "id": "20Q9akW4-zcE",
        "outputId": "dbc0d48e-03f0-4c83-b7e4-c41979bb8d27"
      },
      "execution_count": 25,
      "outputs": [
        {
          "output_type": "stream",
          "name": "stdout",
          "text": [
            "[[ 2  4  6]\n",
            " [ 8 10 12]\n",
            " [14 16 18]]\n",
            "[[ 2  4  6]\n",
            " [ 8 10 12]\n",
            " [14 16 18]]\n",
            "[[0 0 0]\n",
            " [0 0 0]\n",
            " [0 0 0]]\n",
            "[[0 0 0]\n",
            " [0 0 0]\n",
            " [0 0 0]]\n",
            "[[ 1  4  9]\n",
            " [16 25 36]\n",
            " [49 64 81]]\n",
            "[[ 1  4  9]\n",
            " [16 25 36]\n",
            " [49 64 81]]\n",
            "[[ 1  4  9]\n",
            " [16 25 36]\n",
            " [49 64 81]]\n",
            "[[ 1  4  9]\n",
            " [16 25 36]\n",
            " [49 64 81]]\n",
            "[[1.         1.41421356 1.73205081]\n",
            " [2.         2.23606798 2.44948974]\n",
            " [2.64575131 2.82842712 3.        ]]\n",
            "[[0 1 1]\n",
            " [2 2 3]\n",
            " [3 4 4]]\n",
            "[[1 0 1]\n",
            " [0 1 0]\n",
            " [1 0 1]]\n"
          ]
        }
      ]
    },
    {
      "cell_type": "code",
      "source": [
        "a1 = np.array([1,2,3])\n",
        "a2 = np.array([2,3,4])\n",
        "\n",
        "print(np.dot(a1,a2))"
      ],
      "metadata": {
        "colab": {
          "base_uri": "https://localhost:8080/"
        },
        "id": "kBhH4FRy_suH",
        "outputId": "b60b8819-cdef-4877-aacf-6451c856f39b"
      },
      "execution_count": 26,
      "outputs": [
        {
          "output_type": "stream",
          "name": "stdout",
          "text": [
            "20\n"
          ]
        }
      ]
    },
    {
      "cell_type": "code",
      "source": [
        "# 2차원 행렬\n",
        "'''\n",
        "[[a,b] [[e,f] ====> [[ae+bg, af+bh]\n",
        " [c,d]] [g,h]]        [ce+dg, cf+dh]\n",
        "'''\n",
        "\n",
        "a1 = np.array([[1,2], \n",
        "               [4,5]])\n",
        "a2 = np.array([[1,2],\n",
        "               [0,3]])\n",
        "\n",
        "print(np.dot(a1, a2))\n",
        "\n",
        "\n"
      ],
      "metadata": {
        "colab": {
          "base_uri": "https://localhost:8080/"
        },
        "id": "T-18gmjDZjJ8",
        "outputId": "49060bff-ec4d-4601-e0e2-5a2839c0cc09"
      },
      "execution_count": 30,
      "outputs": [
        {
          "output_type": "stream",
          "name": "stdout",
          "text": [
            "[[ 1  8]\n",
            " [ 4 23]]\n"
          ]
        }
      ]
    },
    {
      "cell_type": "code",
      "source": [
        "#absolute value\n",
        "a1 = np.array([1,-1,2,-3])\n",
        "print(np.abs(a1))"
      ],
      "metadata": {
        "colab": {
          "base_uri": "https://localhost:8080/"
        },
        "id": "nS3eYylTaixZ",
        "outputId": "87941183-ffb0-421b-9b4b-ec5d2a9f8053"
      },
      "execution_count": 31,
      "outputs": [
        {
          "output_type": "stream",
          "name": "stdout",
          "text": [
            "[1 1 2 3]\n"
          ]
        }
      ]
    },
    {
      "cell_type": "code",
      "source": [
        "a = np.array([1.567, -2.3443, 5.32])\n",
        "print(np.ceil(a)) #올림\n",
        "print(np.floor(a)) #내림\n",
        "print(np.round(a)) #반올림\n",
        "print(np.trunc(a)) #버림"
      ],
      "metadata": {
        "colab": {
          "base_uri": "https://localhost:8080/"
        },
        "id": "b1MSERrJcTyb",
        "outputId": "cc753ba5-7bd2-49fb-85b5-c4d5c63cdcdf"
      },
      "execution_count": 34,
      "outputs": [
        {
          "output_type": "stream",
          "name": "stdout",
          "text": [
            "[ 2. -2.  6.]\n",
            "[ 1. -3.  5.]\n",
            "[ 2. -2.  5.]\n",
            "[ 1. -2.  5.]\n"
          ]
        }
      ]
    },
    {
      "cell_type": "code",
      "source": [
        "a = np.array ([[1,2,3], \n",
        "               [0,1,4]])\n",
        "\n",
        "print(np.min(a))\n",
        "print(a.min())\n",
        "print(a.min(axis=1))\n",
        "print(a.min(axis=0))\n",
        "print(np.max(a, axis=1))\n",
        "print(np.sum(a))\n",
        "print(np.mean(a))"
      ],
      "metadata": {
        "colab": {
          "base_uri": "https://localhost:8080/"
        },
        "id": "pVZhpMwacej7",
        "outputId": "26f3695f-bdc7-482c-9375-ac8ebb2bfb60"
      },
      "execution_count": 39,
      "outputs": [
        {
          "output_type": "stream",
          "name": "stdout",
          "text": [
            "0\n",
            "0\n",
            "[1 0]\n",
            "[0 1 3]\n",
            "[3 4]\n",
            "11\n",
            "1.8333333333333333\n"
          ]
        }
      ]
    },
    {
      "cell_type": "code",
      "source": [
        " print(np.mean(a, axis=1)) \n",
        " print(np.std(a))\n",
        " print(np.std(a, axis=1))"
      ],
      "metadata": {
        "colab": {
          "base_uri": "https://localhost:8080/"
        },
        "id": "sB0OvbTfeE4y",
        "outputId": "e918d600-7e4e-4037-8e5f-c947674cb7ab"
      },
      "execution_count": 42,
      "outputs": [
        {
          "output_type": "stream",
          "name": "stdout",
          "text": [
            "[2.         1.66666667]\n",
            "1.343709624716425\n",
            "[0.81649658 1.69967317]\n"
          ]
        }
      ]
    },
    {
      "cell_type": "code",
      "source": [
        "print(np.cumsum(a))\n",
        "print(np.cumsum(a, axis=0))"
      ],
      "metadata": {
        "colab": {
          "base_uri": "https://localhost:8080/"
        },
        "id": "XtbCk78fe9Px",
        "outputId": "cb11062d-aee7-485b-abc1-f52617cea8ae"
      },
      "execution_count": 45,
      "outputs": [
        {
          "output_type": "stream",
          "name": "stdout",
          "text": [
            "[ 1  3  6  6  7 11]\n",
            "[[1 2 3]\n",
            " [1 3 7]]\n"
          ]
        }
      ]
    },
    {
      "cell_type": "code",
      "source": [
        "print(np.median(a))\n",
        "print(np.median(a, axis=0))"
      ],
      "metadata": {
        "colab": {
          "base_uri": "https://localhost:8080/"
        },
        "id": "gNE7hyQ4fUHg",
        "outputId": "8ad6f6fe-ac09-474a-92fc-be946d161e0d"
      },
      "execution_count": 47,
      "outputs": [
        {
          "output_type": "stream",
          "name": "stdout",
          "text": [
            "1.5\n",
            "[0.5 1.5 3.5]\n"
          ]
        }
      ]
    },
    {
      "cell_type": "code",
      "source": [
        "# 비교연산\n",
        "a1 = np.array([[1,2,3],\n",
        "              [4,5,6]])\n",
        "a2 = np.array([[1,2,3],\n",
        "               [2,3,4]])\n",
        "print(a1 == a2)\n",
        "print(a1 > a2)\n",
        "print(np.array_equal(a1, a2))"
      ],
      "metadata": {
        "colab": {
          "base_uri": "https://localhost:8080/"
        },
        "id": "vm315NpMfooJ",
        "outputId": "ce900a68-67cf-410b-e187-d8ee7dde863e"
      },
      "execution_count": 50,
      "outputs": [
        {
          "output_type": "stream",
          "name": "stdout",
          "text": [
            "[[ True  True  True]\n",
            " [False False False]]\n",
            "[[False False False]\n",
            " [ True  True  True]]\n",
            "False\n"
          ]
        }
      ]
    },
    {
      "cell_type": "code",
      "source": [
        "print(np.sin(a1))\n",
        "print(np.cos(a1))\n",
        "print(np.tan(a1))"
      ],
      "metadata": {
        "colab": {
          "base_uri": "https://localhost:8080/"
        },
        "id": "MN0l4x5qiOsL",
        "outputId": "6e858ac8-2352-4685-d62b-3b25dc82b5f1"
      },
      "execution_count": 51,
      "outputs": [
        {
          "output_type": "stream",
          "name": "stdout",
          "text": [
            "[[ 0.84147098  0.90929743  0.14112001]\n",
            " [-0.7568025  -0.95892427 -0.2794155 ]]\n",
            "[[ 0.54030231 -0.41614684 -0.9899925 ]\n",
            " [-0.65364362  0.28366219  0.96017029]]\n",
            "[[ 1.55740772 -2.18503986 -0.14254654]\n",
            " [ 1.15782128 -3.38051501 -0.29100619]]\n"
          ]
        }
      ]
    },
    {
      "cell_type": "code",
      "source": [
        "\n",
        "print(np.sin(np.pi))\n",
        "print(np.sin(np.pi/2)) \n",
        "print(np.sin(0))"
      ],
      "metadata": {
        "colab": {
          "base_uri": "https://localhost:8080/"
        },
        "id": "Rnf_JpnEisE7",
        "outputId": "394e08cd-6208-443b-82d7-ca454ba11554"
      },
      "execution_count": 56,
      "outputs": [
        {
          "output_type": "stream",
          "name": "stdout",
          "text": [
            "1.2246467991473532e-16\n",
            "1.0\n",
            "0.0\n"
          ]
        }
      ]
    },
    {
      "cell_type": "code",
      "source": [
        "#broadcasting\n",
        "\n",
        "a1 = np.array([[0,0,0], \n",
        "              [1,1,1],\n",
        "              [2,2,2]])\n",
        "a2 = np.array([[5,6,7]])\n",
        "a3 = np.array([1])\n",
        "\n",
        "print(a1+a2)\n",
        "print(a1+a3)"
      ],
      "metadata": {
        "colab": {
          "base_uri": "https://localhost:8080/"
        },
        "id": "vDhI7587izVj",
        "outputId": "1a2c95a8-009c-4947-e173-3e06cafc76f0"
      },
      "execution_count": 58,
      "outputs": [
        {
          "output_type": "stream",
          "name": "stdout",
          "text": [
            "[[5 6 7]\n",
            " [6 7 8]\n",
            " [7 8 9]]\n",
            "[[1 1 1]\n",
            " [2 2 2]\n",
            " [3 3 3]]\n"
          ]
        }
      ]
    },
    {
      "cell_type": "code",
      "source": [
        "import time \n",
        "a = np.arange(9999999)\n",
        "sum = 0 \n",
        "before = time.time()\n",
        "for i in a:\n",
        "    sum += i\n",
        "after = time.time()\n",
        "print(sum, after - before, \"second\")"
      ],
      "metadata": {
        "colab": {
          "base_uri": "https://localhost:8080/"
        },
        "id": "HW8zlyXYmk_8",
        "outputId": "8f6156a0-bc4c-4ab8-9cf8-46ade7ba11b2"
      },
      "execution_count": 60,
      "outputs": [
        {
          "output_type": "stream",
          "name": "stdout",
          "text": [
            "49999985000001 1.6875157356262207 second\n"
          ]
        }
      ]
    },
    {
      "cell_type": "code",
      "source": [
        "before = time.time()\n",
        "sum = np.sum(a)\n",
        "after = time.time()\n",
        "print(sum, after-before, \"second\")"
      ],
      "metadata": {
        "colab": {
          "base_uri": "https://localhost:8080/"
        },
        "id": "3hSYCCDltnoH",
        "outputId": "add1d594-4647-4f65-93da-06afdc97a8be"
      },
      "execution_count": 61,
      "outputs": [
        {
          "output_type": "stream",
          "name": "stdout",
          "text": [
            "49999985000001 0.017577648162841797 second\n"
          ]
        }
      ]
    },
    {
      "cell_type": "code",
      "source": [
        "a1 = np.arange(9999999)\n",
        "a2 = np.arange(9999999)\n",
        "\n",
        "before = time.time()\n",
        "sum = 0 \n",
        "for i, j in zip(a1, a2):\n",
        "    sum += i * j\n",
        "after = time.time()\n",
        "\n",
        "print(sum, after-before)\n",
        "\n",
        "\n"
      ],
      "metadata": {
        "colab": {
          "base_uri": "https://localhost:8080/"
        },
        "id": "eGAicrdAt9Vw",
        "outputId": "14cbba4f-db2e-44ce-91a9-a47969b0db42"
      },
      "execution_count": 64,
      "outputs": [
        {
          "output_type": "stream",
          "name": "stderr",
          "text": [
            "<ipython-input-64-7a90333a4f29>:7: RuntimeWarning: overflow encountered in long_scalars\n",
            "  sum += i * j\n"
          ]
        },
        {
          "output_type": "stream",
          "name": "stdout",
          "text": [
            "1291790006583070911 3.1597230434417725\n"
          ]
        }
      ]
    },
    {
      "cell_type": "code",
      "source": [
        "\n",
        "before = time.time()\n",
        "sum = 0 \n",
        "sum = np.dot(a1, a2)\n",
        "after = time.time()\n",
        "\n",
        "print(sum, after-before)"
      ],
      "metadata": {
        "colab": {
          "base_uri": "https://localhost:8080/"
        },
        "id": "TSLMkOtWua4X",
        "outputId": "e1d25b15-9b02-4335-ed60-edef56d0ba30"
      },
      "execution_count": 66,
      "outputs": [
        {
          "output_type": "stream",
          "name": "stdout",
          "text": [
            "1291790006583070911 0.02703380584716797\n"
          ]
        }
      ]
    },
    {
      "cell_type": "code",
      "source": [
        "a = np.random.randint(10, size=10)\n",
        "print(a)\n",
        "print(np.sort(a))\n",
        "print(np.sort(a)[::-1])\n",
        "a.sort()\n",
        "print(a)"
      ],
      "metadata": {
        "colab": {
          "base_uri": "https://localhost:8080/"
        },
        "id": "EhDxdmq-urAG",
        "outputId": "ec1da1a2-c1d8-4e17-8304-dbc5de955ef6"
      },
      "execution_count": 70,
      "outputs": [
        {
          "output_type": "stream",
          "name": "stdout",
          "text": [
            "[9 3 4 8 1 4 0 3 9 2]\n",
            "[0 1 2 3 3 4 4 8 9 9]\n",
            "[9 9 8 4 4 3 3 2 1 0]\n",
            "[0 1 2 3 3 4 4 8 9 9]\n"
          ]
        }
      ]
    },
    {
      "cell_type": "code",
      "source": [
        "a = np.random.randint(15, size=(3,4))\n",
        "print(a)\n",
        "print(np.sort(a))\n",
        "print(np.sort(a, axis = 0))\n",
        "print(np.argsort(a, axis=0))\n",
        "print(np.sort(a, axis = 1))\n",
        "print(np.argsort(a, axis=1))\n",
        "print(np.sort(a, axis = None))\n",
        "\n"
      ],
      "metadata": {
        "colab": {
          "base_uri": "https://localhost:8080/"
        },
        "id": "ghxu3m4tvAkS",
        "outputId": "35b07793-98a3-4b59-86b5-0652491d0e44"
      },
      "execution_count": 77,
      "outputs": [
        {
          "output_type": "stream",
          "name": "stdout",
          "text": [
            "[[ 2  0 13 10]\n",
            " [ 7 12  1  7]\n",
            " [ 9  8 10 12]]\n",
            "[[ 0  2 10 13]\n",
            " [ 1  7  7 12]\n",
            " [ 8  9 10 12]]\n",
            "[[ 2  0  1  7]\n",
            " [ 7  8 10 10]\n",
            " [ 9 12 13 12]]\n",
            "[[0 0 1 1]\n",
            " [1 2 2 0]\n",
            " [2 1 0 2]]\n",
            "[[ 0  2 10 13]\n",
            " [ 1  7  7 12]\n",
            " [ 8  9 10 12]]\n",
            "[[1 0 3 2]\n",
            " [2 0 3 1]\n",
            " [1 0 2 3]]\n",
            "[ 0  1  2  7  7  8  9 10 10 12 12 13]\n"
          ]
        }
      ]
    },
    {
      "cell_type": "code",
      "source": [
        "a = np.arange(12)\n",
        "print(a, a.ndim)"
      ],
      "metadata": {
        "colab": {
          "base_uri": "https://localhost:8080/"
        },
        "id": "D_qhv0qbvlVn",
        "outputId": "ef28331d-b7b4-4b03-ae09-57ba52adb811"
      },
      "execution_count": 79,
      "outputs": [
        {
          "output_type": "stream",
          "name": "stdout",
          "text": [
            "[ 0  1  2  3  4  5  6  7  8  9 10 11] 1\n"
          ]
        }
      ]
    },
    {
      "cell_type": "code",
      "source": [
        "b = a.reshape(3,4)\n",
        "print(b, b.ndim)"
      ],
      "metadata": {
        "colab": {
          "base_uri": "https://localhost:8080/"
        },
        "id": "SbHQ5HeLw73W",
        "outputId": "bae63894-e0b3-42cc-dd8b-5b7ea03cd013"
      },
      "execution_count": 80,
      "outputs": [
        {
          "output_type": "stream",
          "name": "stdout",
          "text": [
            "[[ 0  1  2  3]\n",
            " [ 4  5  6  7]\n",
            " [ 8  9 10 11]] 2\n"
          ]
        }
      ]
    },
    {
      "cell_type": "code",
      "source": [
        "c = a.reshape((2,3,2))\n",
        "print(c, c.ndim)"
      ],
      "metadata": {
        "colab": {
          "base_uri": "https://localhost:8080/"
        },
        "id": "6I7VnJenxKDS",
        "outputId": "1b46e1e3-1c4b-4602-b60b-57f6e69beb96"
      },
      "execution_count": 82,
      "outputs": [
        {
          "output_type": "stream",
          "name": "stdout",
          "text": [
            "[[[ 0  1]\n",
            "  [ 2  3]\n",
            "  [ 4  5]]\n",
            "\n",
            " [[ 6  7]\n",
            "  [ 8  9]\n",
            "  [10 11]]] 3\n"
          ]
        }
      ]
    },
    {
      "cell_type": "code",
      "source": [
        "d = a.reshape((1,2,2,3))\n",
        "print(d, d.ndim)"
      ],
      "metadata": {
        "colab": {
          "base_uri": "https://localhost:8080/"
        },
        "id": "QtcFnUiRxUP3",
        "outputId": "3c30cb6e-370a-4b14-c997-04967bf5875e"
      },
      "execution_count": 86,
      "outputs": [
        {
          "output_type": "stream",
          "name": "stdout",
          "text": [
            "[[[[ 0  1  2]\n",
            "   [ 3  4  5]]\n",
            "\n",
            "  [[ 6  7  8]\n",
            "   [ 9 10 11]]]] 4\n"
          ]
        }
      ]
    },
    {
      "cell_type": "code",
      "source": [
        "a = np.arange(12)\n",
        "print(a)\n",
        "a1 = a.reshape((3,4))\n",
        "print(a1)\n",
        "print(a)\n",
        "a.resize(3,4)\n",
        "print(a)"
      ],
      "metadata": {
        "colab": {
          "base_uri": "https://localhost:8080/"
        },
        "id": "FIQERXw0xg3q",
        "outputId": "1882bc7d-865b-4c4d-91c8-889ac0850ada"
      },
      "execution_count": 91,
      "outputs": [
        {
          "output_type": "stream",
          "name": "stdout",
          "text": [
            "[ 0  1  2  3  4  5  6  7  8  9 10 11]\n",
            "[[ 0  1  2  3]\n",
            " [ 4  5  6  7]\n",
            " [ 8  9 10 11]]\n",
            "[ 0  1  2  3  4  5  6  7  8  9 10 11]\n",
            "[[ 0  1  2  3]\n",
            " [ 4  5  6  7]\n",
            " [ 8  9 10 11]]\n"
          ]
        }
      ]
    },
    {
      "cell_type": "code",
      "source": [
        "b = a.ravel()\n",
        "print(b)"
      ],
      "metadata": {
        "colab": {
          "base_uri": "https://localhost:8080/"
        },
        "id": "ZOQl62jpyEs3",
        "outputId": "1b32d15b-09e1-4009-8652-9ae2f41c983f"
      },
      "execution_count": 92,
      "outputs": [
        {
          "output_type": "stream",
          "name": "stdout",
          "text": [
            "[ 0  1  2  3  4  5  6  7  8  9 10 11]\n"
          ]
        }
      ]
    },
    {
      "cell_type": "code",
      "source": [
        "a = b.reshape(3,-1)\n",
        "print(a)"
      ],
      "metadata": {
        "colab": {
          "base_uri": "https://localhost:8080/"
        },
        "id": "mo_hFNKGyrNf",
        "outputId": "064a4150-4fc5-46aa-ff6a-04c60b5b2918"
      },
      "execution_count": 94,
      "outputs": [
        {
          "output_type": "stream",
          "name": "stdout",
          "text": [
            "[[ 0  1  2  3]\n",
            " [ 4  5  6  7]\n",
            " [ 8  9 10 11]]\n"
          ]
        }
      ]
    },
    {
      "cell_type": "code",
      "source": [
        "print(b.reshape(3,4,-1))"
      ],
      "metadata": {
        "colab": {
          "base_uri": "https://localhost:8080/"
        },
        "id": "LoScnLlsy0e8",
        "outputId": "3656d231-1b30-487c-f825-cde62e4ae875"
      },
      "execution_count": 95,
      "outputs": [
        {
          "output_type": "stream",
          "name": "stdout",
          "text": [
            "[[[ 0]\n",
            "  [ 1]\n",
            "  [ 2]\n",
            "  [ 3]]\n",
            "\n",
            " [[ 4]\n",
            "  [ 5]\n",
            "  [ 6]\n",
            "  [ 7]]\n",
            "\n",
            " [[ 8]\n",
            "  [ 9]\n",
            "  [10]\n",
            "  [11]]]\n"
          ]
        }
      ]
    },
    {
      "cell_type": "code",
      "source": [
        "print(b.reshape(-1,-1))"
      ],
      "metadata": {
        "colab": {
          "base_uri": "https://localhost:8080/",
          "height": 172
        },
        "id": "QJDUNuRVzFbu",
        "outputId": "451b5cc4-8f3d-4ac6-8f43-581a32d9eca5"
      },
      "execution_count": 96,
      "outputs": [
        {
          "output_type": "error",
          "ename": "ValueError",
          "evalue": "ignored",
          "traceback": [
            "\u001b[0;31m---------------------------------------------------------------------------\u001b[0m",
            "\u001b[0;31mValueError\u001b[0m                                Traceback (most recent call last)",
            "\u001b[0;32m<ipython-input-96-7b292f4b02f7>\u001b[0m in \u001b[0;36m<cell line: 1>\u001b[0;34m()\u001b[0m\n\u001b[0;32m----> 1\u001b[0;31m \u001b[0mprint\u001b[0m\u001b[0;34m(\u001b[0m\u001b[0mb\u001b[0m\u001b[0;34m.\u001b[0m\u001b[0mreshape\u001b[0m\u001b[0;34m(\u001b[0m\u001b[0;34m-\u001b[0m\u001b[0;36m1\u001b[0m\u001b[0;34m,\u001b[0m\u001b[0;34m-\u001b[0m\u001b[0;36m1\u001b[0m\u001b[0;34m)\u001b[0m\u001b[0;34m)\u001b[0m\u001b[0;34m\u001b[0m\u001b[0;34m\u001b[0m\u001b[0m\n\u001b[0m",
            "\u001b[0;31mValueError\u001b[0m: can only specify one unknown dimension"
          ]
        }
      ]
    },
    {
      "cell_type": "code",
      "source": [
        "# expand_dims()\n",
        "a = np.array([1,2])\n",
        "print(a, a.ndim)"
      ],
      "metadata": {
        "colab": {
          "base_uri": "https://localhost:8080/"
        },
        "id": "pyRcP6tqzIuZ",
        "outputId": "54bee85f-1db3-4005-8b46-9d08ec12fa2e"
      },
      "execution_count": 100,
      "outputs": [
        {
          "output_type": "stream",
          "name": "stdout",
          "text": [
            "[1 2] 1\n"
          ]
        }
      ]
    },
    {
      "cell_type": "code",
      "source": [
        "b = np.expand_dims(a, axis=0)\n",
        "print(b)"
      ],
      "metadata": {
        "colab": {
          "base_uri": "https://localhost:8080/"
        },
        "id": "znRpTQ3kzXv8",
        "outputId": "7577dd96-f50d-43d7-d76c-ab1c898e6be4"
      },
      "execution_count": 101,
      "outputs": [
        {
          "output_type": "stream",
          "name": "stdout",
          "text": [
            "[[1 2]]\n"
          ]
        }
      ]
    },
    {
      "cell_type": "code",
      "source": [
        "c = np.expand_dims(a, axis=1)\n",
        "print(c, c.ndim, c.shape)\n",
        "d = np.expand_dims(a, axis = 0)\n",
        "print(d, d.ndim, d.shape)"
      ],
      "metadata": {
        "colab": {
          "base_uri": "https://localhost:8080/"
        },
        "id": "BQOmjddszclm",
        "outputId": "1078548f-ab63-45cf-f822-507677156040"
      },
      "execution_count": 110,
      "outputs": [
        {
          "output_type": "stream",
          "name": "stdout",
          "text": [
            "[[1]\n",
            " [2]] 2 (2, 1)\n",
            "[[1 2]] 2 (1, 2)\n"
          ]
        }
      ]
    },
    {
      "cell_type": "code",
      "source": [
        "s = np.squeeze(c, axis=1)\n",
        "print(s, s.ndim, s.shape )"
      ],
      "metadata": {
        "colab": {
          "base_uri": "https://localhost:8080/"
        },
        "id": "JQCFh4g5znTC",
        "outputId": "d2f1781e-f3d9-45e8-f7f3-4e39c9ac45a1"
      },
      "execution_count": 115,
      "outputs": [
        {
          "output_type": "stream",
          "name": "stdout",
          "text": [
            "[1 2] 1 (2,)\n"
          ]
        }
      ]
    },
    {
      "cell_type": "code",
      "source": [
        "s2 = np.squeeze(d, axis=0)\n",
        "print(s2, s2.ndim, s2.shape)"
      ],
      "metadata": {
        "colab": {
          "base_uri": "https://localhost:8080/"
        },
        "id": "rv4DSHgaz30V",
        "outputId": "fd46539c-49ec-4f92-9142-798e2fcbfe21"
      },
      "execution_count": 116,
      "outputs": [
        {
          "output_type": "stream",
          "name": "stdout",
          "text": [
            "[1 2] 1 (2,)\n"
          ]
        }
      ]
    },
    {
      "cell_type": "code",
      "source": [
        "s3 = np.squeeze(d)\n",
        "print(s3, s3.ndim, s3.shape)"
      ],
      "metadata": {
        "colab": {
          "base_uri": "https://localhost:8080/"
        },
        "id": "hfLhTAvQ1zfr",
        "outputId": "c217885d-3032-4bad-f83e-56b0b4ec0dc7"
      },
      "execution_count": 117,
      "outputs": [
        {
          "output_type": "stream",
          "name": "stdout",
          "text": [
            "[1 2] 1 (2,)\n"
          ]
        }
      ]
    },
    {
      "cell_type": "code",
      "source": [
        " a = np.array([[1,2], \n",
        "               [3,4],\n",
        "               ])\n",
        " a1 = np.array([[1,2], \n",
        "               [3,4],\n",
        "               [5,6]\n",
        "               ])\n",
        " print(a.T)\n",
        " print(a1.T)"
      ],
      "metadata": {
        "colab": {
          "base_uri": "https://localhost:8080/"
        },
        "id": "TiAiufbI5kZe",
        "outputId": "1b81f06a-b6f9-4cd9-9e77-7b6d57308569"
      },
      "execution_count": 120,
      "outputs": [
        {
          "output_type": "stream",
          "name": "stdout",
          "text": [
            "[[1 3]\n",
            " [2 4]]\n",
            "[[1 3 5]\n",
            " [2 4 6]]\n"
          ]
        }
      ]
    },
    {
      "cell_type": "code",
      "source": [
        "a2 = np.full((3,2), 2)\n",
        "print(np.dot(a, a1.T))\n",
        "# print(np.dot(a, a1)) error\n",
        "print(a.shape, a1.shape, a1.T.shape)\n"
      ],
      "metadata": {
        "colab": {
          "base_uri": "https://localhost:8080/"
        },
        "id": "jFhWmjxm6f-s",
        "outputId": "6ed4542a-aaeb-4a97-e9f9-50f52380d89f"
      },
      "execution_count": 124,
      "outputs": [
        {
          "output_type": "stream",
          "name": "stdout",
          "text": [
            "[[ 5 11 17]\n",
            " [11 25 39]]\n",
            "(2, 2) (3, 2) (2, 3)\n"
          ]
        }
      ]
    },
    {
      "cell_type": "code",
      "source": [
        "a = [1,2,3,4,5,6,7,8]\n",
        "a.insert(2,50)\n",
        "print(a)"
      ],
      "metadata": {
        "colab": {
          "base_uri": "https://localhost:8080/"
        },
        "id": "_eiLHl7t7hsm",
        "outputId": "4dee5df9-b8fd-4452-f3c1-54480baad08e"
      },
      "execution_count": 126,
      "outputs": [
        {
          "output_type": "stream",
          "name": "stdout",
          "text": [
            "[1, 2, 50, 3, 4, 5, 6, 7, 8]\n"
          ]
        }
      ]
    },
    {
      "cell_type": "code",
      "source": [
        "a = np.arange(1,9)\n",
        "print(a)\n",
        "b = np.insert(a,2,50)\n",
        "print(b)"
      ],
      "metadata": {
        "colab": {
          "base_uri": "https://localhost:8080/"
        },
        "id": "yK055gry_R8C",
        "outputId": "6baf4eb1-243a-407e-c7ed-212ca25572d4"
      },
      "execution_count": 128,
      "outputs": [
        {
          "output_type": "stream",
          "name": "stdout",
          "text": [
            "[1 2 3 4 5 6 7 8]\n",
            "[ 1  2 50  3  4  5  6  7  8]\n"
          ]
        }
      ]
    },
    {
      "cell_type": "code",
      "source": [
        "a = np.arange(1,13).reshape(3,-1)\n",
        "print(a)\n",
        "b = np.insert(a, 2, 50, axis=0)\n",
        "print(b)\n",
        "c = np.insert(a, 2, 50, axis=1)\n",
        "print(c)"
      ],
      "metadata": {
        "colab": {
          "base_uri": "https://localhost:8080/"
        },
        "id": "5ZaGrWKj_c6-",
        "outputId": "86c5572f-dacd-48c9-ceea-aaa7cfe53640"
      },
      "execution_count": 131,
      "outputs": [
        {
          "output_type": "stream",
          "name": "stdout",
          "text": [
            "[[ 1  2  3  4]\n",
            " [ 5  6  7  8]\n",
            " [ 9 10 11 12]]\n",
            "[[ 1  2  3  4]\n",
            " [ 5  6  7  8]\n",
            " [50 50 50 50]\n",
            " [ 9 10 11 12]]\n",
            "[[ 1  2 50  3  4]\n",
            " [ 5  6 50  7  8]\n",
            " [ 9 10 50 11 12]]\n"
          ]
        }
      ]
    },
    {
      "cell_type": "code",
      "source": [
        "d = np.delete(c, 2, axis=0)\n",
        "print(d)"
      ],
      "metadata": {
        "colab": {
          "base_uri": "https://localhost:8080/"
        },
        "id": "xGoQh2xKAAvd",
        "outputId": "74ca1f94-d504-4a5b-b82b-6b55f51c11a7"
      },
      "execution_count": 134,
      "outputs": [
        {
          "output_type": "stream",
          "name": "stdout",
          "text": [
            "[[ 1  2 50  3  4]\n",
            " [ 5  6 50  7  8]]\n"
          ]
        }
      ]
    },
    {
      "cell_type": "code",
      "source": [
        "a1 = np.arange(1,13).reshape(3,4)\n",
        "a2 = np.arange(13,25).reshape(3,4)\n",
        "print(a1)\n",
        "print(a2)"
      ],
      "metadata": {
        "colab": {
          "base_uri": "https://localhost:8080/"
        },
        "id": "TMhwqAbU_tdC",
        "outputId": "4127e568-7ffd-485b-d325-8192f99eaea0"
      },
      "execution_count": 135,
      "outputs": [
        {
          "output_type": "stream",
          "name": "stdout",
          "text": [
            "[[ 1  2  3  4]\n",
            " [ 5  6  7  8]\n",
            " [ 9 10 11 12]]\n",
            "[[13 14 15 16]\n",
            " [17 18 19 20]\n",
            " [21 22 23 24]]\n"
          ]
        }
      ]
    },
    {
      "cell_type": "code",
      "source": [
        "a3 = np.append(a1,a2, axis=0)\n",
        "a4 = np.vstack((a1,a2))\n",
        "print(a3)\n",
        "print(a4)\n",
        "a5 = np.append(a1,a2, axis=1)\n",
        "a6 = np.hstack((a1,a2))\n",
        "print(a5)\n",
        "print(a6)\n"
      ],
      "metadata": {
        "colab": {
          "base_uri": "https://localhost:8080/"
        },
        "id": "zR0tDRa2AmnR",
        "outputId": "6ee4f912-8d0a-4977-a146-90b82c4f6f68"
      },
      "execution_count": 140,
      "outputs": [
        {
          "output_type": "stream",
          "name": "stdout",
          "text": [
            "[[ 1  2  3  4]\n",
            " [ 5  6  7  8]\n",
            " [ 9 10 11 12]\n",
            " [13 14 15 16]\n",
            " [17 18 19 20]\n",
            " [21 22 23 24]]\n",
            "[[ 1  2  3  4]\n",
            " [ 5  6  7  8]\n",
            " [ 9 10 11 12]\n",
            " [13 14 15 16]\n",
            " [17 18 19 20]\n",
            " [21 22 23 24]]\n",
            "[[ 1  2  3  4 13 14 15 16]\n",
            " [ 5  6  7  8 17 18 19 20]\n",
            " [ 9 10 11 12 21 22 23 24]]\n",
            "[[ 1  2  3  4 13 14 15 16]\n",
            " [ 5  6  7  8 17 18 19 20]\n",
            " [ 9 10 11 12 21 22 23 24]]\n"
          ]
        }
      ]
    },
    {
      "cell_type": "markdown",
      "source": [],
      "metadata": {
        "id": "Eig6nxsWE1Ef"
      }
    },
    {
      "cell_type": "code",
      "source": [
        "a7 = np.concatenate([a1, a2], axis=1)\n",
        "print(a7)"
      ],
      "metadata": {
        "colab": {
          "base_uri": "https://localhost:8080/"
        },
        "id": "wxt6umbiA7a1",
        "outputId": "e2f051f4-eec4-4568-d34c-baf97034c1af"
      },
      "execution_count": 141,
      "outputs": [
        {
          "output_type": "stream",
          "name": "stdout",
          "text": [
            "[[ 1  2  3  4 13 14 15 16]\n",
            " [ 5  6  7  8 17 18 19 20]\n",
            " [ 9 10 11 12 21 22 23 24]]\n"
          ]
        }
      ]
    },
    {
      "cell_type": "code",
      "source": [
        "#배열을 분할\n",
        "\n",
        "a = np.arange(1,13).reshape(3, -1)"
      ],
      "metadata": {
        "id": "tlSkaItxBhxz"
      },
      "execution_count": 142,
      "outputs": []
    },
    {
      "cell_type": "code",
      "source": [
        "print(a)\n",
        "a_split = np.vsplit(a, 3)\n",
        "print(a_split)"
      ],
      "metadata": {
        "colab": {
          "base_uri": "https://localhost:8080/"
        },
        "id": "8g5Ee2CBB6F3",
        "outputId": "f68b46df-0936-45b7-b96e-e00b7448f521"
      },
      "execution_count": 144,
      "outputs": [
        {
          "output_type": "stream",
          "name": "stdout",
          "text": [
            "[[ 1  2  3  4]\n",
            " [ 5  6  7  8]\n",
            " [ 9 10 11 12]]\n",
            "[array([[1, 2, 3, 4]]), array([[5, 6, 7, 8]]), array([[ 9, 10, 11, 12]])]\n"
          ]
        }
      ]
    },
    {
      "cell_type": "code",
      "source": [
        "a_split2 = np.hsplit(a,2)\n",
        "print(a_split2)"
      ],
      "metadata": {
        "colab": {
          "base_uri": "https://localhost:8080/"
        },
        "id": "axOskCozCDk1",
        "outputId": "fa0be74a-1c52-40b7-ff86-51455986f2f8"
      },
      "execution_count": 145,
      "outputs": [
        {
          "output_type": "stream",
          "name": "stdout",
          "text": [
            "[array([[ 1,  2],\n",
            "       [ 5,  6],\n",
            "       [ 9, 10]]), array([[ 3,  4],\n",
            "       [ 7,  8],\n",
            "       [11, 12]])]\n"
          ]
        }
      ]
    },
    {
      "cell_type": "code",
      "source": [
        "# 원소가 모두 3인 (3,4,5) 출력\n",
        "a = np.full((3,4,5), 3)"
      ],
      "metadata": {
        "id": "oarTSUNOCXq_"
      },
      "execution_count": 146,
      "outputs": []
    },
    {
      "cell_type": "code",
      "source": [
        "print(a)"
      ],
      "metadata": {
        "colab": {
          "base_uri": "https://localhost:8080/"
        },
        "id": "g2aVM8BCDUpM",
        "outputId": "36f614f4-e4de-41c6-ac24-09c4f091257e"
      },
      "execution_count": 147,
      "outputs": [
        {
          "output_type": "stream",
          "name": "stdout",
          "text": [
            "[[[3 3 3 3 3]\n",
            "  [3 3 3 3 3]\n",
            "  [3 3 3 3 3]\n",
            "  [3 3 3 3 3]]\n",
            "\n",
            " [[3 3 3 3 3]\n",
            "  [3 3 3 3 3]\n",
            "  [3 3 3 3 3]\n",
            "  [3 3 3 3 3]]\n",
            "\n",
            " [[3 3 3 3 3]\n",
            "  [3 3 3 3 3]\n",
            "  [3 3 3 3 3]\n",
            "  [3 3 3 3 3]]]\n"
          ]
        }
      ]
    },
    {
      "cell_type": "code",
      "source": [
        "# -50 에서 50 사이의 난수로 이루어진 (4,5) 형태의 numpy.array를 출력하고 행을 기준으로 오름차순 정렬한 결과와 전체 배열을 1차원 배열로 변경하여 오름차순 정렬한 결과를 출력하시요. \n",
        "\n",
        "a = np.random.randint(-50, 50, (4,5))\n",
        "print(a)\n",
        "b = np.sort(a, axis = 0)\n",
        "print(b)\n",
        "print(np.sort(a, axis=None))\n",
        "\n"
      ],
      "metadata": {
        "colab": {
          "base_uri": "https://localhost:8080/"
        },
        "id": "NOaPSFTDDXRc",
        "outputId": "241a80d8-67d8-404e-bfa1-d39f3f3d301c"
      },
      "execution_count": 151,
      "outputs": [
        {
          "output_type": "stream",
          "name": "stdout",
          "text": [
            "[[ 46  33 -25 -36 -37]\n",
            " [ 34  -7 -44  27   6]\n",
            " [  9 -35 -26 -41  16]\n",
            " [ 21   3  19 -14 -29]]\n",
            "[[  9 -35 -44 -41 -37]\n",
            " [ 21  -7 -26 -36 -29]\n",
            " [ 34   3 -25 -14   6]\n",
            " [ 46  33  19  27  16]]\n",
            "[-44 -41 -37 -36 -35 -29 -26 -25 -14  -7   3   6   9  16  19  21  27  33\n",
            "  34  46]\n"
          ]
        }
      ]
    },
    {
      "cell_type": "code",
      "source": [
        "#list 안에 있는 각 numpy.array 원소들의 평균값, 표준편차, 중앙값을 순서대로 구해서 리스트에 넣어 출력\n",
        "\n",
        "py_list = [\n",
        "    np.full(3,8),\n",
        "    np.array([33,-15,26]),\n",
        "    np.linspace(17,26,3)\n",
        "]\n",
        "print(np.mean(py_list))\n",
        "print(np.std(py_list))\n",
        "print(np.median (py_list))\n",
        "\n",
        "\n"
      ],
      "metadata": {
        "colab": {
          "base_uri": "https://localhost:8080/"
        },
        "id": "5xYBP4FaEca4",
        "outputId": "e2af59ba-55b7-4ca8-f376-d94fec130e46"
      },
      "execution_count": 152,
      "outputs": [
        {
          "output_type": "stream",
          "name": "stdout",
          "text": [
            "14.722222222222221\n",
            "13.57512248995507\n",
            "17.0\n"
          ]
        }
      ]
    },
    {
      "cell_type": "code",
      "source": [
        "all_list = []\n",
        "for ele_list in py_list:\n",
        "    all_list.append([np.mean(ele_list), \n",
        "                     np.std(ele_list), \n",
        "                     np.median(ele_list)])\n",
        "\n",
        "print(all_list)"
      ],
      "metadata": {
        "colab": {
          "base_uri": "https://localhost:8080/"
        },
        "id": "lmGopJG_GRZL",
        "outputId": "ca516bad-494a-46a3-8038-354a5b78e61d"
      },
      "execution_count": 156,
      "outputs": [
        {
          "output_type": "stream",
          "name": "stdout",
          "text": [
            "[[8.0, 0.0, 8.0], [14.666666666666666, 21.171259344267224, 26.0], [21.5, 3.6742346141747673, 21.5]]\n"
          ]
        }
      ]
    },
    {
      "cell_type": "code",
      "source": [
        "a = np.arange(2,20,2).reshape((3,3))\n",
        "print(a)\n",
        "\n",
        "# 주어진 리스트를 행을 기준으로 3개로 나눈후에 \n",
        "# 나누어진 값의 각 원소의 제곱값을 원래 리스트에 행을 기준으로 병합 \n",
        "\n",
        "b = np.split(a, 3, axis=0)\n",
        "print(b)\n",
        "c = np.square(b)\n",
        "print(c)\n",
        "d = np.squeeze(c, axis=1)\n",
        "print(d)\n",
        "e = np.concatenate((a, d), axis=0)\n",
        "print(e, a.shape, e.shape)\n",
        "\n"
      ],
      "metadata": {
        "colab": {
          "base_uri": "https://localhost:8080/"
        },
        "id": "_uXtBLwoGx0Q",
        "outputId": "f655c7d7-37e3-4f04-f80f-bfc512e25616"
      },
      "execution_count": 172,
      "outputs": [
        {
          "output_type": "stream",
          "name": "stdout",
          "text": [
            "[[ 2  4  6]\n",
            " [ 8 10 12]\n",
            " [14 16 18]]\n",
            "[array([[2, 4, 6]]), array([[ 8, 10, 12]]), array([[14, 16, 18]])]\n",
            "[[[  4  16  36]]\n",
            "\n",
            " [[ 64 100 144]]\n",
            "\n",
            " [[196 256 324]]]\n",
            "[[  4  16  36]\n",
            " [ 64 100 144]\n",
            " [196 256 324]]\n",
            "[[  2   4   6]\n",
            " [  8  10  12]\n",
            " [ 14  16  18]\n",
            " [  4  16  36]\n",
            " [ 64 100 144]\n",
            " [196 256 324]] (3, 3) (6, 3)\n"
          ]
        }
      ]
    },
    {
      "cell_type": "code",
      "source": [],
      "metadata": {
        "id": "TOvDiD0vIBlb"
      },
      "execution_count": null,
      "outputs": []
    }
  ]
}